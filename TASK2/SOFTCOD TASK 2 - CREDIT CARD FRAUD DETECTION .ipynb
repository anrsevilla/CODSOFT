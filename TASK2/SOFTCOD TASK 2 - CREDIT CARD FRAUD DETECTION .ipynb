{
 "cells": [
  {
   "cell_type": "markdown",
   "id": "ce5ed28e",
   "metadata": {},
   "source": [
    "# 1. Introduction"
   ]
  },
  {
   "cell_type": "markdown",
   "id": "9f46d173",
   "metadata": {},
   "source": [
    "This data analysis project was developed as part of my internship with CodSoft. I chose the Credit Card Fraud Detection dataset due to my strong interest in the banking and commercial sector. This interest is rooted in my professional background, having worked for ten years in the commercial department of a bank, where I was responsible for assessing clients repayment capacity. As a result, this project is particularly relevant to my experience and contributes significantly to the enrichment of my knowledge in the field.\n",
    "\n",
    "The primary objective of this dataset is to predict fraudulent credit card transactions, a task that has become increasingly critical in the financial industry due to the growing prevalence of digital payments. The entire project was carried out using Python within a Jupyter Notebook environment, allowing for efficient data manipulation, analysis, and model implementation."
   ]
  },
  {
   "cell_type": "markdown",
   "id": "5aa3c171",
   "metadata": {},
   "source": [
    "# 2. Dataset Description"
   ]
  },
  {
   "cell_type": "markdown",
   "id": "42c358cf",
   "metadata": {},
   "source": [
    "The dataset used for this project is the Credit Card Fraud Detection dataset, which was obtained from Kaggle. It contains 284,807 transactions made by European cardholders over a two-day period in September 2013. The dataset is highly imbalanced, with only 492 fraudulent transactions, representing approximately 0.172% of all transactions.\n",
    "\n",
    "All features in the dataset, except for 'Time' and 'Amount', have been transformed using Principal Component Analysis (PCA) for confidentiality reasons, and are labeled as V1 through V28. The 'Class' variable is the target feature, where 1 indicates a fraudulent transaction, and 0 indicates a legitimate one.\n",
    "\n",
    "Key characteristics of the dataset include:\n",
    "\n",
    "*Imbalanced classes, which pose a challenge for classification models.\n",
    "\n",
    "*Anonymized features, which prevent feature-level interpretation but simulate real-world privacy constraints.\n",
    "\n",
    "*No missing values, which simplifies preprocessing.\n",
    "\n",
    "This dataset provides a practical scenario for developing and evaluating fraud detection models in the financial sector."
   ]
  },
  {
   "cell_type": "markdown",
   "id": "18bbe9db",
   "metadata": {},
   "source": [
    "# 3. Data Dictionary"
   ]
  },
  {
   "cell_type": "markdown",
   "id": "1bb9f816",
   "metadata": {},
   "source": [
    "* **Time** : Number of seconds elapsed between this transaction and the first transaction in the dataset.\n",
    "* **V1-V28** : Principal components obtained with PCA. Dimensionality reduction to protect user identities and sensitive features.\n",
    "* **Amount** : Transaction amount.\n",
    "* **Class** : 1 for fraudulent transactions and  0 otherwise"
   ]
  },
  {
   "cell_type": "markdown",
   "id": "ad389870",
   "metadata": {},
   "source": [
    "# 4. Data Preprocessing"
   ]
  },
  {
   "cell_type": "markdown",
   "id": "f76a78e8",
   "metadata": {},
   "source": [
    "The first step in the data preprocessing stage involves importing the essential Python libraries required for data manipulation, analysis, and visualization. The libraries used include:\n",
    "\n",
    "**Pandas**: This library is fundamental for data manipulation and analysis. It provides data structures such as DataFrames, which are ideal for handling tabular data. Pandas allows for efficient reading, cleaning, and transformation of datasets.\n",
    "\n",
    "**NumPy**: NumPy is used for numerical computations. It offers support for large, multi-dimensional arrays and matrices, along with a collection of high-level mathematical functions. It is particularly useful for optimizing performance when performing element-wise operations on arrays.\n",
    "\n",
    "**Seaborn**: Built on top of Matplotlib, Seaborn is a powerful visualization library that simplifies the creation of informative and attractive statistical graphics. It is used in this project to better understand the distribution of data and relationships between variables, especially in the exploratory data analysis (EDA) stage.\n",
    "\n",
    "Importing these libraries is a necessary initial step, as they provide the core tools for exploring and preparing the data prior to building machine learning models."
   ]
  },
  {
   "cell_type": "code",
   "execution_count": 1,
   "id": "861c2ba5",
   "metadata": {},
   "outputs": [],
   "source": [
    "#Importing libraries\n",
    "import pandas as pd\n",
    "import seaborn as sns\n",
    "import numpy as np"
   ]
  },
  {
   "cell_type": "markdown",
   "id": "53ade335",
   "metadata": {},
   "source": [
    "After importing the necessary libraries, the next step is to load the dataset into the environment. This is done using Pandas, which allows the CSV file to be read and stored as a DataFrame for further analysis. The dataset is imported as follows:"
   ]
  },
  {
   "cell_type": "code",
   "execution_count": 2,
   "id": "96ccad7e",
   "metadata": {},
   "outputs": [],
   "source": [
    "#Importing Dataset\n",
    "df= pd.read_csv('creditcard.csv')"
   ]
  },
  {
   "cell_type": "markdown",
   "id": "bdf52bbb",
   "metadata": {},
   "source": [
    "# 5. Exploratory Data Analysis"
   ]
  },
  {
   "cell_type": "markdown",
   "id": "f441e3f7",
   "metadata": {},
   "source": [
    "Once loaded, initial inspection commands such as df.shape, df.columns, df.head(), df.info(), and df.describe() are used to obtain a general understanding of the structure and contents of the dataset. This includes checking the number of entries, data types, presence of null values, and basic statistical summaries of each feature.\n",
    "\n",
    "This step ensures that the data is properly imported and sets the foundation for further exploration and cleaning."
   ]
  },
  {
   "cell_type": "code",
   "execution_count": 3,
   "id": "6be920a9",
   "metadata": {},
   "outputs": [
    {
     "data": {
      "text/plain": [
       "(284807, 31)"
      ]
     },
     "execution_count": 3,
     "metadata": {},
     "output_type": "execute_result"
    }
   ],
   "source": [
    "df.shape"
   ]
  },
  {
   "cell_type": "code",
   "execution_count": 4,
   "id": "e99ae976",
   "metadata": {},
   "outputs": [
    {
     "data": {
      "text/plain": [
       "Index(['Time', 'V1', 'V2', 'V3', 'V4', 'V5', 'V6', 'V7', 'V8', 'V9', 'V10',\n",
       "       'V11', 'V12', 'V13', 'V14', 'V15', 'V16', 'V17', 'V18', 'V19', 'V20',\n",
       "       'V21', 'V22', 'V23', 'V24', 'V25', 'V26', 'V27', 'V28', 'Amount',\n",
       "       'Class'],\n",
       "      dtype='object')"
      ]
     },
     "execution_count": 4,
     "metadata": {},
     "output_type": "execute_result"
    }
   ],
   "source": [
    "df. columns"
   ]
  },
  {
   "cell_type": "code",
   "execution_count": 5,
   "id": "25712a02",
   "metadata": {},
   "outputs": [
    {
     "data": {
      "text/plain": [
       "<bound method DataFrame.info of             Time         V1         V2        V3        V4        V5  \\\n",
       "0            0.0  -1.359807  -0.072781  2.536347  1.378155 -0.338321   \n",
       "1            0.0   1.191857   0.266151  0.166480  0.448154  0.060018   \n",
       "2            1.0  -1.358354  -1.340163  1.773209  0.379780 -0.503198   \n",
       "3            1.0  -0.966272  -0.185226  1.792993 -0.863291 -0.010309   \n",
       "4            2.0  -1.158233   0.877737  1.548718  0.403034 -0.407193   \n",
       "...          ...        ...        ...       ...       ...       ...   \n",
       "284802  172786.0 -11.881118  10.071785 -9.834783 -2.066656 -5.364473   \n",
       "284803  172787.0  -0.732789  -0.055080  2.035030 -0.738589  0.868229   \n",
       "284804  172788.0   1.919565  -0.301254 -3.249640 -0.557828  2.630515   \n",
       "284805  172788.0  -0.240440   0.530483  0.702510  0.689799 -0.377961   \n",
       "284806  172792.0  -0.533413  -0.189733  0.703337 -0.506271 -0.012546   \n",
       "\n",
       "              V6        V7        V8        V9  ...       V21       V22  \\\n",
       "0       0.462388  0.239599  0.098698  0.363787  ... -0.018307  0.277838   \n",
       "1      -0.082361 -0.078803  0.085102 -0.255425  ... -0.225775 -0.638672   \n",
       "2       1.800499  0.791461  0.247676 -1.514654  ...  0.247998  0.771679   \n",
       "3       1.247203  0.237609  0.377436 -1.387024  ... -0.108300  0.005274   \n",
       "4       0.095921  0.592941 -0.270533  0.817739  ... -0.009431  0.798278   \n",
       "...          ...       ...       ...       ...  ...       ...       ...   \n",
       "284802 -2.606837 -4.918215  7.305334  1.914428  ...  0.213454  0.111864   \n",
       "284803  1.058415  0.024330  0.294869  0.584800  ...  0.214205  0.924384   \n",
       "284804  3.031260 -0.296827  0.708417  0.432454  ...  0.232045  0.578229   \n",
       "284805  0.623708 -0.686180  0.679145  0.392087  ...  0.265245  0.800049   \n",
       "284806 -0.649617  1.577006 -0.414650  0.486180  ...  0.261057  0.643078   \n",
       "\n",
       "             V23       V24       V25       V26       V27       V28  Amount  \\\n",
       "0      -0.110474  0.066928  0.128539 -0.189115  0.133558 -0.021053  149.62   \n",
       "1       0.101288 -0.339846  0.167170  0.125895 -0.008983  0.014724    2.69   \n",
       "2       0.909412 -0.689281 -0.327642 -0.139097 -0.055353 -0.059752  378.66   \n",
       "3      -0.190321 -1.175575  0.647376 -0.221929  0.062723  0.061458  123.50   \n",
       "4      -0.137458  0.141267 -0.206010  0.502292  0.219422  0.215153   69.99   \n",
       "...          ...       ...       ...       ...       ...       ...     ...   \n",
       "284802  1.014480 -0.509348  1.436807  0.250034  0.943651  0.823731    0.77   \n",
       "284803  0.012463 -1.016226 -0.606624 -0.395255  0.068472 -0.053527   24.79   \n",
       "284804 -0.037501  0.640134  0.265745 -0.087371  0.004455 -0.026561   67.88   \n",
       "284805 -0.163298  0.123205 -0.569159  0.546668  0.108821  0.104533   10.00   \n",
       "284806  0.376777  0.008797 -0.473649 -0.818267 -0.002415  0.013649  217.00   \n",
       "\n",
       "        Class  \n",
       "0           0  \n",
       "1           0  \n",
       "2           0  \n",
       "3           0  \n",
       "4           0  \n",
       "...       ...  \n",
       "284802      0  \n",
       "284803      0  \n",
       "284804      0  \n",
       "284805      0  \n",
       "284806      0  \n",
       "\n",
       "[284807 rows x 31 columns]>"
      ]
     },
     "execution_count": 5,
     "metadata": {},
     "output_type": "execute_result"
    }
   ],
   "source": [
    "df.info"
   ]
  },
  {
   "cell_type": "markdown",
   "id": "9cfe55a4",
   "metadata": {},
   "source": [
    "Upon importing the dataset, an initial inspection reveals that it contains 284,807 rows and 31 columns, representing individual credit card transactions and their associated features. The column names include:\n",
    "\n",
    "**Time**: Indicates the seconds elapsed between the first transaction and the current one.\n",
    "\n",
    "**‘V1’ through ‘V28’**: These are the result of a Principal Component Analysis (PCA) transformation applied to the original features to preserve confidentiality. Their exact meanings are unknown, but they represent components that capture the most variance in the original data.\n",
    "\n",
    "**Amount**: The transaction amount.\n",
    "\n",
    "**Class**: The target variable, where 1 indicates a fraudulent transaction and 0 indicates a legitimate one."
   ]
  },
  {
   "cell_type": "code",
   "execution_count": 6,
   "id": "8abf2a44",
   "metadata": {},
   "outputs": [
    {
     "data": {
      "text/html": [
       "<div>\n",
       "<style scoped>\n",
       "    .dataframe tbody tr th:only-of-type {\n",
       "        vertical-align: middle;\n",
       "    }\n",
       "\n",
       "    .dataframe tbody tr th {\n",
       "        vertical-align: top;\n",
       "    }\n",
       "\n",
       "    .dataframe thead th {\n",
       "        text-align: right;\n",
       "    }\n",
       "</style>\n",
       "<table border=\"1\" class=\"dataframe\">\n",
       "  <thead>\n",
       "    <tr style=\"text-align: right;\">\n",
       "      <th></th>\n",
       "      <th>Time</th>\n",
       "      <th>V1</th>\n",
       "      <th>V2</th>\n",
       "      <th>V3</th>\n",
       "      <th>V4</th>\n",
       "      <th>V5</th>\n",
       "      <th>V6</th>\n",
       "      <th>V7</th>\n",
       "      <th>V8</th>\n",
       "      <th>V9</th>\n",
       "      <th>...</th>\n",
       "      <th>V21</th>\n",
       "      <th>V22</th>\n",
       "      <th>V23</th>\n",
       "      <th>V24</th>\n",
       "      <th>V25</th>\n",
       "      <th>V26</th>\n",
       "      <th>V27</th>\n",
       "      <th>V28</th>\n",
       "      <th>Amount</th>\n",
       "      <th>Class</th>\n",
       "    </tr>\n",
       "  </thead>\n",
       "  <tbody>\n",
       "    <tr>\n",
       "      <th>0</th>\n",
       "      <td>0.0</td>\n",
       "      <td>-1.359807</td>\n",
       "      <td>-0.072781</td>\n",
       "      <td>2.536347</td>\n",
       "      <td>1.378155</td>\n",
       "      <td>-0.338321</td>\n",
       "      <td>0.462388</td>\n",
       "      <td>0.239599</td>\n",
       "      <td>0.098698</td>\n",
       "      <td>0.363787</td>\n",
       "      <td>...</td>\n",
       "      <td>-0.018307</td>\n",
       "      <td>0.277838</td>\n",
       "      <td>-0.110474</td>\n",
       "      <td>0.066928</td>\n",
       "      <td>0.128539</td>\n",
       "      <td>-0.189115</td>\n",
       "      <td>0.133558</td>\n",
       "      <td>-0.021053</td>\n",
       "      <td>149.62</td>\n",
       "      <td>0</td>\n",
       "    </tr>\n",
       "    <tr>\n",
       "      <th>1</th>\n",
       "      <td>0.0</td>\n",
       "      <td>1.191857</td>\n",
       "      <td>0.266151</td>\n",
       "      <td>0.166480</td>\n",
       "      <td>0.448154</td>\n",
       "      <td>0.060018</td>\n",
       "      <td>-0.082361</td>\n",
       "      <td>-0.078803</td>\n",
       "      <td>0.085102</td>\n",
       "      <td>-0.255425</td>\n",
       "      <td>...</td>\n",
       "      <td>-0.225775</td>\n",
       "      <td>-0.638672</td>\n",
       "      <td>0.101288</td>\n",
       "      <td>-0.339846</td>\n",
       "      <td>0.167170</td>\n",
       "      <td>0.125895</td>\n",
       "      <td>-0.008983</td>\n",
       "      <td>0.014724</td>\n",
       "      <td>2.69</td>\n",
       "      <td>0</td>\n",
       "    </tr>\n",
       "    <tr>\n",
       "      <th>2</th>\n",
       "      <td>1.0</td>\n",
       "      <td>-1.358354</td>\n",
       "      <td>-1.340163</td>\n",
       "      <td>1.773209</td>\n",
       "      <td>0.379780</td>\n",
       "      <td>-0.503198</td>\n",
       "      <td>1.800499</td>\n",
       "      <td>0.791461</td>\n",
       "      <td>0.247676</td>\n",
       "      <td>-1.514654</td>\n",
       "      <td>...</td>\n",
       "      <td>0.247998</td>\n",
       "      <td>0.771679</td>\n",
       "      <td>0.909412</td>\n",
       "      <td>-0.689281</td>\n",
       "      <td>-0.327642</td>\n",
       "      <td>-0.139097</td>\n",
       "      <td>-0.055353</td>\n",
       "      <td>-0.059752</td>\n",
       "      <td>378.66</td>\n",
       "      <td>0</td>\n",
       "    </tr>\n",
       "    <tr>\n",
       "      <th>3</th>\n",
       "      <td>1.0</td>\n",
       "      <td>-0.966272</td>\n",
       "      <td>-0.185226</td>\n",
       "      <td>1.792993</td>\n",
       "      <td>-0.863291</td>\n",
       "      <td>-0.010309</td>\n",
       "      <td>1.247203</td>\n",
       "      <td>0.237609</td>\n",
       "      <td>0.377436</td>\n",
       "      <td>-1.387024</td>\n",
       "      <td>...</td>\n",
       "      <td>-0.108300</td>\n",
       "      <td>0.005274</td>\n",
       "      <td>-0.190321</td>\n",
       "      <td>-1.175575</td>\n",
       "      <td>0.647376</td>\n",
       "      <td>-0.221929</td>\n",
       "      <td>0.062723</td>\n",
       "      <td>0.061458</td>\n",
       "      <td>123.50</td>\n",
       "      <td>0</td>\n",
       "    </tr>\n",
       "    <tr>\n",
       "      <th>4</th>\n",
       "      <td>2.0</td>\n",
       "      <td>-1.158233</td>\n",
       "      <td>0.877737</td>\n",
       "      <td>1.548718</td>\n",
       "      <td>0.403034</td>\n",
       "      <td>-0.407193</td>\n",
       "      <td>0.095921</td>\n",
       "      <td>0.592941</td>\n",
       "      <td>-0.270533</td>\n",
       "      <td>0.817739</td>\n",
       "      <td>...</td>\n",
       "      <td>-0.009431</td>\n",
       "      <td>0.798278</td>\n",
       "      <td>-0.137458</td>\n",
       "      <td>0.141267</td>\n",
       "      <td>-0.206010</td>\n",
       "      <td>0.502292</td>\n",
       "      <td>0.219422</td>\n",
       "      <td>0.215153</td>\n",
       "      <td>69.99</td>\n",
       "      <td>0</td>\n",
       "    </tr>\n",
       "    <tr>\n",
       "      <th>5</th>\n",
       "      <td>2.0</td>\n",
       "      <td>-0.425966</td>\n",
       "      <td>0.960523</td>\n",
       "      <td>1.141109</td>\n",
       "      <td>-0.168252</td>\n",
       "      <td>0.420987</td>\n",
       "      <td>-0.029728</td>\n",
       "      <td>0.476201</td>\n",
       "      <td>0.260314</td>\n",
       "      <td>-0.568671</td>\n",
       "      <td>...</td>\n",
       "      <td>-0.208254</td>\n",
       "      <td>-0.559825</td>\n",
       "      <td>-0.026398</td>\n",
       "      <td>-0.371427</td>\n",
       "      <td>-0.232794</td>\n",
       "      <td>0.105915</td>\n",
       "      <td>0.253844</td>\n",
       "      <td>0.081080</td>\n",
       "      <td>3.67</td>\n",
       "      <td>0</td>\n",
       "    </tr>\n",
       "    <tr>\n",
       "      <th>6</th>\n",
       "      <td>4.0</td>\n",
       "      <td>1.229658</td>\n",
       "      <td>0.141004</td>\n",
       "      <td>0.045371</td>\n",
       "      <td>1.202613</td>\n",
       "      <td>0.191881</td>\n",
       "      <td>0.272708</td>\n",
       "      <td>-0.005159</td>\n",
       "      <td>0.081213</td>\n",
       "      <td>0.464960</td>\n",
       "      <td>...</td>\n",
       "      <td>-0.167716</td>\n",
       "      <td>-0.270710</td>\n",
       "      <td>-0.154104</td>\n",
       "      <td>-0.780055</td>\n",
       "      <td>0.750137</td>\n",
       "      <td>-0.257237</td>\n",
       "      <td>0.034507</td>\n",
       "      <td>0.005168</td>\n",
       "      <td>4.99</td>\n",
       "      <td>0</td>\n",
       "    </tr>\n",
       "    <tr>\n",
       "      <th>7</th>\n",
       "      <td>7.0</td>\n",
       "      <td>-0.644269</td>\n",
       "      <td>1.417964</td>\n",
       "      <td>1.074380</td>\n",
       "      <td>-0.492199</td>\n",
       "      <td>0.948934</td>\n",
       "      <td>0.428118</td>\n",
       "      <td>1.120631</td>\n",
       "      <td>-3.807864</td>\n",
       "      <td>0.615375</td>\n",
       "      <td>...</td>\n",
       "      <td>1.943465</td>\n",
       "      <td>-1.015455</td>\n",
       "      <td>0.057504</td>\n",
       "      <td>-0.649709</td>\n",
       "      <td>-0.415267</td>\n",
       "      <td>-0.051634</td>\n",
       "      <td>-1.206921</td>\n",
       "      <td>-1.085339</td>\n",
       "      <td>40.80</td>\n",
       "      <td>0</td>\n",
       "    </tr>\n",
       "    <tr>\n",
       "      <th>8</th>\n",
       "      <td>7.0</td>\n",
       "      <td>-0.894286</td>\n",
       "      <td>0.286157</td>\n",
       "      <td>-0.113192</td>\n",
       "      <td>-0.271526</td>\n",
       "      <td>2.669599</td>\n",
       "      <td>3.721818</td>\n",
       "      <td>0.370145</td>\n",
       "      <td>0.851084</td>\n",
       "      <td>-0.392048</td>\n",
       "      <td>...</td>\n",
       "      <td>-0.073425</td>\n",
       "      <td>-0.268092</td>\n",
       "      <td>-0.204233</td>\n",
       "      <td>1.011592</td>\n",
       "      <td>0.373205</td>\n",
       "      <td>-0.384157</td>\n",
       "      <td>0.011747</td>\n",
       "      <td>0.142404</td>\n",
       "      <td>93.20</td>\n",
       "      <td>0</td>\n",
       "    </tr>\n",
       "    <tr>\n",
       "      <th>9</th>\n",
       "      <td>9.0</td>\n",
       "      <td>-0.338262</td>\n",
       "      <td>1.119593</td>\n",
       "      <td>1.044367</td>\n",
       "      <td>-0.222187</td>\n",
       "      <td>0.499361</td>\n",
       "      <td>-0.246761</td>\n",
       "      <td>0.651583</td>\n",
       "      <td>0.069539</td>\n",
       "      <td>-0.736727</td>\n",
       "      <td>...</td>\n",
       "      <td>-0.246914</td>\n",
       "      <td>-0.633753</td>\n",
       "      <td>-0.120794</td>\n",
       "      <td>-0.385050</td>\n",
       "      <td>-0.069733</td>\n",
       "      <td>0.094199</td>\n",
       "      <td>0.246219</td>\n",
       "      <td>0.083076</td>\n",
       "      <td>3.68</td>\n",
       "      <td>0</td>\n",
       "    </tr>\n",
       "    <tr>\n",
       "      <th>10</th>\n",
       "      <td>10.0</td>\n",
       "      <td>1.449044</td>\n",
       "      <td>-1.176339</td>\n",
       "      <td>0.913860</td>\n",
       "      <td>-1.375667</td>\n",
       "      <td>-1.971383</td>\n",
       "      <td>-0.629152</td>\n",
       "      <td>-1.423236</td>\n",
       "      <td>0.048456</td>\n",
       "      <td>-1.720408</td>\n",
       "      <td>...</td>\n",
       "      <td>-0.009302</td>\n",
       "      <td>0.313894</td>\n",
       "      <td>0.027740</td>\n",
       "      <td>0.500512</td>\n",
       "      <td>0.251367</td>\n",
       "      <td>-0.129478</td>\n",
       "      <td>0.042850</td>\n",
       "      <td>0.016253</td>\n",
       "      <td>7.80</td>\n",
       "      <td>0</td>\n",
       "    </tr>\n",
       "    <tr>\n",
       "      <th>11</th>\n",
       "      <td>10.0</td>\n",
       "      <td>0.384978</td>\n",
       "      <td>0.616109</td>\n",
       "      <td>-0.874300</td>\n",
       "      <td>-0.094019</td>\n",
       "      <td>2.924584</td>\n",
       "      <td>3.317027</td>\n",
       "      <td>0.470455</td>\n",
       "      <td>0.538247</td>\n",
       "      <td>-0.558895</td>\n",
       "      <td>...</td>\n",
       "      <td>0.049924</td>\n",
       "      <td>0.238422</td>\n",
       "      <td>0.009130</td>\n",
       "      <td>0.996710</td>\n",
       "      <td>-0.767315</td>\n",
       "      <td>-0.492208</td>\n",
       "      <td>0.042472</td>\n",
       "      <td>-0.054337</td>\n",
       "      <td>9.99</td>\n",
       "      <td>0</td>\n",
       "    </tr>\n",
       "    <tr>\n",
       "      <th>12</th>\n",
       "      <td>10.0</td>\n",
       "      <td>1.249999</td>\n",
       "      <td>-1.221637</td>\n",
       "      <td>0.383930</td>\n",
       "      <td>-1.234899</td>\n",
       "      <td>-1.485419</td>\n",
       "      <td>-0.753230</td>\n",
       "      <td>-0.689405</td>\n",
       "      <td>-0.227487</td>\n",
       "      <td>-2.094011</td>\n",
       "      <td>...</td>\n",
       "      <td>-0.231809</td>\n",
       "      <td>-0.483285</td>\n",
       "      <td>0.084668</td>\n",
       "      <td>0.392831</td>\n",
       "      <td>0.161135</td>\n",
       "      <td>-0.354990</td>\n",
       "      <td>0.026416</td>\n",
       "      <td>0.042422</td>\n",
       "      <td>121.50</td>\n",
       "      <td>0</td>\n",
       "    </tr>\n",
       "    <tr>\n",
       "      <th>13</th>\n",
       "      <td>11.0</td>\n",
       "      <td>1.069374</td>\n",
       "      <td>0.287722</td>\n",
       "      <td>0.828613</td>\n",
       "      <td>2.712520</td>\n",
       "      <td>-0.178398</td>\n",
       "      <td>0.337544</td>\n",
       "      <td>-0.096717</td>\n",
       "      <td>0.115982</td>\n",
       "      <td>-0.221083</td>\n",
       "      <td>...</td>\n",
       "      <td>-0.036876</td>\n",
       "      <td>0.074412</td>\n",
       "      <td>-0.071407</td>\n",
       "      <td>0.104744</td>\n",
       "      <td>0.548265</td>\n",
       "      <td>0.104094</td>\n",
       "      <td>0.021491</td>\n",
       "      <td>0.021293</td>\n",
       "      <td>27.50</td>\n",
       "      <td>0</td>\n",
       "    </tr>\n",
       "    <tr>\n",
       "      <th>14</th>\n",
       "      <td>12.0</td>\n",
       "      <td>-2.791855</td>\n",
       "      <td>-0.327771</td>\n",
       "      <td>1.641750</td>\n",
       "      <td>1.767473</td>\n",
       "      <td>-0.136588</td>\n",
       "      <td>0.807596</td>\n",
       "      <td>-0.422911</td>\n",
       "      <td>-1.907107</td>\n",
       "      <td>0.755713</td>\n",
       "      <td>...</td>\n",
       "      <td>1.151663</td>\n",
       "      <td>0.222182</td>\n",
       "      <td>1.020586</td>\n",
       "      <td>0.028317</td>\n",
       "      <td>-0.232746</td>\n",
       "      <td>-0.235557</td>\n",
       "      <td>-0.164778</td>\n",
       "      <td>-0.030154</td>\n",
       "      <td>58.80</td>\n",
       "      <td>0</td>\n",
       "    </tr>\n",
       "  </tbody>\n",
       "</table>\n",
       "<p>15 rows × 31 columns</p>\n",
       "</div>"
      ],
      "text/plain": [
       "    Time        V1        V2        V3        V4        V5        V6  \\\n",
       "0    0.0 -1.359807 -0.072781  2.536347  1.378155 -0.338321  0.462388   \n",
       "1    0.0  1.191857  0.266151  0.166480  0.448154  0.060018 -0.082361   \n",
       "2    1.0 -1.358354 -1.340163  1.773209  0.379780 -0.503198  1.800499   \n",
       "3    1.0 -0.966272 -0.185226  1.792993 -0.863291 -0.010309  1.247203   \n",
       "4    2.0 -1.158233  0.877737  1.548718  0.403034 -0.407193  0.095921   \n",
       "5    2.0 -0.425966  0.960523  1.141109 -0.168252  0.420987 -0.029728   \n",
       "6    4.0  1.229658  0.141004  0.045371  1.202613  0.191881  0.272708   \n",
       "7    7.0 -0.644269  1.417964  1.074380 -0.492199  0.948934  0.428118   \n",
       "8    7.0 -0.894286  0.286157 -0.113192 -0.271526  2.669599  3.721818   \n",
       "9    9.0 -0.338262  1.119593  1.044367 -0.222187  0.499361 -0.246761   \n",
       "10  10.0  1.449044 -1.176339  0.913860 -1.375667 -1.971383 -0.629152   \n",
       "11  10.0  0.384978  0.616109 -0.874300 -0.094019  2.924584  3.317027   \n",
       "12  10.0  1.249999 -1.221637  0.383930 -1.234899 -1.485419 -0.753230   \n",
       "13  11.0  1.069374  0.287722  0.828613  2.712520 -0.178398  0.337544   \n",
       "14  12.0 -2.791855 -0.327771  1.641750  1.767473 -0.136588  0.807596   \n",
       "\n",
       "          V7        V8        V9  ...       V21       V22       V23       V24  \\\n",
       "0   0.239599  0.098698  0.363787  ... -0.018307  0.277838 -0.110474  0.066928   \n",
       "1  -0.078803  0.085102 -0.255425  ... -0.225775 -0.638672  0.101288 -0.339846   \n",
       "2   0.791461  0.247676 -1.514654  ...  0.247998  0.771679  0.909412 -0.689281   \n",
       "3   0.237609  0.377436 -1.387024  ... -0.108300  0.005274 -0.190321 -1.175575   \n",
       "4   0.592941 -0.270533  0.817739  ... -0.009431  0.798278 -0.137458  0.141267   \n",
       "5   0.476201  0.260314 -0.568671  ... -0.208254 -0.559825 -0.026398 -0.371427   \n",
       "6  -0.005159  0.081213  0.464960  ... -0.167716 -0.270710 -0.154104 -0.780055   \n",
       "7   1.120631 -3.807864  0.615375  ...  1.943465 -1.015455  0.057504 -0.649709   \n",
       "8   0.370145  0.851084 -0.392048  ... -0.073425 -0.268092 -0.204233  1.011592   \n",
       "9   0.651583  0.069539 -0.736727  ... -0.246914 -0.633753 -0.120794 -0.385050   \n",
       "10 -1.423236  0.048456 -1.720408  ... -0.009302  0.313894  0.027740  0.500512   \n",
       "11  0.470455  0.538247 -0.558895  ...  0.049924  0.238422  0.009130  0.996710   \n",
       "12 -0.689405 -0.227487 -2.094011  ... -0.231809 -0.483285  0.084668  0.392831   \n",
       "13 -0.096717  0.115982 -0.221083  ... -0.036876  0.074412 -0.071407  0.104744   \n",
       "14 -0.422911 -1.907107  0.755713  ...  1.151663  0.222182  1.020586  0.028317   \n",
       "\n",
       "         V25       V26       V27       V28  Amount  Class  \n",
       "0   0.128539 -0.189115  0.133558 -0.021053  149.62      0  \n",
       "1   0.167170  0.125895 -0.008983  0.014724    2.69      0  \n",
       "2  -0.327642 -0.139097 -0.055353 -0.059752  378.66      0  \n",
       "3   0.647376 -0.221929  0.062723  0.061458  123.50      0  \n",
       "4  -0.206010  0.502292  0.219422  0.215153   69.99      0  \n",
       "5  -0.232794  0.105915  0.253844  0.081080    3.67      0  \n",
       "6   0.750137 -0.257237  0.034507  0.005168    4.99      0  \n",
       "7  -0.415267 -0.051634 -1.206921 -1.085339   40.80      0  \n",
       "8   0.373205 -0.384157  0.011747  0.142404   93.20      0  \n",
       "9  -0.069733  0.094199  0.246219  0.083076    3.68      0  \n",
       "10  0.251367 -0.129478  0.042850  0.016253    7.80      0  \n",
       "11 -0.767315 -0.492208  0.042472 -0.054337    9.99      0  \n",
       "12  0.161135 -0.354990  0.026416  0.042422  121.50      0  \n",
       "13  0.548265  0.104094  0.021491  0.021293   27.50      0  \n",
       "14 -0.232746 -0.235557 -0.164778 -0.030154   58.80      0  \n",
       "\n",
       "[15 rows x 31 columns]"
      ]
     },
     "execution_count": 6,
     "metadata": {},
     "output_type": "execute_result"
    }
   ],
   "source": [
    "df.head(15)"
   ]
  },
  {
   "cell_type": "markdown",
   "id": "c0b40464",
   "metadata": {},
   "source": [
    "Notably, all features in the dataset are numerical, which significantly facilitates the development of machine learning models. Since no categorical encoding or transformation is required, this allows for a more direct and efficient application of algorithms such as Random Forest or Gradient Boosting classifiers.\n",
    "\n",
    "This foundational understanding of the dataset helps shape the direction of subsequent stages, including data cleaning, exploratory analysis, and model development.\n",
    "\n",
    "\n",
    "To improve data readability and facilitate the analysis process, the columns were reordered such that ‘Time’, ‘Amount’, and ‘Class’ appear at the beginning of the DataFrame. These columns are particularly important for both understanding transaction context and for model training, as ‘Time’ and ‘Amount’ are the only non-anonymized features, and ‘Class’ is the target variable.\n",
    "\n",
    "This reordering step allows for easier access to key variables during the exploratory analysis and modeling phases, especially when visualizing or evaluating model predictions."
   ]
  },
  {
   "cell_type": "code",
   "execution_count": 7,
   "id": "a0621fbf",
   "metadata": {},
   "outputs": [
    {
     "data": {
      "text/html": [
       "<div>\n",
       "<style scoped>\n",
       "    .dataframe tbody tr th:only-of-type {\n",
       "        vertical-align: middle;\n",
       "    }\n",
       "\n",
       "    .dataframe tbody tr th {\n",
       "        vertical-align: top;\n",
       "    }\n",
       "\n",
       "    .dataframe thead th {\n",
       "        text-align: right;\n",
       "    }\n",
       "</style>\n",
       "<table border=\"1\" class=\"dataframe\">\n",
       "  <thead>\n",
       "    <tr style=\"text-align: right;\">\n",
       "      <th></th>\n",
       "      <th>Time</th>\n",
       "      <th>Amount</th>\n",
       "      <th>Class</th>\n",
       "      <th>V1</th>\n",
       "      <th>V2</th>\n",
       "      <th>V3</th>\n",
       "      <th>V4</th>\n",
       "      <th>V5</th>\n",
       "      <th>V6</th>\n",
       "      <th>V7</th>\n",
       "      <th>...</th>\n",
       "      <th>V19</th>\n",
       "      <th>V20</th>\n",
       "      <th>V21</th>\n",
       "      <th>V22</th>\n",
       "      <th>V23</th>\n",
       "      <th>V24</th>\n",
       "      <th>V25</th>\n",
       "      <th>V26</th>\n",
       "      <th>V27</th>\n",
       "      <th>V28</th>\n",
       "    </tr>\n",
       "  </thead>\n",
       "  <tbody>\n",
       "    <tr>\n",
       "      <th>0</th>\n",
       "      <td>0.0</td>\n",
       "      <td>149.62</td>\n",
       "      <td>0</td>\n",
       "      <td>-1.359807</td>\n",
       "      <td>-0.072781</td>\n",
       "      <td>2.536347</td>\n",
       "      <td>1.378155</td>\n",
       "      <td>-0.338321</td>\n",
       "      <td>0.462388</td>\n",
       "      <td>0.239599</td>\n",
       "      <td>...</td>\n",
       "      <td>0.403993</td>\n",
       "      <td>0.251412</td>\n",
       "      <td>-0.018307</td>\n",
       "      <td>0.277838</td>\n",
       "      <td>-0.110474</td>\n",
       "      <td>0.066928</td>\n",
       "      <td>0.128539</td>\n",
       "      <td>-0.189115</td>\n",
       "      <td>0.133558</td>\n",
       "      <td>-0.021053</td>\n",
       "    </tr>\n",
       "    <tr>\n",
       "      <th>1</th>\n",
       "      <td>0.0</td>\n",
       "      <td>2.69</td>\n",
       "      <td>0</td>\n",
       "      <td>1.191857</td>\n",
       "      <td>0.266151</td>\n",
       "      <td>0.166480</td>\n",
       "      <td>0.448154</td>\n",
       "      <td>0.060018</td>\n",
       "      <td>-0.082361</td>\n",
       "      <td>-0.078803</td>\n",
       "      <td>...</td>\n",
       "      <td>-0.145783</td>\n",
       "      <td>-0.069083</td>\n",
       "      <td>-0.225775</td>\n",
       "      <td>-0.638672</td>\n",
       "      <td>0.101288</td>\n",
       "      <td>-0.339846</td>\n",
       "      <td>0.167170</td>\n",
       "      <td>0.125895</td>\n",
       "      <td>-0.008983</td>\n",
       "      <td>0.014724</td>\n",
       "    </tr>\n",
       "    <tr>\n",
       "      <th>2</th>\n",
       "      <td>1.0</td>\n",
       "      <td>378.66</td>\n",
       "      <td>0</td>\n",
       "      <td>-1.358354</td>\n",
       "      <td>-1.340163</td>\n",
       "      <td>1.773209</td>\n",
       "      <td>0.379780</td>\n",
       "      <td>-0.503198</td>\n",
       "      <td>1.800499</td>\n",
       "      <td>0.791461</td>\n",
       "      <td>...</td>\n",
       "      <td>-2.261857</td>\n",
       "      <td>0.524980</td>\n",
       "      <td>0.247998</td>\n",
       "      <td>0.771679</td>\n",
       "      <td>0.909412</td>\n",
       "      <td>-0.689281</td>\n",
       "      <td>-0.327642</td>\n",
       "      <td>-0.139097</td>\n",
       "      <td>-0.055353</td>\n",
       "      <td>-0.059752</td>\n",
       "    </tr>\n",
       "    <tr>\n",
       "      <th>3</th>\n",
       "      <td>1.0</td>\n",
       "      <td>123.50</td>\n",
       "      <td>0</td>\n",
       "      <td>-0.966272</td>\n",
       "      <td>-0.185226</td>\n",
       "      <td>1.792993</td>\n",
       "      <td>-0.863291</td>\n",
       "      <td>-0.010309</td>\n",
       "      <td>1.247203</td>\n",
       "      <td>0.237609</td>\n",
       "      <td>...</td>\n",
       "      <td>-1.232622</td>\n",
       "      <td>-0.208038</td>\n",
       "      <td>-0.108300</td>\n",
       "      <td>0.005274</td>\n",
       "      <td>-0.190321</td>\n",
       "      <td>-1.175575</td>\n",
       "      <td>0.647376</td>\n",
       "      <td>-0.221929</td>\n",
       "      <td>0.062723</td>\n",
       "      <td>0.061458</td>\n",
       "    </tr>\n",
       "    <tr>\n",
       "      <th>4</th>\n",
       "      <td>2.0</td>\n",
       "      <td>69.99</td>\n",
       "      <td>0</td>\n",
       "      <td>-1.158233</td>\n",
       "      <td>0.877737</td>\n",
       "      <td>1.548718</td>\n",
       "      <td>0.403034</td>\n",
       "      <td>-0.407193</td>\n",
       "      <td>0.095921</td>\n",
       "      <td>0.592941</td>\n",
       "      <td>...</td>\n",
       "      <td>0.803487</td>\n",
       "      <td>0.408542</td>\n",
       "      <td>-0.009431</td>\n",
       "      <td>0.798278</td>\n",
       "      <td>-0.137458</td>\n",
       "      <td>0.141267</td>\n",
       "      <td>-0.206010</td>\n",
       "      <td>0.502292</td>\n",
       "      <td>0.219422</td>\n",
       "      <td>0.215153</td>\n",
       "    </tr>\n",
       "  </tbody>\n",
       "</table>\n",
       "<p>5 rows × 31 columns</p>\n",
       "</div>"
      ],
      "text/plain": [
       "   Time  Amount  Class        V1        V2        V3        V4        V5  \\\n",
       "0   0.0  149.62      0 -1.359807 -0.072781  2.536347  1.378155 -0.338321   \n",
       "1   0.0    2.69      0  1.191857  0.266151  0.166480  0.448154  0.060018   \n",
       "2   1.0  378.66      0 -1.358354 -1.340163  1.773209  0.379780 -0.503198   \n",
       "3   1.0  123.50      0 -0.966272 -0.185226  1.792993 -0.863291 -0.010309   \n",
       "4   2.0   69.99      0 -1.158233  0.877737  1.548718  0.403034 -0.407193   \n",
       "\n",
       "         V6        V7  ...       V19       V20       V21       V22       V23  \\\n",
       "0  0.462388  0.239599  ...  0.403993  0.251412 -0.018307  0.277838 -0.110474   \n",
       "1 -0.082361 -0.078803  ... -0.145783 -0.069083 -0.225775 -0.638672  0.101288   \n",
       "2  1.800499  0.791461  ... -2.261857  0.524980  0.247998  0.771679  0.909412   \n",
       "3  1.247203  0.237609  ... -1.232622 -0.208038 -0.108300  0.005274 -0.190321   \n",
       "4  0.095921  0.592941  ...  0.803487  0.408542 -0.009431  0.798278 -0.137458   \n",
       "\n",
       "        V24       V25       V26       V27       V28  \n",
       "0  0.066928  0.128539 -0.189115  0.133558 -0.021053  \n",
       "1 -0.339846  0.167170  0.125895 -0.008983  0.014724  \n",
       "2 -0.689281 -0.327642 -0.139097 -0.055353 -0.059752  \n",
       "3 -1.175575  0.647376 -0.221929  0.062723  0.061458  \n",
       "4  0.141267 -0.206010  0.502292  0.219422  0.215153  \n",
       "\n",
       "[5 rows x 31 columns]"
      ]
     },
     "execution_count": 7,
     "metadata": {},
     "output_type": "execute_result"
    }
   ],
   "source": [
    "# Reorder columns: move 'Time', 'Amount', and 'Class' to the front\n",
    "columns = ['Time', 'Amount', 'Class'] + [col for col in df.columns if col not in ['Time', 'Amount', 'Class']]\n",
    "df = df[columns]\n",
    "\n",
    "# Check the new column order\n",
    "df.head()"
   ]
  },
  {
   "cell_type": "code",
   "execution_count": 8,
   "id": "b6880d00",
   "metadata": {},
   "outputs": [
    {
     "data": {
      "text/plain": [
       "163152.0    36\n",
       "64947.0     26\n",
       "68780.0     25\n",
       "3767.0      21\n",
       "3770.0      20\n",
       "            ..\n",
       "127750.0     1\n",
       "62260.0      1\n",
       "62259.0      1\n",
       "127753.0     1\n",
       "172792.0     1\n",
       "Name: Time, Length: 124592, dtype: int64"
      ]
     },
     "execution_count": 8,
     "metadata": {},
     "output_type": "execute_result"
    }
   ],
   "source": [
    "df['Time'].value_counts()"
   ]
  },
  {
   "cell_type": "markdown",
   "id": "eb182734",
   "metadata": {},
   "source": [
    "An essential first step in the exploratory data analysis is to examine the distribution of the target variable, ‘Class’, which indicates whether a transaction is fraudulent (1) or legitimate (0). Upon inspection, it becomes immediately evident that the dataset is highly imbalanced."
   ]
  },
  {
   "cell_type": "code",
   "execution_count": 9,
   "id": "2696ebf2",
   "metadata": {},
   "outputs": [
    {
     "data": {
      "text/plain": [
       "0    284315\n",
       "1       492\n",
       "Name: Class, dtype: int64"
      ]
     },
     "execution_count": 9,
     "metadata": {},
     "output_type": "execute_result"
    }
   ],
   "source": [
    "df['Class'].value_counts()"
   ]
  },
  {
   "cell_type": "markdown",
   "id": "79f69eb5",
   "metadata": {},
   "source": [
    "This reveals that fraudulent transactions represent only a very small fraction of the total dataset, approximately 0.172%. The vast majority of transactions are legitimate, which presents a significant challenge for most classification algorithms. If not addressed, this class imbalance can lead to models that are biased toward predicting the majority class, thereby failing to correctly identify fraudulent activities.\n",
    "\n",
    "This insight underscores the importance of employing appropriate evaluation metrics (such as precision, recall, and F1-score) and possibly implementing resampling techniques (e.g., oversampling the minority class or using algorithms that are robust to imbalance) during the model development stage."
   ]
  },
  {
   "cell_type": "markdown",
   "id": "21406bca",
   "metadata": {},
   "source": [
    "## 5.1 Data Cleaning"
   ]
  },
  {
   "cell_type": "markdown",
   "id": "d6a97888",
   "metadata": {},
   "source": [
    "Before proceeding with feature engineering or model training, it is essential to ensure the integrity and quality of the data. One of the initial steps in this phase is to check for and remove any duplicate entries, as these can introduce bias or redundancy into the model.\n",
    "\n",
    "Duplicate records may occur due to system errors or data collection issues, and their presence can artificially inflate the representation of certain patterns in the data, especially in an already imbalanced dataset.\n",
    "\n",
    "To check for duplicates, the following code is used:"
   ]
  },
  {
   "cell_type": "code",
   "execution_count": 10,
   "id": "2bb87820",
   "metadata": {},
   "outputs": [
    {
     "name": "stdout",
     "output_type": "stream",
     "text": [
      "1081\n"
     ]
    }
   ],
   "source": [
    "print(df.duplicated().sum())"
   ]
  },
  {
   "cell_type": "markdown",
   "id": "1f9220cb",
   "metadata": {},
   "source": [
    "After checking for duplicate entries, it was found that there are 1,081 duplicate rows in the dataset. These duplicates likely arise from repeated transactions being recorded, which could distort the results of the analysis."
   ]
  },
  {
   "cell_type": "code",
   "execution_count": 11,
   "id": "bd5045b8",
   "metadata": {
    "scrolled": true
   },
   "outputs": [
    {
     "data": {
      "text/plain": [
       "Time      0\n",
       "Amount    0\n",
       "Class     0\n",
       "V1        0\n",
       "V2        0\n",
       "V3        0\n",
       "V4        0\n",
       "V5        0\n",
       "V6        0\n",
       "V7        0\n",
       "V8        0\n",
       "V9        0\n",
       "V10       0\n",
       "V11       0\n",
       "V12       0\n",
       "V13       0\n",
       "V14       0\n",
       "V15       0\n",
       "V16       0\n",
       "V17       0\n",
       "V18       0\n",
       "V19       0\n",
       "V20       0\n",
       "V21       0\n",
       "V22       0\n",
       "V23       0\n",
       "V24       0\n",
       "V25       0\n",
       "V26       0\n",
       "V27       0\n",
       "V28       0\n",
       "dtype: int64"
      ]
     },
     "execution_count": 11,
     "metadata": {},
     "output_type": "execute_result"
    }
   ],
   "source": [
    "df.isna().sum()"
   ]
  },
  {
   "cell_type": "code",
   "execution_count": 12,
   "id": "957a7354",
   "metadata": {},
   "outputs": [
    {
     "data": {
      "text/plain": [
       "0"
      ]
     },
     "execution_count": 12,
     "metadata": {},
     "output_type": "execute_result"
    }
   ],
   "source": [
    "df.isna().sum().sum()"
   ]
  },
  {
   "cell_type": "markdown",
   "id": "8dc4606e",
   "metadata": {},
   "source": [
    "It was confirmed that the dataset contains no missing values in any of the features. This simplifies the preprocessing process, as there is no need for imputation or handling of missing data.\n",
    "\n",
    "Although we have detected 1,081 duplicate rows, it is important to inspect these rows more closely to understand their nature and determine whether they should be removed or handled differently. Duplicated entries can significantly impact the performance of machine learning models, especially when dealing with imbalanced datasets, as they may artificially inflate the number of certain transactions."
   ]
  },
  {
   "cell_type": "code",
   "execution_count": 13,
   "id": "8e6af732",
   "metadata": {
    "scrolled": true
   },
   "outputs": [
    {
     "name": "stdout",
     "output_type": "stream",
     "text": [
      "Number of duplicated rows: 1854\n"
     ]
    },
    {
     "data": {
      "text/html": [
       "<div>\n",
       "<style scoped>\n",
       "    .dataframe tbody tr th:only-of-type {\n",
       "        vertical-align: middle;\n",
       "    }\n",
       "\n",
       "    .dataframe tbody tr th {\n",
       "        vertical-align: top;\n",
       "    }\n",
       "\n",
       "    .dataframe thead th {\n",
       "        text-align: right;\n",
       "    }\n",
       "</style>\n",
       "<table border=\"1\" class=\"dataframe\">\n",
       "  <thead>\n",
       "    <tr style=\"text-align: right;\">\n",
       "      <th></th>\n",
       "      <th>Time</th>\n",
       "      <th>Amount</th>\n",
       "      <th>Class</th>\n",
       "      <th>V1</th>\n",
       "      <th>V2</th>\n",
       "      <th>V3</th>\n",
       "      <th>V4</th>\n",
       "      <th>V5</th>\n",
       "      <th>V6</th>\n",
       "      <th>V7</th>\n",
       "      <th>...</th>\n",
       "      <th>V19</th>\n",
       "      <th>V20</th>\n",
       "      <th>V21</th>\n",
       "      <th>V22</th>\n",
       "      <th>V23</th>\n",
       "      <th>V24</th>\n",
       "      <th>V25</th>\n",
       "      <th>V26</th>\n",
       "      <th>V27</th>\n",
       "      <th>V28</th>\n",
       "    </tr>\n",
       "  </thead>\n",
       "  <tbody>\n",
       "    <tr>\n",
       "      <th>32</th>\n",
       "      <td>26.0</td>\n",
       "      <td>6.14</td>\n",
       "      <td>0</td>\n",
       "      <td>-0.529912</td>\n",
       "      <td>0.873892</td>\n",
       "      <td>1.347247</td>\n",
       "      <td>0.145457</td>\n",
       "      <td>0.414209</td>\n",
       "      <td>0.100223</td>\n",
       "      <td>0.711206</td>\n",
       "      <td>...</td>\n",
       "      <td>-0.823374</td>\n",
       "      <td>-0.290348</td>\n",
       "      <td>0.046949</td>\n",
       "      <td>0.208105</td>\n",
       "      <td>-0.185548</td>\n",
       "      <td>0.001031</td>\n",
       "      <td>0.098816</td>\n",
       "      <td>-0.552904</td>\n",
       "      <td>-0.073288</td>\n",
       "      <td>0.023307</td>\n",
       "    </tr>\n",
       "    <tr>\n",
       "      <th>33</th>\n",
       "      <td>26.0</td>\n",
       "      <td>6.14</td>\n",
       "      <td>0</td>\n",
       "      <td>-0.529912</td>\n",
       "      <td>0.873892</td>\n",
       "      <td>1.347247</td>\n",
       "      <td>0.145457</td>\n",
       "      <td>0.414209</td>\n",
       "      <td>0.100223</td>\n",
       "      <td>0.711206</td>\n",
       "      <td>...</td>\n",
       "      <td>-0.823374</td>\n",
       "      <td>-0.290348</td>\n",
       "      <td>0.046949</td>\n",
       "      <td>0.208105</td>\n",
       "      <td>-0.185548</td>\n",
       "      <td>0.001031</td>\n",
       "      <td>0.098816</td>\n",
       "      <td>-0.552904</td>\n",
       "      <td>-0.073288</td>\n",
       "      <td>0.023307</td>\n",
       "    </tr>\n",
       "    <tr>\n",
       "      <th>34</th>\n",
       "      <td>26.0</td>\n",
       "      <td>1.77</td>\n",
       "      <td>0</td>\n",
       "      <td>-0.535388</td>\n",
       "      <td>0.865268</td>\n",
       "      <td>1.351076</td>\n",
       "      <td>0.147575</td>\n",
       "      <td>0.433680</td>\n",
       "      <td>0.086983</td>\n",
       "      <td>0.693039</td>\n",
       "      <td>...</td>\n",
       "      <td>-0.823743</td>\n",
       "      <td>-0.283264</td>\n",
       "      <td>0.049526</td>\n",
       "      <td>0.206537</td>\n",
       "      <td>-0.187108</td>\n",
       "      <td>0.000753</td>\n",
       "      <td>0.098117</td>\n",
       "      <td>-0.553471</td>\n",
       "      <td>-0.078306</td>\n",
       "      <td>0.025427</td>\n",
       "    </tr>\n",
       "    <tr>\n",
       "      <th>35</th>\n",
       "      <td>26.0</td>\n",
       "      <td>1.77</td>\n",
       "      <td>0</td>\n",
       "      <td>-0.535388</td>\n",
       "      <td>0.865268</td>\n",
       "      <td>1.351076</td>\n",
       "      <td>0.147575</td>\n",
       "      <td>0.433680</td>\n",
       "      <td>0.086983</td>\n",
       "      <td>0.693039</td>\n",
       "      <td>...</td>\n",
       "      <td>-0.823743</td>\n",
       "      <td>-0.283264</td>\n",
       "      <td>0.049526</td>\n",
       "      <td>0.206537</td>\n",
       "      <td>-0.187108</td>\n",
       "      <td>0.000753</td>\n",
       "      <td>0.098117</td>\n",
       "      <td>-0.553471</td>\n",
       "      <td>-0.078306</td>\n",
       "      <td>0.025427</td>\n",
       "    </tr>\n",
       "    <tr>\n",
       "      <th>112</th>\n",
       "      <td>74.0</td>\n",
       "      <td>1.18</td>\n",
       "      <td>0</td>\n",
       "      <td>1.038370</td>\n",
       "      <td>0.127486</td>\n",
       "      <td>0.184456</td>\n",
       "      <td>1.109950</td>\n",
       "      <td>0.441699</td>\n",
       "      <td>0.945283</td>\n",
       "      <td>-0.036715</td>\n",
       "      <td>...</td>\n",
       "      <td>-1.747255</td>\n",
       "      <td>-0.335520</td>\n",
       "      <td>0.102520</td>\n",
       "      <td>0.605089</td>\n",
       "      <td>0.023092</td>\n",
       "      <td>-0.626463</td>\n",
       "      <td>0.479120</td>\n",
       "      <td>-0.166937</td>\n",
       "      <td>0.081247</td>\n",
       "      <td>0.001192</td>\n",
       "    </tr>\n",
       "  </tbody>\n",
       "</table>\n",
       "<p>5 rows × 31 columns</p>\n",
       "</div>"
      ],
      "text/plain": [
       "     Time  Amount  Class        V1        V2        V3        V4        V5  \\\n",
       "32   26.0    6.14      0 -0.529912  0.873892  1.347247  0.145457  0.414209   \n",
       "33   26.0    6.14      0 -0.529912  0.873892  1.347247  0.145457  0.414209   \n",
       "34   26.0    1.77      0 -0.535388  0.865268  1.351076  0.147575  0.433680   \n",
       "35   26.0    1.77      0 -0.535388  0.865268  1.351076  0.147575  0.433680   \n",
       "112  74.0    1.18      0  1.038370  0.127486  0.184456  1.109950  0.441699   \n",
       "\n",
       "           V6        V7  ...       V19       V20       V21       V22  \\\n",
       "32   0.100223  0.711206  ... -0.823374 -0.290348  0.046949  0.208105   \n",
       "33   0.100223  0.711206  ... -0.823374 -0.290348  0.046949  0.208105   \n",
       "34   0.086983  0.693039  ... -0.823743 -0.283264  0.049526  0.206537   \n",
       "35   0.086983  0.693039  ... -0.823743 -0.283264  0.049526  0.206537   \n",
       "112  0.945283 -0.036715  ... -1.747255 -0.335520  0.102520  0.605089   \n",
       "\n",
       "          V23       V24       V25       V26       V27       V28  \n",
       "32  -0.185548  0.001031  0.098816 -0.552904 -0.073288  0.023307  \n",
       "33  -0.185548  0.001031  0.098816 -0.552904 -0.073288  0.023307  \n",
       "34  -0.187108  0.000753  0.098117 -0.553471 -0.078306  0.025427  \n",
       "35  -0.187108  0.000753  0.098117 -0.553471 -0.078306  0.025427  \n",
       "112  0.023092 -0.626463  0.479120 -0.166937  0.081247  0.001192  \n",
       "\n",
       "[5 rows x 31 columns]"
      ]
     },
     "execution_count": 13,
     "metadata": {},
     "output_type": "execute_result"
    }
   ],
   "source": [
    "# Get duplicated rows (excluding the first occurrence)\n",
    "duplicated_rows = df[df.duplicated(keep=False)]  # keep=False shows all the copies\n",
    "\n",
    "print(f\"Number of duplicated rows: {len(duplicated_rows)}\")\n",
    "duplicated_rows.head()"
   ]
  },
  {
   "cell_type": "code",
   "execution_count": 14,
   "id": "859a7ecc",
   "metadata": {},
   "outputs": [
    {
     "data": {
      "text/html": [
       "<div>\n",
       "<style scoped>\n",
       "    .dataframe tbody tr th:only-of-type {\n",
       "        vertical-align: middle;\n",
       "    }\n",
       "\n",
       "    .dataframe tbody tr th {\n",
       "        vertical-align: top;\n",
       "    }\n",
       "\n",
       "    .dataframe thead th {\n",
       "        text-align: right;\n",
       "    }\n",
       "</style>\n",
       "<table border=\"1\" class=\"dataframe\">\n",
       "  <thead>\n",
       "    <tr style=\"text-align: right;\">\n",
       "      <th></th>\n",
       "      <th>Time</th>\n",
       "      <th>Amount</th>\n",
       "      <th>Class</th>\n",
       "      <th>V1</th>\n",
       "      <th>V2</th>\n",
       "      <th>V3</th>\n",
       "      <th>V4</th>\n",
       "      <th>V5</th>\n",
       "      <th>V6</th>\n",
       "      <th>V7</th>\n",
       "      <th>...</th>\n",
       "      <th>V20</th>\n",
       "      <th>V21</th>\n",
       "      <th>V22</th>\n",
       "      <th>V23</th>\n",
       "      <th>V24</th>\n",
       "      <th>V25</th>\n",
       "      <th>V26</th>\n",
       "      <th>V27</th>\n",
       "      <th>V28</th>\n",
       "      <th>count</th>\n",
       "    </tr>\n",
       "  </thead>\n",
       "  <tbody>\n",
       "    <tr>\n",
       "      <th>0</th>\n",
       "      <td>163152.0</td>\n",
       "      <td>1.51</td>\n",
       "      <td>0</td>\n",
       "      <td>-1.203617</td>\n",
       "      <td>1.574009</td>\n",
       "      <td>2.889277</td>\n",
       "      <td>3.381404</td>\n",
       "      <td>1.538663</td>\n",
       "      <td>3.698747</td>\n",
       "      <td>0.560211</td>\n",
       "      <td>...</td>\n",
       "      <td>1.385597</td>\n",
       "      <td>-0.366727</td>\n",
       "      <td>0.522223</td>\n",
       "      <td>-0.357329</td>\n",
       "      <td>-0.870174</td>\n",
       "      <td>-0.134166</td>\n",
       "      <td>0.327019</td>\n",
       "      <td>-0.042648</td>\n",
       "      <td>-0.855262</td>\n",
       "      <td>18</td>\n",
       "    </tr>\n",
       "    <tr>\n",
       "      <th>1</th>\n",
       "      <td>163152.0</td>\n",
       "      <td>7.56</td>\n",
       "      <td>0</td>\n",
       "      <td>-1.196037</td>\n",
       "      <td>1.585949</td>\n",
       "      <td>2.883976</td>\n",
       "      <td>3.378471</td>\n",
       "      <td>1.511706</td>\n",
       "      <td>3.717077</td>\n",
       "      <td>0.585362</td>\n",
       "      <td>...</td>\n",
       "      <td>1.375790</td>\n",
       "      <td>-0.370294</td>\n",
       "      <td>0.524395</td>\n",
       "      <td>-0.355170</td>\n",
       "      <td>-0.869790</td>\n",
       "      <td>-0.133198</td>\n",
       "      <td>0.327804</td>\n",
       "      <td>-0.035702</td>\n",
       "      <td>-0.858197</td>\n",
       "      <td>18</td>\n",
       "    </tr>\n",
       "    <tr>\n",
       "      <th>2</th>\n",
       "      <td>170731.0</td>\n",
       "      <td>0.76</td>\n",
       "      <td>0</td>\n",
       "      <td>2.033492</td>\n",
       "      <td>0.766969</td>\n",
       "      <td>-2.107555</td>\n",
       "      <td>3.631952</td>\n",
       "      <td>1.348594</td>\n",
       "      <td>-0.499907</td>\n",
       "      <td>0.945159</td>\n",
       "      <td>...</td>\n",
       "      <td>-0.430560</td>\n",
       "      <td>0.241894</td>\n",
       "      <td>0.658545</td>\n",
       "      <td>-0.102644</td>\n",
       "      <td>0.580535</td>\n",
       "      <td>0.643637</td>\n",
       "      <td>0.347240</td>\n",
       "      <td>-0.116618</td>\n",
       "      <td>-0.078601</td>\n",
       "      <td>9</td>\n",
       "    </tr>\n",
       "    <tr>\n",
       "      <th>3</th>\n",
       "      <td>43153.0</td>\n",
       "      <td>0.76</td>\n",
       "      <td>0</td>\n",
       "      <td>-2.086016</td>\n",
       "      <td>2.203265</td>\n",
       "      <td>1.654339</td>\n",
       "      <td>2.941050</td>\n",
       "      <td>-1.683045</td>\n",
       "      <td>0.529728</td>\n",
       "      <td>-1.352162</td>\n",
       "      <td>...</td>\n",
       "      <td>0.079002</td>\n",
       "      <td>0.216444</td>\n",
       "      <td>0.567241</td>\n",
       "      <td>-0.035345</td>\n",
       "      <td>0.370201</td>\n",
       "      <td>0.157378</td>\n",
       "      <td>0.440341</td>\n",
       "      <td>0.210230</td>\n",
       "      <td>0.090558</td>\n",
       "      <td>9</td>\n",
       "    </tr>\n",
       "    <tr>\n",
       "      <th>4</th>\n",
       "      <td>68207.0</td>\n",
       "      <td>1.00</td>\n",
       "      <td>1</td>\n",
       "      <td>-13.192671</td>\n",
       "      <td>12.785971</td>\n",
       "      <td>-9.906650</td>\n",
       "      <td>3.320337</td>\n",
       "      <td>-4.801176</td>\n",
       "      <td>5.760059</td>\n",
       "      <td>-18.750889</td>\n",
       "      <td>...</td>\n",
       "      <td>-3.493050</td>\n",
       "      <td>27.202839</td>\n",
       "      <td>-8.887017</td>\n",
       "      <td>5.303607</td>\n",
       "      <td>-0.639435</td>\n",
       "      <td>0.263203</td>\n",
       "      <td>-0.108877</td>\n",
       "      <td>1.269566</td>\n",
       "      <td>0.939407</td>\n",
       "      <td>6</td>\n",
       "    </tr>\n",
       "  </tbody>\n",
       "</table>\n",
       "<p>5 rows × 32 columns</p>\n",
       "</div>"
      ],
      "text/plain": [
       "       Time  Amount  Class         V1         V2        V3        V4  \\\n",
       "0  163152.0    1.51      0  -1.203617   1.574009  2.889277  3.381404   \n",
       "1  163152.0    7.56      0  -1.196037   1.585949  2.883976  3.378471   \n",
       "2  170731.0    0.76      0   2.033492   0.766969 -2.107555  3.631952   \n",
       "3   43153.0    0.76      0  -2.086016   2.203265  1.654339  2.941050   \n",
       "4   68207.0    1.00      1 -13.192671  12.785971 -9.906650  3.320337   \n",
       "\n",
       "         V5        V6         V7  ...       V20        V21       V22  \\\n",
       "0  1.538663  3.698747   0.560211  ...  1.385597  -0.366727  0.522223   \n",
       "1  1.511706  3.717077   0.585362  ...  1.375790  -0.370294  0.524395   \n",
       "2  1.348594 -0.499907   0.945159  ... -0.430560   0.241894  0.658545   \n",
       "3 -1.683045  0.529728  -1.352162  ...  0.079002   0.216444  0.567241   \n",
       "4 -4.801176  5.760059 -18.750889  ... -3.493050  27.202839 -8.887017   \n",
       "\n",
       "        V23       V24       V25       V26       V27       V28  count  \n",
       "0 -0.357329 -0.870174 -0.134166  0.327019 -0.042648 -0.855262     18  \n",
       "1 -0.355170 -0.869790 -0.133198  0.327804 -0.035702 -0.858197     18  \n",
       "2 -0.102644  0.580535  0.643637  0.347240 -0.116618 -0.078601      9  \n",
       "3 -0.035345  0.370201  0.157378  0.440341  0.210230  0.090558      9  \n",
       "4  5.303607 -0.639435  0.263203 -0.108877  1.269566  0.939407      6  \n",
       "\n",
       "[5 rows x 32 columns]"
      ]
     },
     "execution_count": 14,
     "metadata": {},
     "output_type": "execute_result"
    }
   ],
   "source": [
    "# Count how many times each duplicated row appears\n",
    "duplicate_counts = duplicated_rows.value_counts().reset_index(name='count')\n",
    "duplicate_counts = duplicate_counts.sort_values(by='count', ascending=False)\n",
    "\n",
    "duplicate_counts.head()"
   ]
  },
  {
   "cell_type": "code",
   "execution_count": 15,
   "id": "6cd385ac",
   "metadata": {},
   "outputs": [
    {
     "data": {
      "text/html": [
       "<div>\n",
       "<style scoped>\n",
       "    .dataframe tbody tr th:only-of-type {\n",
       "        vertical-align: middle;\n",
       "    }\n",
       "\n",
       "    .dataframe tbody tr th {\n",
       "        vertical-align: top;\n",
       "    }\n",
       "\n",
       "    .dataframe thead th {\n",
       "        text-align: right;\n",
       "    }\n",
       "</style>\n",
       "<table border=\"1\" class=\"dataframe\">\n",
       "  <thead>\n",
       "    <tr style=\"text-align: right;\">\n",
       "      <th></th>\n",
       "      <th>Time</th>\n",
       "      <th>Amount</th>\n",
       "      <th>Class</th>\n",
       "      <th>V1</th>\n",
       "      <th>V2</th>\n",
       "      <th>V3</th>\n",
       "      <th>V4</th>\n",
       "      <th>V5</th>\n",
       "      <th>V6</th>\n",
       "      <th>V7</th>\n",
       "      <th>...</th>\n",
       "      <th>V20</th>\n",
       "      <th>V21</th>\n",
       "      <th>V22</th>\n",
       "      <th>V23</th>\n",
       "      <th>V24</th>\n",
       "      <th>V25</th>\n",
       "      <th>V26</th>\n",
       "      <th>V27</th>\n",
       "      <th>V28</th>\n",
       "      <th>count</th>\n",
       "    </tr>\n",
       "  </thead>\n",
       "  <tbody>\n",
       "    <tr>\n",
       "      <th>0</th>\n",
       "      <td>163152.0</td>\n",
       "      <td>1.51</td>\n",
       "      <td>0</td>\n",
       "      <td>-1.203617</td>\n",
       "      <td>1.574009</td>\n",
       "      <td>2.889277</td>\n",
       "      <td>3.381404</td>\n",
       "      <td>1.538663</td>\n",
       "      <td>3.698747</td>\n",
       "      <td>0.560211</td>\n",
       "      <td>...</td>\n",
       "      <td>1.385597</td>\n",
       "      <td>-0.366727</td>\n",
       "      <td>0.522223</td>\n",
       "      <td>-0.357329</td>\n",
       "      <td>-0.870174</td>\n",
       "      <td>-0.134166</td>\n",
       "      <td>0.327019</td>\n",
       "      <td>-0.042648</td>\n",
       "      <td>-0.855262</td>\n",
       "      <td>18</td>\n",
       "    </tr>\n",
       "    <tr>\n",
       "      <th>1</th>\n",
       "      <td>163152.0</td>\n",
       "      <td>7.56</td>\n",
       "      <td>0</td>\n",
       "      <td>-1.196037</td>\n",
       "      <td>1.585949</td>\n",
       "      <td>2.883976</td>\n",
       "      <td>3.378471</td>\n",
       "      <td>1.511706</td>\n",
       "      <td>3.717077</td>\n",
       "      <td>0.585362</td>\n",
       "      <td>...</td>\n",
       "      <td>1.375790</td>\n",
       "      <td>-0.370294</td>\n",
       "      <td>0.524395</td>\n",
       "      <td>-0.355170</td>\n",
       "      <td>-0.869790</td>\n",
       "      <td>-0.133198</td>\n",
       "      <td>0.327804</td>\n",
       "      <td>-0.035702</td>\n",
       "      <td>-0.858197</td>\n",
       "      <td>18</td>\n",
       "    </tr>\n",
       "    <tr>\n",
       "      <th>2</th>\n",
       "      <td>170731.0</td>\n",
       "      <td>0.76</td>\n",
       "      <td>0</td>\n",
       "      <td>2.033492</td>\n",
       "      <td>0.766969</td>\n",
       "      <td>-2.107555</td>\n",
       "      <td>3.631952</td>\n",
       "      <td>1.348594</td>\n",
       "      <td>-0.499907</td>\n",
       "      <td>0.945159</td>\n",
       "      <td>...</td>\n",
       "      <td>-0.430560</td>\n",
       "      <td>0.241894</td>\n",
       "      <td>0.658545</td>\n",
       "      <td>-0.102644</td>\n",
       "      <td>0.580535</td>\n",
       "      <td>0.643637</td>\n",
       "      <td>0.347240</td>\n",
       "      <td>-0.116618</td>\n",
       "      <td>-0.078601</td>\n",
       "      <td>9</td>\n",
       "    </tr>\n",
       "    <tr>\n",
       "      <th>3</th>\n",
       "      <td>43153.0</td>\n",
       "      <td>0.76</td>\n",
       "      <td>0</td>\n",
       "      <td>-2.086016</td>\n",
       "      <td>2.203265</td>\n",
       "      <td>1.654339</td>\n",
       "      <td>2.941050</td>\n",
       "      <td>-1.683045</td>\n",
       "      <td>0.529728</td>\n",
       "      <td>-1.352162</td>\n",
       "      <td>...</td>\n",
       "      <td>0.079002</td>\n",
       "      <td>0.216444</td>\n",
       "      <td>0.567241</td>\n",
       "      <td>-0.035345</td>\n",
       "      <td>0.370201</td>\n",
       "      <td>0.157378</td>\n",
       "      <td>0.440341</td>\n",
       "      <td>0.210230</td>\n",
       "      <td>0.090558</td>\n",
       "      <td>9</td>\n",
       "    </tr>\n",
       "    <tr>\n",
       "      <th>4</th>\n",
       "      <td>68207.0</td>\n",
       "      <td>1.00</td>\n",
       "      <td>1</td>\n",
       "      <td>-13.192671</td>\n",
       "      <td>12.785971</td>\n",
       "      <td>-9.906650</td>\n",
       "      <td>3.320337</td>\n",
       "      <td>-4.801176</td>\n",
       "      <td>5.760059</td>\n",
       "      <td>-18.750889</td>\n",
       "      <td>...</td>\n",
       "      <td>-3.493050</td>\n",
       "      <td>27.202839</td>\n",
       "      <td>-8.887017</td>\n",
       "      <td>5.303607</td>\n",
       "      <td>-0.639435</td>\n",
       "      <td>0.263203</td>\n",
       "      <td>-0.108877</td>\n",
       "      <td>1.269566</td>\n",
       "      <td>0.939407</td>\n",
       "      <td>6</td>\n",
       "    </tr>\n",
       "  </tbody>\n",
       "</table>\n",
       "<p>5 rows × 32 columns</p>\n",
       "</div>"
      ],
      "text/plain": [
       "       Time  Amount  Class         V1         V2        V3        V4  \\\n",
       "0  163152.0    1.51      0  -1.203617   1.574009  2.889277  3.381404   \n",
       "1  163152.0    7.56      0  -1.196037   1.585949  2.883976  3.378471   \n",
       "2  170731.0    0.76      0   2.033492   0.766969 -2.107555  3.631952   \n",
       "3   43153.0    0.76      0  -2.086016   2.203265  1.654339  2.941050   \n",
       "4   68207.0    1.00      1 -13.192671  12.785971 -9.906650  3.320337   \n",
       "\n",
       "         V5        V6         V7  ...       V20        V21       V22  \\\n",
       "0  1.538663  3.698747   0.560211  ...  1.385597  -0.366727  0.522223   \n",
       "1  1.511706  3.717077   0.585362  ...  1.375790  -0.370294  0.524395   \n",
       "2  1.348594 -0.499907   0.945159  ... -0.430560   0.241894  0.658545   \n",
       "3 -1.683045  0.529728  -1.352162  ...  0.079002   0.216444  0.567241   \n",
       "4 -4.801176  5.760059 -18.750889  ... -3.493050  27.202839 -8.887017   \n",
       "\n",
       "        V23       V24       V25       V26       V27       V28  count  \n",
       "0 -0.357329 -0.870174 -0.134166  0.327019 -0.042648 -0.855262     18  \n",
       "1 -0.355170 -0.869790 -0.133198  0.327804 -0.035702 -0.858197     18  \n",
       "2 -0.102644  0.580535  0.643637  0.347240 -0.116618 -0.078601      9  \n",
       "3 -0.035345  0.370201  0.157378  0.440341  0.210230  0.090558      9  \n",
       "4  5.303607 -0.639435  0.263203 -0.108877  1.269566  0.939407      6  \n",
       "\n",
       "[5 rows x 32 columns]"
      ]
     },
     "execution_count": 15,
     "metadata": {},
     "output_type": "execute_result"
    }
   ],
   "source": [
    "# Show rows that are duplicated more than once\n",
    "more_than_twice = duplicate_counts[duplicate_counts['count'] > 2]\n",
    "more_than_twice.head()"
   ]
  },
  {
   "cell_type": "code",
   "execution_count": 16,
   "id": "655644a6",
   "metadata": {},
   "outputs": [
    {
     "name": "stdout",
     "output_type": "stream",
     "text": [
      "0    1822\n",
      "1      32\n",
      "Name: Class, dtype: int64\n"
     ]
    }
   ],
   "source": [
    "# Check class distribution within duplicated rows\n",
    "duplicated_class_counts = duplicated_rows['Class'].value_counts()\n",
    "print(duplicated_class_counts)"
   ]
  },
  {
   "cell_type": "markdown",
   "id": "1ececc8c",
   "metadata": {},
   "source": [
    "Upon inspecting the duplicated rows, we observed that the class distribution within these rows is highly imbalanced, similar to the overall dataset. Specifically, there are 1,822 duplicated rows with 'Class' = 0 (legitimate transactions) and only 32 rows with 'Class' = 1 (fraudulent transactions). This further emphasizes the already severe imbalance in the dataset, as the fraudulent transactions are vastly outnumbered by legitimate ones.\n",
    "\n",
    "This distribution suggests that the removal of these duplicate rows may lead to a slight reduction in the number of fraudulent transactions (Class 1), which could impact the model’s ability to detect fraud. Therefore, careful consideration is needed in deciding whether to remove these duplicates entirely or address the imbalance by applying appropriate techniques such as oversampling the minority class or using class weights during model training."
   ]
  },
  {
   "cell_type": "code",
   "execution_count": 17,
   "id": "14aa69f0",
   "metadata": {},
   "outputs": [
    {
     "data": {
      "text/html": [
       "<div>\n",
       "<style scoped>\n",
       "    .dataframe tbody tr th:only-of-type {\n",
       "        vertical-align: middle;\n",
       "    }\n",
       "\n",
       "    .dataframe tbody tr th {\n",
       "        vertical-align: top;\n",
       "    }\n",
       "\n",
       "    .dataframe thead th {\n",
       "        text-align: right;\n",
       "    }\n",
       "</style>\n",
       "<table border=\"1\" class=\"dataframe\">\n",
       "  <thead>\n",
       "    <tr style=\"text-align: right;\">\n",
       "      <th></th>\n",
       "      <th>Time</th>\n",
       "      <th>Amount</th>\n",
       "      <th>Class</th>\n",
       "      <th>V1</th>\n",
       "      <th>V2</th>\n",
       "      <th>V3</th>\n",
       "      <th>V4</th>\n",
       "      <th>V5</th>\n",
       "      <th>V6</th>\n",
       "      <th>V7</th>\n",
       "      <th>...</th>\n",
       "      <th>V19</th>\n",
       "      <th>V20</th>\n",
       "      <th>V21</th>\n",
       "      <th>V22</th>\n",
       "      <th>V23</th>\n",
       "      <th>V24</th>\n",
       "      <th>V25</th>\n",
       "      <th>V26</th>\n",
       "      <th>V27</th>\n",
       "      <th>V28</th>\n",
       "    </tr>\n",
       "  </thead>\n",
       "  <tbody>\n",
       "    <tr>\n",
       "      <th>102441</th>\n",
       "      <td>68207.0</td>\n",
       "      <td>1.00</td>\n",
       "      <td>1</td>\n",
       "      <td>-13.192671</td>\n",
       "      <td>12.785971</td>\n",
       "      <td>-9.906650</td>\n",
       "      <td>3.320337</td>\n",
       "      <td>-4.801176</td>\n",
       "      <td>5.760059</td>\n",
       "      <td>-18.750889</td>\n",
       "      <td>...</td>\n",
       "      <td>0.051576</td>\n",
       "      <td>-3.493050</td>\n",
       "      <td>27.202839</td>\n",
       "      <td>-8.887017</td>\n",
       "      <td>5.303607</td>\n",
       "      <td>-0.639435</td>\n",
       "      <td>0.263203</td>\n",
       "      <td>-0.108877</td>\n",
       "      <td>1.269566</td>\n",
       "      <td>0.939407</td>\n",
       "    </tr>\n",
       "    <tr>\n",
       "      <th>102442</th>\n",
       "      <td>68207.0</td>\n",
       "      <td>1.00</td>\n",
       "      <td>1</td>\n",
       "      <td>-13.192671</td>\n",
       "      <td>12.785971</td>\n",
       "      <td>-9.906650</td>\n",
       "      <td>3.320337</td>\n",
       "      <td>-4.801176</td>\n",
       "      <td>5.760059</td>\n",
       "      <td>-18.750889</td>\n",
       "      <td>...</td>\n",
       "      <td>0.051576</td>\n",
       "      <td>-3.493050</td>\n",
       "      <td>27.202839</td>\n",
       "      <td>-8.887017</td>\n",
       "      <td>5.303607</td>\n",
       "      <td>-0.639435</td>\n",
       "      <td>0.263203</td>\n",
       "      <td>-0.108877</td>\n",
       "      <td>1.269566</td>\n",
       "      <td>0.939407</td>\n",
       "    </tr>\n",
       "    <tr>\n",
       "      <th>102443</th>\n",
       "      <td>68207.0</td>\n",
       "      <td>1.00</td>\n",
       "      <td>1</td>\n",
       "      <td>-13.192671</td>\n",
       "      <td>12.785971</td>\n",
       "      <td>-9.906650</td>\n",
       "      <td>3.320337</td>\n",
       "      <td>-4.801176</td>\n",
       "      <td>5.760059</td>\n",
       "      <td>-18.750889</td>\n",
       "      <td>...</td>\n",
       "      <td>0.051576</td>\n",
       "      <td>-3.493050</td>\n",
       "      <td>27.202839</td>\n",
       "      <td>-8.887017</td>\n",
       "      <td>5.303607</td>\n",
       "      <td>-0.639435</td>\n",
       "      <td>0.263203</td>\n",
       "      <td>-0.108877</td>\n",
       "      <td>1.269566</td>\n",
       "      <td>0.939407</td>\n",
       "    </tr>\n",
       "    <tr>\n",
       "      <th>102444</th>\n",
       "      <td>68207.0</td>\n",
       "      <td>1.00</td>\n",
       "      <td>1</td>\n",
       "      <td>-13.192671</td>\n",
       "      <td>12.785971</td>\n",
       "      <td>-9.906650</td>\n",
       "      <td>3.320337</td>\n",
       "      <td>-4.801176</td>\n",
       "      <td>5.760059</td>\n",
       "      <td>-18.750889</td>\n",
       "      <td>...</td>\n",
       "      <td>0.051576</td>\n",
       "      <td>-3.493050</td>\n",
       "      <td>27.202839</td>\n",
       "      <td>-8.887017</td>\n",
       "      <td>5.303607</td>\n",
       "      <td>-0.639435</td>\n",
       "      <td>0.263203</td>\n",
       "      <td>-0.108877</td>\n",
       "      <td>1.269566</td>\n",
       "      <td>0.939407</td>\n",
       "    </tr>\n",
       "    <tr>\n",
       "      <th>102445</th>\n",
       "      <td>68207.0</td>\n",
       "      <td>1.00</td>\n",
       "      <td>1</td>\n",
       "      <td>-13.192671</td>\n",
       "      <td>12.785971</td>\n",
       "      <td>-9.906650</td>\n",
       "      <td>3.320337</td>\n",
       "      <td>-4.801176</td>\n",
       "      <td>5.760059</td>\n",
       "      <td>-18.750889</td>\n",
       "      <td>...</td>\n",
       "      <td>0.051576</td>\n",
       "      <td>-3.493050</td>\n",
       "      <td>27.202839</td>\n",
       "      <td>-8.887017</td>\n",
       "      <td>5.303607</td>\n",
       "      <td>-0.639435</td>\n",
       "      <td>0.263203</td>\n",
       "      <td>-0.108877</td>\n",
       "      <td>1.269566</td>\n",
       "      <td>0.939407</td>\n",
       "    </tr>\n",
       "    <tr>\n",
       "      <th>102446</th>\n",
       "      <td>68207.0</td>\n",
       "      <td>1.00</td>\n",
       "      <td>1</td>\n",
       "      <td>-13.192671</td>\n",
       "      <td>12.785971</td>\n",
       "      <td>-9.906650</td>\n",
       "      <td>3.320337</td>\n",
       "      <td>-4.801176</td>\n",
       "      <td>5.760059</td>\n",
       "      <td>-18.750889</td>\n",
       "      <td>...</td>\n",
       "      <td>0.051576</td>\n",
       "      <td>-3.493050</td>\n",
       "      <td>27.202839</td>\n",
       "      <td>-8.887017</td>\n",
       "      <td>5.303607</td>\n",
       "      <td>-0.639435</td>\n",
       "      <td>0.263203</td>\n",
       "      <td>-0.108877</td>\n",
       "      <td>1.269566</td>\n",
       "      <td>0.939407</td>\n",
       "    </tr>\n",
       "    <tr>\n",
       "      <th>141257</th>\n",
       "      <td>84204.0</td>\n",
       "      <td>0.00</td>\n",
       "      <td>1</td>\n",
       "      <td>-0.937843</td>\n",
       "      <td>3.462889</td>\n",
       "      <td>-6.445104</td>\n",
       "      <td>4.932199</td>\n",
       "      <td>-2.233983</td>\n",
       "      <td>-2.291561</td>\n",
       "      <td>-5.695594</td>\n",
       "      <td>...</td>\n",
       "      <td>1.007667</td>\n",
       "      <td>1.129532</td>\n",
       "      <td>1.066550</td>\n",
       "      <td>-0.521657</td>\n",
       "      <td>-0.319917</td>\n",
       "      <td>-0.405859</td>\n",
       "      <td>0.906802</td>\n",
       "      <td>1.165784</td>\n",
       "      <td>1.374495</td>\n",
       "      <td>0.729889</td>\n",
       "    </tr>\n",
       "    <tr>\n",
       "      <th>141258</th>\n",
       "      <td>84204.0</td>\n",
       "      <td>0.00</td>\n",
       "      <td>1</td>\n",
       "      <td>-0.937843</td>\n",
       "      <td>3.462889</td>\n",
       "      <td>-6.445104</td>\n",
       "      <td>4.932199</td>\n",
       "      <td>-2.233983</td>\n",
       "      <td>-2.291561</td>\n",
       "      <td>-5.695594</td>\n",
       "      <td>...</td>\n",
       "      <td>1.007667</td>\n",
       "      <td>1.129532</td>\n",
       "      <td>1.066550</td>\n",
       "      <td>-0.521657</td>\n",
       "      <td>-0.319917</td>\n",
       "      <td>-0.405859</td>\n",
       "      <td>0.906802</td>\n",
       "      <td>1.165784</td>\n",
       "      <td>1.374495</td>\n",
       "      <td>0.729889</td>\n",
       "    </tr>\n",
       "    <tr>\n",
       "      <th>141259</th>\n",
       "      <td>84204.0</td>\n",
       "      <td>512.25</td>\n",
       "      <td>1</td>\n",
       "      <td>-1.927453</td>\n",
       "      <td>1.827621</td>\n",
       "      <td>-7.019495</td>\n",
       "      <td>5.348303</td>\n",
       "      <td>-2.739188</td>\n",
       "      <td>-2.107219</td>\n",
       "      <td>-5.015848</td>\n",
       "      <td>...</td>\n",
       "      <td>0.844060</td>\n",
       "      <td>2.172709</td>\n",
       "      <td>1.376938</td>\n",
       "      <td>-0.792017</td>\n",
       "      <td>-0.771414</td>\n",
       "      <td>-0.379574</td>\n",
       "      <td>0.718717</td>\n",
       "      <td>1.111151</td>\n",
       "      <td>1.277707</td>\n",
       "      <td>0.819081</td>\n",
       "    </tr>\n",
       "    <tr>\n",
       "      <th>141260</th>\n",
       "      <td>84204.0</td>\n",
       "      <td>512.25</td>\n",
       "      <td>1</td>\n",
       "      <td>-1.927453</td>\n",
       "      <td>1.827621</td>\n",
       "      <td>-7.019495</td>\n",
       "      <td>5.348303</td>\n",
       "      <td>-2.739188</td>\n",
       "      <td>-2.107219</td>\n",
       "      <td>-5.015848</td>\n",
       "      <td>...</td>\n",
       "      <td>0.844060</td>\n",
       "      <td>2.172709</td>\n",
       "      <td>1.376938</td>\n",
       "      <td>-0.792017</td>\n",
       "      <td>-0.771414</td>\n",
       "      <td>-0.379574</td>\n",
       "      <td>0.718717</td>\n",
       "      <td>1.111151</td>\n",
       "      <td>1.277707</td>\n",
       "      <td>0.819081</td>\n",
       "    </tr>\n",
       "  </tbody>\n",
       "</table>\n",
       "<p>10 rows × 31 columns</p>\n",
       "</div>"
      ],
      "text/plain": [
       "           Time  Amount  Class         V1         V2        V3        V4  \\\n",
       "102441  68207.0    1.00      1 -13.192671  12.785971 -9.906650  3.320337   \n",
       "102442  68207.0    1.00      1 -13.192671  12.785971 -9.906650  3.320337   \n",
       "102443  68207.0    1.00      1 -13.192671  12.785971 -9.906650  3.320337   \n",
       "102444  68207.0    1.00      1 -13.192671  12.785971 -9.906650  3.320337   \n",
       "102445  68207.0    1.00      1 -13.192671  12.785971 -9.906650  3.320337   \n",
       "102446  68207.0    1.00      1 -13.192671  12.785971 -9.906650  3.320337   \n",
       "141257  84204.0    0.00      1  -0.937843   3.462889 -6.445104  4.932199   \n",
       "141258  84204.0    0.00      1  -0.937843   3.462889 -6.445104  4.932199   \n",
       "141259  84204.0  512.25      1  -1.927453   1.827621 -7.019495  5.348303   \n",
       "141260  84204.0  512.25      1  -1.927453   1.827621 -7.019495  5.348303   \n",
       "\n",
       "              V5        V6         V7  ...       V19       V20        V21  \\\n",
       "102441 -4.801176  5.760059 -18.750889  ...  0.051576 -3.493050  27.202839   \n",
       "102442 -4.801176  5.760059 -18.750889  ...  0.051576 -3.493050  27.202839   \n",
       "102443 -4.801176  5.760059 -18.750889  ...  0.051576 -3.493050  27.202839   \n",
       "102444 -4.801176  5.760059 -18.750889  ...  0.051576 -3.493050  27.202839   \n",
       "102445 -4.801176  5.760059 -18.750889  ...  0.051576 -3.493050  27.202839   \n",
       "102446 -4.801176  5.760059 -18.750889  ...  0.051576 -3.493050  27.202839   \n",
       "141257 -2.233983 -2.291561  -5.695594  ...  1.007667  1.129532   1.066550   \n",
       "141258 -2.233983 -2.291561  -5.695594  ...  1.007667  1.129532   1.066550   \n",
       "141259 -2.739188 -2.107219  -5.015848  ...  0.844060  2.172709   1.376938   \n",
       "141260 -2.739188 -2.107219  -5.015848  ...  0.844060  2.172709   1.376938   \n",
       "\n",
       "             V22       V23       V24       V25       V26       V27       V28  \n",
       "102441 -8.887017  5.303607 -0.639435  0.263203 -0.108877  1.269566  0.939407  \n",
       "102442 -8.887017  5.303607 -0.639435  0.263203 -0.108877  1.269566  0.939407  \n",
       "102443 -8.887017  5.303607 -0.639435  0.263203 -0.108877  1.269566  0.939407  \n",
       "102444 -8.887017  5.303607 -0.639435  0.263203 -0.108877  1.269566  0.939407  \n",
       "102445 -8.887017  5.303607 -0.639435  0.263203 -0.108877  1.269566  0.939407  \n",
       "102446 -8.887017  5.303607 -0.639435  0.263203 -0.108877  1.269566  0.939407  \n",
       "141257 -0.521657 -0.319917 -0.405859  0.906802  1.165784  1.374495  0.729889  \n",
       "141258 -0.521657 -0.319917 -0.405859  0.906802  1.165784  1.374495  0.729889  \n",
       "141259 -0.792017 -0.771414 -0.379574  0.718717  1.111151  1.277707  0.819081  \n",
       "141260 -0.792017 -0.771414 -0.379574  0.718717  1.111151  1.277707  0.819081  \n",
       "\n",
       "[10 rows x 31 columns]"
      ]
     },
     "execution_count": 17,
     "metadata": {},
     "output_type": "execute_result"
    }
   ],
   "source": [
    "# Show only duplicated fraudulent transactions\n",
    "fraud_duplicates = duplicated_rows[duplicated_rows['Class'] == 1]\n",
    "fraud_duplicates.head(10)"
   ]
  },
  {
   "cell_type": "code",
   "execution_count": 18,
   "id": "54f416e1",
   "metadata": {},
   "outputs": [
    {
     "data": {
      "text/html": [
       "<div>\n",
       "<style scoped>\n",
       "    .dataframe tbody tr th:only-of-type {\n",
       "        vertical-align: middle;\n",
       "    }\n",
       "\n",
       "    .dataframe tbody tr th {\n",
       "        vertical-align: top;\n",
       "    }\n",
       "\n",
       "    .dataframe thead th {\n",
       "        text-align: right;\n",
       "    }\n",
       "</style>\n",
       "<table border=\"1\" class=\"dataframe\">\n",
       "  <thead>\n",
       "    <tr style=\"text-align: right;\">\n",
       "      <th></th>\n",
       "      <th>Time</th>\n",
       "      <th>Amount</th>\n",
       "      <th>Class</th>\n",
       "      <th>V1</th>\n",
       "      <th>V2</th>\n",
       "      <th>V3</th>\n",
       "      <th>V4</th>\n",
       "      <th>V5</th>\n",
       "      <th>V6</th>\n",
       "      <th>V7</th>\n",
       "      <th>...</th>\n",
       "      <th>V20</th>\n",
       "      <th>V21</th>\n",
       "      <th>V22</th>\n",
       "      <th>V23</th>\n",
       "      <th>V24</th>\n",
       "      <th>V25</th>\n",
       "      <th>V26</th>\n",
       "      <th>V27</th>\n",
       "      <th>V28</th>\n",
       "      <th>count</th>\n",
       "    </tr>\n",
       "  </thead>\n",
       "  <tbody>\n",
       "    <tr>\n",
       "      <th>0</th>\n",
       "      <td>68207.0</td>\n",
       "      <td>1.00</td>\n",
       "      <td>1</td>\n",
       "      <td>-13.192671</td>\n",
       "      <td>12.785971</td>\n",
       "      <td>-9.906650</td>\n",
       "      <td>3.320337</td>\n",
       "      <td>-4.801176</td>\n",
       "      <td>5.760059</td>\n",
       "      <td>-18.750889</td>\n",
       "      <td>...</td>\n",
       "      <td>-3.493050</td>\n",
       "      <td>27.202839</td>\n",
       "      <td>-8.887017</td>\n",
       "      <td>5.303607</td>\n",
       "      <td>-0.639435</td>\n",
       "      <td>0.263203</td>\n",
       "      <td>-0.108877</td>\n",
       "      <td>1.269566</td>\n",
       "      <td>0.939407</td>\n",
       "      <td>6</td>\n",
       "    </tr>\n",
       "    <tr>\n",
       "      <th>1</th>\n",
       "      <td>94362.0</td>\n",
       "      <td>1.00</td>\n",
       "      <td>1</td>\n",
       "      <td>-26.457745</td>\n",
       "      <td>16.497472</td>\n",
       "      <td>-30.177317</td>\n",
       "      <td>8.904157</td>\n",
       "      <td>-17.892600</td>\n",
       "      <td>-1.227904</td>\n",
       "      <td>-31.197329</td>\n",
       "      <td>...</td>\n",
       "      <td>2.812241</td>\n",
       "      <td>-8.755698</td>\n",
       "      <td>3.460893</td>\n",
       "      <td>0.896538</td>\n",
       "      <td>0.254836</td>\n",
       "      <td>-0.738097</td>\n",
       "      <td>-0.966564</td>\n",
       "      <td>-7.263482</td>\n",
       "      <td>-1.324884</td>\n",
       "      <td>4</td>\n",
       "    </tr>\n",
       "    <tr>\n",
       "      <th>2</th>\n",
       "      <td>84204.0</td>\n",
       "      <td>0.00</td>\n",
       "      <td>1</td>\n",
       "      <td>-0.937843</td>\n",
       "      <td>3.462889</td>\n",
       "      <td>-6.445104</td>\n",
       "      <td>4.932199</td>\n",
       "      <td>-2.233983</td>\n",
       "      <td>-2.291561</td>\n",
       "      <td>-5.695594</td>\n",
       "      <td>...</td>\n",
       "      <td>1.129532</td>\n",
       "      <td>1.066550</td>\n",
       "      <td>-0.521657</td>\n",
       "      <td>-0.319917</td>\n",
       "      <td>-0.405859</td>\n",
       "      <td>0.906802</td>\n",
       "      <td>1.165784</td>\n",
       "      <td>1.374495</td>\n",
       "      <td>0.729889</td>\n",
       "      <td>2</td>\n",
       "    </tr>\n",
       "    <tr>\n",
       "      <th>3</th>\n",
       "      <td>84204.0</td>\n",
       "      <td>512.25</td>\n",
       "      <td>1</td>\n",
       "      <td>-1.927453</td>\n",
       "      <td>1.827621</td>\n",
       "      <td>-7.019495</td>\n",
       "      <td>5.348303</td>\n",
       "      <td>-2.739188</td>\n",
       "      <td>-2.107219</td>\n",
       "      <td>-5.015848</td>\n",
       "      <td>...</td>\n",
       "      <td>2.172709</td>\n",
       "      <td>1.376938</td>\n",
       "      <td>-0.792017</td>\n",
       "      <td>-0.771414</td>\n",
       "      <td>-0.379574</td>\n",
       "      <td>0.718717</td>\n",
       "      <td>1.111151</td>\n",
       "      <td>1.277707</td>\n",
       "      <td>0.819081</td>\n",
       "      <td>2</td>\n",
       "    </tr>\n",
       "    <tr>\n",
       "      <th>4</th>\n",
       "      <td>85285.0</td>\n",
       "      <td>0.00</td>\n",
       "      <td>1</td>\n",
       "      <td>-7.030308</td>\n",
       "      <td>3.421991</td>\n",
       "      <td>-9.525072</td>\n",
       "      <td>5.270891</td>\n",
       "      <td>-4.024630</td>\n",
       "      <td>-2.865682</td>\n",
       "      <td>-6.989195</td>\n",
       "      <td>...</td>\n",
       "      <td>0.545698</td>\n",
       "      <td>1.103398</td>\n",
       "      <td>-0.541855</td>\n",
       "      <td>0.036943</td>\n",
       "      <td>-0.355519</td>\n",
       "      <td>0.353634</td>\n",
       "      <td>1.042458</td>\n",
       "      <td>1.359516</td>\n",
       "      <td>-0.272188</td>\n",
       "      <td>2</td>\n",
       "    </tr>\n",
       "  </tbody>\n",
       "</table>\n",
       "<p>5 rows × 32 columns</p>\n",
       "</div>"
      ],
      "text/plain": [
       "      Time  Amount  Class         V1         V2         V3        V4  \\\n",
       "0  68207.0    1.00      1 -13.192671  12.785971  -9.906650  3.320337   \n",
       "1  94362.0    1.00      1 -26.457745  16.497472 -30.177317  8.904157   \n",
       "2  84204.0    0.00      1  -0.937843   3.462889  -6.445104  4.932199   \n",
       "3  84204.0  512.25      1  -1.927453   1.827621  -7.019495  5.348303   \n",
       "4  85285.0    0.00      1  -7.030308   3.421991  -9.525072  5.270891   \n",
       "\n",
       "          V5        V6         V7  ...       V20        V21       V22  \\\n",
       "0  -4.801176  5.760059 -18.750889  ... -3.493050  27.202839 -8.887017   \n",
       "1 -17.892600 -1.227904 -31.197329  ...  2.812241  -8.755698  3.460893   \n",
       "2  -2.233983 -2.291561  -5.695594  ...  1.129532   1.066550 -0.521657   \n",
       "3  -2.739188 -2.107219  -5.015848  ...  2.172709   1.376938 -0.792017   \n",
       "4  -4.024630 -2.865682  -6.989195  ...  0.545698   1.103398 -0.541855   \n",
       "\n",
       "        V23       V24       V25       V26       V27       V28  count  \n",
       "0  5.303607 -0.639435  0.263203 -0.108877  1.269566  0.939407      6  \n",
       "1  0.896538  0.254836 -0.738097 -0.966564 -7.263482 -1.324884      4  \n",
       "2 -0.319917 -0.405859  0.906802  1.165784  1.374495  0.729889      2  \n",
       "3 -0.771414 -0.379574  0.718717  1.111151  1.277707  0.819081      2  \n",
       "4  0.036943 -0.355519  0.353634  1.042458  1.359516 -0.272188      2  \n",
       "\n",
       "[5 rows x 32 columns]"
      ]
     },
     "execution_count": 18,
     "metadata": {},
     "output_type": "execute_result"
    }
   ],
   "source": [
    "# Count duplicate fraud rows\n",
    "fraud_dup_counts = fraud_duplicates.value_counts().reset_index(name='count')\n",
    "fraud_dup_counts = fraud_dup_counts.sort_values(by='count', ascending=False)\n",
    "fraud_dup_counts.head()"
   ]
  },
  {
   "cell_type": "markdown",
   "id": "9777c1f7",
   "metadata": {},
   "source": [
    "After thoroughly analyzing the duplicated rows, it was decided not to remove them. Although these duplicates could potentially be a system error where transactions were recorded multiple times, there is also the possibility that they represent real transactions that happen to be recorded simultaneously. Given this, it was concluded that removing these rows could result in the loss of potentially important information, especially in the context of fraudulent transactions.\n",
    "\n",
    "Therefore, we chose to retain the duplicated rows in the dataset for further analysis, as removing them could inadvertently lead to the exclusion of valid instances, which might negatively impact model performance."
   ]
  },
  {
   "cell_type": "markdown",
   "id": "aacec5e3",
   "metadata": {},
   "source": [
    "## 5.2 Data Visualization"
   ]
  },
  {
   "cell_type": "markdown",
   "id": "088994c8",
   "metadata": {},
   "source": [
    "Data visualization is an essential step in exploratory data analysis, as it allows us to better understand the distribution of the data, the relationships between variables, and to identify any potential outliers or patterns that may influence the performance of machine learning models.\n",
    "\n",
    "In this section, we will utilize various visualization techniques, including histograms, box plots, and pair plots, to explore key features of the dataset, such as the distribution of the target variable 'Class', the distribution of 'Amount', and the correlation between features.\n",
    "\n",
    "To begin the data visualization process, we first import the necessary libraries: Seaborn for statistical data visualization and Matplotlib for creating static, animated, and interactive visualizations in Python."
   ]
  },
  {
   "cell_type": "code",
   "execution_count": 19,
   "id": "c1d0ff8a",
   "metadata": {},
   "outputs": [],
   "source": [
    "import matplotlib.pyplot as plt\n",
    "import seaborn as sns"
   ]
  },
  {
   "cell_type": "markdown",
   "id": "6bbcf745",
   "metadata": {},
   "source": [
    "The first step in the data visualization process is to examine the distribution of transaction classes. By plotting the target variable 'Class', we can clearly observe the imbalance between legitimate transactions (Class = 0) and fraudulent ones (Class = 1). This visualization will provide a better understanding of the extent of the class imbalance in the dataset, which is a critical factor to consider in predictive modeling."
   ]
  },
  {
   "cell_type": "code",
   "execution_count": 20,
   "id": "f3a15029",
   "metadata": {},
   "outputs": [
    {
     "data": {
      "image/png": "[encoded data removed]",
      "text/plain": [
       "<Figure size 576x360 with 1 Axes>"
      ]
     },
     "metadata": {
      "needs_background": "light"
     },
     "output_type": "display_data"
    }
   ],
   "source": [
    "# Plot the countplot\n",
    "plt.figure(figsize=(8, 5))\n",
    "ax = sns.countplot(data=df, x='Class', palette=['green', 'red'])\n",
    "plt.title('Distribution of Transactions')\n",
    "plt.xticks([0, 1], ['Genuine', 'Fraudulent'])  # Set custom labels\n",
    "plt.xlabel('Transaction Type')\n",
    "plt.ylabel('Count')\n",
    "\n",
    "# Annotate each bar with count\n",
    "for p in ax.patches:\n",
    "    count = int(p.get_height())\n",
    "    ax.annotate(f'{count:,}', (p.get_x() + p.get_width() / 2., p.get_height()),\n",
    "                ha='center', va='bottom', fontsize=10, fontweight='bold')\n",
    "\n",
    "plt.show()\n"
   ]
  },
  {
   "cell_type": "code",
   "execution_count": 21,
   "id": "9a87393e",
   "metadata": {},
   "outputs": [
    {
     "data": {
      "image/png": "[encoded data removed]",
      "text/plain": [
       "<Figure size 1080x432 with 1 Axes>"
      ]
     },
     "metadata": {
      "needs_background": "light"
     },
     "output_type": "display_data"
    }
   ],
   "source": [
    "plt.figure(figsize=(15, 6))\n",
    "sns.histplot(data=df[df['Class'] == 0], x='Time', bins=100, label='Genuine', color='green', alpha=0.5)\n",
    "sns.histplot(data=df[df['Class'] == 1], x='Time', bins=100, label='Fraudulent', color='red', alpha=0.7)\n",
    "plt.yscale('log')  # Apply log scale\n",
    "plt.title('Transaction Frequency Over Time (Log Scale)')\n",
    "plt.xlabel('Time (in seconds)')\n",
    "plt.ylabel('Transaction Count (log scale)')\n",
    "plt.legend()\n",
    "plt.show()"
   ]
  },
  {
   "cell_type": "markdown",
   "id": "52fe0bee",
   "metadata": {},
   "source": [
    "To further explore the temporal behavior of transactions, we separate the frequency of legitimate and fraudulent transactions into two subplots. This allows for a more precise visual comparison of when these transactions occur over the same time scale."
   ]
  },
  {
   "cell_type": "code",
   "execution_count": 22,
   "id": "cf8abb6a",
   "metadata": {},
   "outputs": [
    {
     "data": {
      "image/png": "[encoded data removed]",
      "text/plain": [
       "<Figure size 1080x720 with 2 Axes>"
      ]
     },
     "metadata": {
      "needs_background": "light"
     },
     "output_type": "display_data"
    }
   ],
   "source": [
    "# Create subplots\n",
    "fig, axes = plt.subplots(2, 1, figsize=(15, 10), sharex=True)\n",
    "\n",
    "# Genuine transactions\n",
    "sns.histplot(data=df[df['Class'] == 0], x='Time', bins=100, color='green', ax=axes[0])\n",
    "axes[0].set_title('Genuine Transactions Over Time')\n",
    "axes[0].set_ylabel('Count')\n",
    "\n",
    "# Fraudulent transactions\n",
    "sns.histplot(data=df[df['Class'] == 1], x='Time', bins=100, color='red', ax=axes[1])\n",
    "axes[1].set_title('Fraudulent Transactions Over Time')\n",
    "axes[1].set_xlabel('Time (seconds since first transaction)')\n",
    "axes[1].set_ylabel('Count')\n",
    "\n",
    "plt.tight_layout()\n",
    "plt.show()"
   ]
  },
  {
   "cell_type": "code",
   "execution_count": 23,
   "id": "3faf857e",
   "metadata": {},
   "outputs": [
    {
     "data": {
      "image/png": "[encoded data removed]",
      "text/plain": [
       "<Figure size 720x360 with 1 Axes>"
      ]
     },
     "metadata": {
      "needs_background": "light"
     },
     "output_type": "display_data"
    }
   ],
   "source": [
    "plt.figure(figsize=(10, 5))\n",
    "sns.kdeplot(data=df[df['Class'] == 0], x='Amount', label='Genuine', fill=True, color='green')\n",
    "sns.kdeplot(data=df[df['Class'] == 1], x='Amount', label='Fraudulent', fill=True, color='red')\n",
    "plt.title('Distribution of Transaction Amounts')\n",
    "plt.xlabel('Amount ($)')\n",
    "plt.ylabel('Density')\n",
    "plt.legend()\n",
    "plt.xlim(0, 2000)  # Optional: limit axis to focus on normal range\n",
    "plt.show()"
   ]
  },
  {
   "cell_type": "code",
   "execution_count": 24,
   "id": "49497566",
   "metadata": {},
   "outputs": [
    {
     "data": {
      "image/png": "[encoded data removed]",
      "text/plain": [
       "<Figure size 864x432 with 1 Axes>"
      ]
     },
     "metadata": {
      "needs_background": "light"
     },
     "output_type": "display_data"
    }
   ],
   "source": [
    "# Filter only fraudulent transactions\n",
    "fraud_df = df[df['Class'] == 1]\n",
    "\n",
    "# Scatter plot of Amount vs Time for fraudulent transactions\n",
    "plt.figure(figsize=(12, 6))\n",
    "sns.scatterplot(data=fraud_df, x='Time', y='Amount', color='red', alpha=0.6)\n",
    "plt.title('Fraudulent Transactions: Amount vs Time')\n",
    "plt.xlabel('Time (seconds since first transaction)')\n",
    "plt.ylabel('Transaction Amount ($)')\n",
    "plt.show()"
   ]
  },
  {
   "cell_type": "markdown",
   "id": "b9141376",
   "metadata": {},
   "source": [
    "To gain deeper insights into which features are most associated with fraudulent activity, we compute the correlation between each feature and the target variable 'Class'. This analysis reveals the strength and direction of the relationship between features and fraud, helping us understand which variables are most relevant for predicting fraudulent transactions."
   ]
  },
  {
   "cell_type": "code",
   "execution_count": 25,
   "id": "3676f42c",
   "metadata": {},
   "outputs": [
    {
     "data": {
      "image/png": "[encoded data removed]",
      "text/plain": [
       "<Figure size 1440x1080 with 2 Axes>"
      ]
     },
     "metadata": {
      "needs_background": "light"
     },
     "output_type": "display_data"
    }
   ],
   "source": [
    "# Calculate the correlation matrix\n",
    "corr_matrix = df.corr()\n",
    "\n",
    "# Set up the matplotlib figure\n",
    "plt.figure(figsize=(20, 15))\n",
    "\n",
    "# Draw the heatmap\n",
    "sns.heatmap(corr_matrix, cmap='coolwarm', annot=False, fmt='.2f', linewidths=0.5)\n",
    "plt.title('Correlation Matrix of Features', fontsize=18)\n",
    "plt.show()"
   ]
  },
  {
   "cell_type": "code",
   "execution_count": 26,
   "id": "e42cda29",
   "metadata": {},
   "outputs": [
    {
     "name": "stdout",
     "output_type": "stream",
     "text": [
      "Class     1.000000\n",
      "V11       0.154876\n",
      "V4        0.133447\n",
      "V2        0.091289\n",
      "V21       0.040413\n",
      "V19       0.034783\n",
      "V20       0.020090\n",
      "V8        0.019875\n",
      "V27       0.017580\n",
      "V28       0.009536\n",
      "Amount    0.005632\n",
      "V26       0.004455\n",
      "V25       0.003308\n",
      "V22       0.000805\n",
      "V23      -0.002685\n",
      "V15      -0.004223\n",
      "V13      -0.004570\n",
      "V24      -0.007221\n",
      "Time     -0.012323\n",
      "V6       -0.043643\n",
      "V5       -0.094974\n",
      "V9       -0.097733\n",
      "V1       -0.101347\n",
      "V18      -0.111485\n",
      "V7       -0.187257\n",
      "V3       -0.192961\n",
      "V16      -0.196539\n",
      "V10      -0.216883\n",
      "V12      -0.260593\n",
      "V14      -0.302544\n",
      "V17      -0.326481\n",
      "Name: Class, dtype: float64\n"
     ]
    }
   ],
   "source": [
    "# Correlation of all features with 'Class'\n",
    "correlation_with_class = corr_matrix['Class'].sort_values(ascending=False)\n",
    "print(correlation_with_class)"
   ]
  },
  {
   "cell_type": "markdown",
   "id": "6ad2b07e",
   "metadata": {},
   "source": [
    "The analysis revealed several features with noteworthy correlation values:\n",
    "\n",
    "V11 (0.15) and V4 (0.13) exhibit positive correlations with fraud.\n",
    "\n",
    "V17 (-0.32), V14 (-0.30), and V12 (-0.26) show strong negative correlations with fraud.\n",
    "\n",
    "These features are likely to be important in the modeling phase, as they capture patterns that differentiate fraudulent from legitimate transactions. "
   ]
  },
  {
   "cell_type": "markdown",
   "id": "768aeea2",
   "metadata": {},
   "source": [
    "To further investigate the most relevant features identified in the correlation analysis, we compare their distributions across both transaction classes: Class 0 (Legitimate) and Class 1 (Fraudulent). This visualization helps us observe how these variables behave differently in fraudulent versus non-fraudulent transactions.\n",
    "\n",
    "We use Seaborn's kdeplot to visualize the probability density function of each feature for both classes. We focus on the four most correlated features: V11, V17, V14, and V4."
   ]
  },
  {
   "cell_type": "code",
   "execution_count": 27,
   "id": "31df0360",
   "metadata": {},
   "outputs": [
    {
     "data": {
      "image/png": "[encoded data removed]",
      "text/plain": [
       "<Figure size 1152x720 with 4 Axes>"
      ]
     },
     "metadata": {
      "needs_background": "light"
     },
     "output_type": "display_data"
    }
   ],
   "source": [
    "# Select most correlated features\n",
    "top_features = ['V11', 'V17', 'V14', 'V4']\n",
    "\n",
    "# Plot the distributions\n",
    "import matplotlib.pyplot as plt\n",
    "import seaborn as sns\n",
    "\n",
    "plt.figure(figsize=(16, 10))\n",
    "\n",
    "for i, feature in enumerate(top_features, 1):\n",
    "    plt.subplot(2, 2, i)\n",
    "    sns.kdeplot(data=df[df['Class'] == 0], x=feature, label='Genuine', fill=True, color='green')\n",
    "    sns.kdeplot(data=df[df['Class'] == 1], x=feature, label='Fraudulent', fill=True, color='red')\n",
    "    plt.title(f'Distribution of {feature} by Class')\n",
    "    plt.legend()\n",
    "\n",
    "plt.tight_layout()\n",
    "plt.show()"
   ]
  },
  {
   "cell_type": "markdown",
   "id": "41782ffb",
   "metadata": {},
   "source": [
    "In these plots:\n",
    "\n",
    "The green curves represent how the feature is distributed in legitimate transactions.\n",
    "\n",
    "The red curves show the distribution in fraudulent transactions.\n",
    "\n",
    "These visualizations make it evident that some features (such as V17 and V14) display clear distributional differences between the two classes. This suggests that they carry discriminative power, making them valuable inputs for the predictive model."
   ]
  },
  {
   "cell_type": "markdown",
   "id": "5b66c465",
   "metadata": {},
   "source": [
    "## 5.3 Scaling"
   ]
  },
  {
   "cell_type": "markdown",
   "id": "a50d9fb2",
   "metadata": {},
   "source": [
    "Before training machine learning models, it is essential to normalize the dataset to ensure that all features contribute equally to the analysis. This is particularly important for algorithms that are sensitive to the scale of data, such as Logistic Regression, k-Nearest Neighbors (k-NN), and Support Vector Machines (SVM).\n",
    "\n",
    "The dataset contains numerical values with different ranges, such as the Amount feature, which varies widely and could disproportionately influence the model's learning process. Therefore, we apply standardization using StandardScaler, which transforms the features to have a mean of 0 and a standard deviation of 1.\n",
    "\n",
    "We will normalize only the Amount and Time features, since the rest of the variables (V1 to V28) have already been transformed via PCA and are already scaled."
   ]
  },
  {
   "cell_type": "code",
   "execution_count": 28,
   "id": "ec2f6330",
   "metadata": {},
   "outputs": [],
   "source": [
    "from sklearn.preprocessing import StandardScaler\n",
    "\n",
    "# Create a copy of the dataframe to keep original intact\n",
    "df_normalized = df.copy()\n",
    "\n",
    "# Initialize the scaler\n",
    "scaler = StandardScaler()\n",
    "\n",
    "# Normalize 'Amount' and 'Time'\n",
    "df_normalized[['Amount', 'Time']] = scaler.fit_transform(df_normalized[['Amount', 'Time']])"
   ]
  },
  {
   "cell_type": "markdown",
   "id": "3b8a6323",
   "metadata": {},
   "source": [
    "The Amount feature represents the monetary value of each transaction and can vary significantly, from just a few cents to several thousands. This wide range can pose a problem for many machine learning algorithms, such as Logistic Regression, SVM, and k-NN, which are sensitive to the scale of input features. Without normalization, the model might mistakenly give more importance to Amount simply due to its larger numeric values, not because it carries more predictive power.\n",
    "\n",
    "Similarly, the Time feature indicates the number of seconds elapsed since the first transaction in the dataset. While it increases continuously, its raw values do not carry intrinsic meaning on their own. What matters is how Time relates to other factors and patterns in the data. By normalizing Time, we ensure it is on a comparable scale with the rest of the features, improving the model’s ability to learn from the data effectively."
   ]
  },
  {
   "cell_type": "code",
   "execution_count": 29,
   "id": "2a6222a4",
   "metadata": {},
   "outputs": [
    {
     "name": "stdout",
     "output_type": "stream",
     "text": [
      "Mean of Amount: 3.202236423019539e-16\n",
      "Std of Amount: 1.0000017555792826\n",
      "Mean of Time: -1.0503786406559267e-14\n",
      "Std of Time: 1.0000017555794558\n"
     ]
    }
   ],
   "source": [
    "# Check mean and std after scaling\n",
    "print(\"Mean of Amount:\", df_normalized['Amount'].mean())\n",
    "print(\"Std of Amount:\", df_normalized['Amount'].std())\n",
    "print(\"Mean of Time:\", df_normalized['Time'].mean())\n",
    "print(\"Std of Time:\", df_normalized['Time'].std())"
   ]
  },
  {
   "cell_type": "markdown",
   "id": "b26d7dcb",
   "metadata": {},
   "source": [
    "At this point, the dataset is fully normalized and ready for the next stage of the project: model training and evaluation.\n",
    "By standardizing Time and Amount, we bring all features to a comparable scale, allowing the machine learning algorithms to better learn from the underlying patterns in the data without being biased by numerical disparities."
   ]
  },
  {
   "cell_type": "markdown",
   "id": "dedbd357",
   "metadata": {},
   "source": [
    "# 5. Machine Learning"
   ]
  },
  {
   "cell_type": "markdown",
   "id": "63f95bbd",
   "metadata": {},
   "source": [
    "Since the dataset is highly imbalanced—with a significantly larger number of genuine transactions compared to fraudulent ones—it is crucial to maintain the class distribution when splitting the data into training and testing sets. To achieve this, we use the stratify parameter during the split, ensuring that both sets retain the same proportion of fraudulent and non-fraudulent transactions.\n",
    "\n",
    "We will allocate 80% of the data for training and the remaining 20% for testing."
   ]
  },
  {
   "cell_type": "code",
   "execution_count": 30,
   "id": "0aaa1cf6",
   "metadata": {},
   "outputs": [
    {
     "name": "stdout",
     "output_type": "stream",
     "text": [
      "Shape of X_train: (227845, 30)\n",
      "Shape of X_test: (56962, 30)\n",
      "Proportion of frauds in y_train: 0.001729245759178389\n",
      "Proportion of frauds in y_test: 0.0017204452090867595\n"
     ]
    }
   ],
   "source": [
    "from sklearn.model_selection import train_test_split\n",
    "\n",
    "# Separate features and target\n",
    "X = df.drop('Class', axis=1)\n",
    "y = df['Class']\n",
    "\n",
    "# Split the dataset\n",
    "X_train, X_test, y_train, y_test = train_test_split(\n",
    "    X, y, test_size=0.2, random_state=42, stratify=y\n",
    ")\n",
    "\n",
    "print(\"Shape of X_train:\", X_train.shape)\n",
    "print(\"Shape of X_test:\", X_test.shape)\n",
    "print(\"Proportion of frauds in y_train:\", y_train.mean())\n",
    "print(\"Proportion of frauds in y_test:\", y_test.mean())"
   ]
  },
  {
   "cell_type": "markdown",
   "id": "0b95ee38",
   "metadata": {},
   "source": [
    "After performing the stratified train-test split, the resulting data shapes are as follows:\n",
    "\n",
    "**Training set:** 227,845 samples with 30 features\n",
    "\n",
    "**Testing set:** 56,962 samples with 30 features\n",
    "\n",
    "In terms of class distribution, both subsets preserve the original imbalance ratio:\n",
    "\n",
    "**Fraudulent transactions in training set:** approximately 0.17%\n",
    "\n",
    "**Fraudulent transactions in test set:** approximately 0.17%\n",
    "\n",
    "This confirms that the use of stratify=y during the split was effective. Maintaining the same class proportion in both the training and testing sets is essential when dealing with highly imbalanced datasets, as it ensures that the evaluation metrics accurately reflect the model’s performance on both fraudulent and legitimate transactions."
   ]
  },
  {
   "cell_type": "markdown",
   "id": "f11e3e84",
   "metadata": {},
   "source": [
    "## 5.1 Oversampling "
   ]
  },
  {
   "cell_type": "markdown",
   "id": "8481ac0f",
   "metadata": {},
   "source": [
    "After splitting the dataset, and prior to training, it is essential to address the issue of class imbalance. Since fraudulent transactions represent a very small fraction of the total data, training a model on this imbalanced dataset could result in poor detection performance for the minority class.\n",
    "\n",
    "To improve the model’s ability to learn from the minority class (fraudulent transactions), a balancing technique will be applied only to the training set. This approach avoids introducing bias into the evaluation process and ensures that the test set remains a realistic representation of real-world class distributions.\n",
    "\n",
    "By rebalancing the training data, we aim to enhance the model's sensitivity to fraudulent patterns and improve its overall classification performance.\n",
    "\n",
    "It is crucial to apply resampling techniques only after splitting the dataset, and exclusively on the training set. Applying balancing methods before the split would artificially modify the class distribution in the test set. As a result, the test set would no longer reflect the natural imbalance found in real-world scenarios.\n",
    "\n",
    "This would lead to an overly optimistic evaluation of the model’s performance, since it would be tested on data that does not represent the actual distribution of fraudulent vs. legitimate transactions. Therefore, by preserving the original class imbalance in the test set, we ensure a more accurate and realistic assessment of the model’s generalization ability."
   ]
  },
  {
   "cell_type": "code",
   "execution_count": 31,
   "id": "6cf4bf00",
   "metadata": {},
   "outputs": [
    {
     "name": "stdout",
     "output_type": "stream",
     "text": [
      "Requirement already satisfied: imbalanced-learn in c:\\users\\anrse\\anaconda3\\lib\\site-packages (0.10.1)\n",
      "Requirement already satisfied: threadpoolctl>=2.0.0 in c:\\users\\anrse\\anaconda3\\lib\\site-packages (from imbalanced-learn) (2.2.0)\n",
      "Requirement already satisfied: scipy>=1.3.2 in c:\\users\\anrse\\appdata\\roaming\\python\\python39\\site-packages (from imbalanced-learn) (1.9.3)\n",
      "Requirement already satisfied: numpy>=1.17.3 in c:\\users\\anrse\\anaconda3\\lib\\site-packages (from imbalanced-learn) (1.21.5)\n",
      "Requirement already satisfied: scikit-learn>=1.0.2 in c:\\users\\anrse\\anaconda3\\lib\\site-packages (from imbalanced-learn) (1.1.3)\n",
      "Requirement already satisfied: joblib>=1.1.1 in c:\\users\\anrse\\anaconda3\\lib\\site-packages (from imbalanced-learn) (1.2.0)\n"
     ]
    }
   ],
   "source": [
    "!pip install imbalanced-learn"
   ]
  },
  {
   "cell_type": "markdown",
   "id": "1f54a0e2",
   "metadata": {},
   "source": [
    "In this dataset, only approximately 0.17% of the transactions are labeled as fraudulent. This indicates a highly imbalanced scenario where, on average, there is only one fraudulent transaction for every 500 legitimate ones. Such imbalance poses a significant challenge to machine learning models, which may become biased toward the majority class and fail to effectively detect fraud.\n",
    "\n",
    "To address this issue, two main resampling strategies can be considered: oversampling and undersampling.\n",
    "\n",
    "Oversampling, such as the Synthetic Minority Over-sampling Technique (SMOTE), involves generating synthetic examples for the minority class. This method has several advantages: it preserves all the legitimate transactions, performs well in extreme imbalance cases, and is suitable when each instance may contain valuable information. However, it can lead to overfitting and increases the size of the training dataset, resulting in longer training times.\n",
    "\n",
    "On the other hand, undersampling reduces the number of majority class samples. While it is faster and simpler to implement, it carries the risk of discarding a large number of legitimate transactions, potentially removing important information from the dataset.\n",
    "\n",
    "Given the nature of this dataset—where fraudulent samples are extremely rare and each transaction may hold critical signals—the recommended approach is to use oversampling with SMOTE. This method allows us to generate new, realistic fraudulent transactions while retaining the integrity and richness of the original legitimate data."
   ]
  },
  {
   "cell_type": "code",
   "execution_count": 32,
   "id": "a523312f",
   "metadata": {},
   "outputs": [
    {
     "name": "stdout",
     "output_type": "stream",
     "text": [
      "Original X_train shape: (227845, 30)\n",
      "Resampled X_train shape: (454902, 30)\n",
      "Original class distribution in y_train:\n",
      " 0    227451\n",
      "1       394\n",
      "Name: Class, dtype: int64\n",
      "Resampled class distribution in y_train_resampled:\n",
      " 0    227451\n",
      "1    227451\n",
      "Name: Class, dtype: int64\n"
     ]
    }
   ],
   "source": [
    "from imblearn.over_sampling import SMOTE\n",
    "\n",
    "# Crear el objeto SMOTE\n",
    "smote = SMOTE(random_state=42)\n",
    "\n",
    "# Aplicar SMOTE solo al conjunto de entrenamiento\n",
    "X_train_resampled, y_train_resampled = smote.fit_resample(X_train, y_train)\n",
    "\n",
    "# Verificamos la nueva forma y distribución\n",
    "print(\"Original X_train shape:\", X_train.shape)\n",
    "print(\"Resampled X_train shape:\", X_train_resampled.shape)\n",
    "\n",
    "print(\"Original class distribution in y_train:\\n\", y_train.value_counts())\n",
    "print(\"Resampled class distribution in y_train_resampled:\\n\", y_train_resampled.value_counts())"
   ]
  },
  {
   "cell_type": "markdown",
   "id": "083f7457",
   "metadata": {},
   "source": [
    "Before applying SMOTE, the training dataset was highly imbalanced, containing 227,451 legitimate transactions and only 394 fraudulent transactions. This imbalance posed a serious challenge for any model trying to learn meaningful patterns related to fraud detection.\n",
    "\n",
    "After applying SMOTE, the number of fraudulent samples was synthetically increased to match the number of legitimate ones. As a result, the training set is now perfectly balanced, with 227,451 samples in each class. This balance significantly improves the model’s ability to learn from both classes and enhances its capacity to detect fraudulent transactions more effectively."
   ]
  },
  {
   "cell_type": "markdown",
   "id": "d3992d04",
   "metadata": {},
   "source": [
    "## 5.2 Logistic Regression"
   ]
  },
  {
   "cell_type": "markdown",
   "id": "82397c8b",
   "metadata": {},
   "source": [
    "The first classification model applied in this project is Logistic Regression, a linear algorithm commonly used for binary classification tasks. Its main objective is to estimate the probability that a given transaction belongs to the fraudulent class (label 1) or the legitimate class (label 0), based on the input features.\n",
    "\n",
    "Since the training dataset was previously balanced using SMOTE, Logistic Regression now has a more robust foundation to learn from both classes. This significantly enhances the model’s capacity to recognize subtle patterns associated with fraudulent behavior, while avoiding bias toward the majority class."
   ]
  },
  {
   "cell_type": "code",
   "execution_count": 33,
   "id": "6a61d31b",
   "metadata": {},
   "outputs": [],
   "source": [
    "from sklearn.linear_model import LogisticRegression\n",
    "from sklearn.metrics import classification_report, confusion_matrix"
   ]
  },
  {
   "cell_type": "code",
   "execution_count": 34,
   "id": "8de20de0",
   "metadata": {},
   "outputs": [
    {
     "data": {
      "text/html": [
       "<style>#sk-container-id-1 {color: black;background-color: white;}#sk-container-id-1 pre{padding: 0;}#sk-container-id-1 div.sk-toggleable {background-color: white;}#sk-container-id-1 label.sk-toggleable__label {cursor: pointer;display: block;width: 100%;margin-bottom: 0;padding: 0.3em;box-sizing: border-box;text-align: center;}#sk-container-id-1 label.sk-toggleable__label-arrow:before {content: \"▸\";float: left;margin-right: 0.25em;color: #696969;}#sk-container-id-1 label.sk-toggleable__label-arrow:hover:before {color: black;}#sk-container-id-1 div.sk-estimator:hover label.sk-toggleable__label-arrow:before {color: black;}#sk-container-id-1 div.sk-toggleable__content {max-height: 0;max-width: 0;overflow: hidden;text-align: left;background-color: #f0f8ff;}#sk-container-id-1 div.sk-toggleable__content pre {margin: 0.2em;color: black;border-radius: 0.25em;background-color: #f0f8ff;}#sk-container-id-1 input.sk-toggleable__control:checked~div.sk-toggleable__content {max-height: 200px;max-width: 100%;overflow: auto;}#sk-container-id-1 input.sk-toggleable__control:checked~label.sk-toggleable__label-arrow:before {content: \"▾\";}#sk-container-id-1 div.sk-estimator input.sk-toggleable__control:checked~label.sk-toggleable__label {background-color: #d4ebff;}#sk-container-id-1 div.sk-label input.sk-toggleable__control:checked~label.sk-toggleable__label {background-color: #d4ebff;}#sk-container-id-1 input.sk-hidden--visually {border: 0;clip: rect(1px 1px 1px 1px);clip: rect(1px, 1px, 1px, 1px);height: 1px;margin: -1px;overflow: hidden;padding: 0;position: absolute;width: 1px;}#sk-container-id-1 div.sk-estimator {font-family: monospace;background-color: #f0f8ff;border: 1px dotted black;border-radius: 0.25em;box-sizing: border-box;margin-bottom: 0.5em;}#sk-container-id-1 div.sk-estimator:hover {background-color: #d4ebff;}#sk-container-id-1 div.sk-parallel-item::after {content: \"\";width: 100%;border-bottom: 1px solid gray;flex-grow: 1;}#sk-container-id-1 div.sk-label:hover label.sk-toggleable__label {background-color: #d4ebff;}#sk-container-id-1 div.sk-serial::before {content: \"\";position: absolute;border-left: 1px solid gray;box-sizing: border-box;top: 0;bottom: 0;left: 50%;z-index: 0;}#sk-container-id-1 div.sk-serial {display: flex;flex-direction: column;align-items: center;background-color: white;padding-right: 0.2em;padding-left: 0.2em;position: relative;}#sk-container-id-1 div.sk-item {position: relative;z-index: 1;}#sk-container-id-1 div.sk-parallel {display: flex;align-items: stretch;justify-content: center;background-color: white;position: relative;}#sk-container-id-1 div.sk-item::before, #sk-container-id-1 div.sk-parallel-item::before {content: \"\";position: absolute;border-left: 1px solid gray;box-sizing: border-box;top: 0;bottom: 0;left: 50%;z-index: -1;}#sk-container-id-1 div.sk-parallel-item {display: flex;flex-direction: column;z-index: 1;position: relative;background-color: white;}#sk-container-id-1 div.sk-parallel-item:first-child::after {align-self: flex-end;width: 50%;}#sk-container-id-1 div.sk-parallel-item:last-child::after {align-self: flex-start;width: 50%;}#sk-container-id-1 div.sk-parallel-item:only-child::after {width: 0;}#sk-container-id-1 div.sk-dashed-wrapped {border: 1px dashed gray;margin: 0 0.4em 0.5em 0.4em;box-sizing: border-box;padding-bottom: 0.4em;background-color: white;}#sk-container-id-1 div.sk-label label {font-family: monospace;font-weight: bold;display: inline-block;line-height: 1.2em;}#sk-container-id-1 div.sk-label-container {text-align: center;}#sk-container-id-1 div.sk-container {/* jupyter's `normalize.less` sets `[hidden] { display: none; }` but bootstrap.min.css set `[hidden] { display: none !important; }` so we also need the `!important` here to be able to override the default hidden behavior on the sphinx rendered scikit-learn.org. See: https://github.com/scikit-learn/scikit-learn/issues/21755 */display: inline-block !important;position: relative;}#sk-container-id-1 div.sk-text-repr-fallback {display: none;}</style><div id=\"sk-container-id-1\" class=\"sk-top-container\"><div class=\"sk-text-repr-fallback\"><pre>LogisticRegression(max_iter=1000, random_state=42)</pre><b>In a Jupyter environment, please rerun this cell to show the HTML representation or trust the notebook. <br />On GitHub, the HTML representation is unable to render, please try loading this page with nbviewer.org.</b></div><div class=\"sk-container\" hidden><div class=\"sk-item\"><div class=\"sk-estimator sk-toggleable\"><input class=\"sk-toggleable__control sk-hidden--visually\" id=\"sk-estimator-id-1\" type=\"checkbox\" checked><label for=\"sk-estimator-id-1\" class=\"sk-toggleable__label sk-toggleable__label-arrow\">LogisticRegression</label><div class=\"sk-toggleable__content\"><pre>LogisticRegression(max_iter=1000, random_state=42)</pre></div></div></div></div></div>"
      ],
      "text/plain": [
       "LogisticRegression(max_iter=1000, random_state=42)"
      ]
     },
     "execution_count": 34,
     "metadata": {},
     "output_type": "execute_result"
    }
   ],
   "source": [
    "#Create and train the model using the resampled data\n",
    "model = LogisticRegression(max_iter=1000, random_state=42)\n",
    "model.fit(X_train_resampled, y_train_resampled)"
   ]
  },
  {
   "cell_type": "code",
   "execution_count": 35,
   "id": "31b69f63",
   "metadata": {},
   "outputs": [
    {
     "name": "stdout",
     "output_type": "stream",
     "text": [
      "Confusion Matrix:\n",
      " [[55912   952]\n",
      " [    9    89]]\n",
      "\n",
      "Classification Report:\n",
      "               precision    recall  f1-score   support\n",
      "\n",
      "     Genuine       1.00      0.98      0.99     56864\n",
      "  Fraudulent       0.09      0.91      0.16        98\n",
      "\n",
      "    accuracy                           0.98     56962\n",
      "   macro avg       0.54      0.95      0.57     56962\n",
      "weighted avg       1.00      0.98      0.99     56962\n",
      "\n"
     ]
    }
   ],
   "source": [
    "#Predict on the original test set\n",
    "y_pred = model.predict(X_test)\n",
    "#Evaluate the model performance\n",
    "print(\"Confusion Matrix:\\n\", confusion_matrix(y_test, y_pred))\n",
    "print(\"\\nClassification Report:\\n\", classification_report(y_test, y_pred, target_names=[\"Genuine\", \"Fraudulent\"]))"
   ]
  },
  {
   "cell_type": "code",
   "execution_count": 36,
   "id": "f277c12f",
   "metadata": {},
   "outputs": [
    {
     "data": {
      "image/png": "[encoded data removed]",
      "text/plain": [
       "<Figure size 432x288 with 2 Axes>"
      ]
     },
     "metadata": {
      "needs_background": "light"
     },
     "output_type": "display_data"
    }
   ],
   "source": [
    "from sklearn.metrics import confusion_matrix\n",
    "import seaborn as sns\n",
    "import matplotlib.pyplot as plt\n",
    "\n",
    "# Predict on the original test set using Logistic Regression model\n",
    "y_pred_logreg = model.predict(X_test)\n",
    "\n",
    "# Generate confusion matrix\n",
    "conf_matrix_logreg = confusion_matrix(y_test, y_pred_logreg)\n",
    "\n",
    "# Plot the confusion matrix for Logistic Regression\n",
    "plt.figure(figsize=(6, 4))\n",
    "sns.heatmap(conf_matrix_logreg, annot=True, fmt='d', cmap='Blues', xticklabels=['Genuine', 'Fraudulent'], yticklabels=['Genuine', 'Fraudulent'])\n",
    "plt.title('Confusion Matrix - Logistic Regression')\n",
    "plt.xlabel('Predicted')\n",
    "plt.ylabel('Actual')\n",
    "plt.show()"
   ]
  },
  {
   "cell_type": "markdown",
   "id": "990fff9e",
   "metadata": {},
   "source": [
    "Despite applying SMOTE to balance the classes in the training set, the logistic regression model still reflects some of the challenges associated with the original dataset's extreme class imbalance.\n",
    "\n",
    "The recall for the fraudulent class is quite high (0.91), which is a good sign, as it means the model is successfully identifying most of the actual fraud cases. However, the precision is very low (0.09), indicating that many legitimate transactions are being incorrectly classified as fraudulent — resulting in a high number of false positives.\n",
    "\n",
    "This outcome suggests that, although SMOTE helped the model to better learn the minority class, it is still sensitive to the original imbalance. This can have negative consequences in a real-world scenario, where a high number of false alarms could lead to unnecessary costs or reduced trust in the fraud detection system."
   ]
  },
  {
   "cell_type": "markdown",
   "id": "250581a0",
   "metadata": {},
   "source": [
    "## *Adjustment in Logistic Regression"
   ]
  },
  {
   "cell_type": "markdown",
   "id": "7b9027e7",
   "metadata": {},
   "source": [
    "In default settings, classifiers such as LogisticRegression predict a transaction as fraudulent (class 1) when the predicted probability exceeds 0.5. However, this threshold is not always optimal, especially in cases where the target class (fraudulent transactions) is highly imbalanced.\n",
    "\n",
    "In this context, lowering the decision threshold to, for instance, 0.3 means that any transaction with a probability greater than 30% will be classified as fraudulent. This adjustment leads to an increase in recall, improving the model's ability to detect actual frauds. However, this comes at the cost of a decrease in precision, as more legitimate transactions may be incorrectly labeled as fraudulent.\n",
    "\n",
    "Given the nature of fraud detection, where it is often more critical to identify as many fraudulent transactions as possible (even if it results in some false positives), threshold adjustment offers a valuable tool. It allows for better control over the trade-off between recall and precision, ensuring the model aligns more closely with the business goals."
   ]
  },
  {
   "cell_type": "code",
   "execution_count": 37,
   "id": "be10bbe3",
   "metadata": {},
   "outputs": [
    {
     "name": "stdout",
     "output_type": "stream",
     "text": [
      "Confusion Matrix with threshold = 0.3\n",
      "[[54888  1976]\n",
      " [    9    89]]\n",
      "\n",
      "Classification Report:\n",
      "              precision    recall  f1-score   support\n",
      "\n",
      "     Genuine       1.00      0.97      0.98     56864\n",
      "  Fraudulent       0.04      0.91      0.08        98\n",
      "\n",
      "    accuracy                           0.97     56962\n",
      "   macro avg       0.52      0.94      0.53     56962\n",
      "weighted avg       1.00      0.97      0.98     56962\n",
      "\n"
     ]
    }
   ],
   "source": [
    "from sklearn.metrics import precision_recall_curve, confusion_matrix, classification_report\n",
    "\n",
    "# Get the predicted probabilities\n",
    "y_proba = model.predict_proba(X_test)[:, 1]  # Probability for class 1 (fraudluent transa)\n",
    "\n",
    "# Probar con un umbral más bajo\n",
    "threshold = 0.3\n",
    "y_pred_adjusted = (y_proba >= threshold).astype(int)\n",
    "\n",
    "# Show results\n",
    "print(\"Confusion Matrix with threshold =\", threshold)\n",
    "print(confusion_matrix(y_test, y_pred_adjusted))\n",
    "print(\"\\nClassification Report:\")\n",
    "print(classification_report(y_test, y_pred_adjusted, target_names=['Genuine', 'Fraudulent']))"
   ]
  },
  {
   "cell_type": "code",
   "execution_count": 38,
   "id": "84f9854a",
   "metadata": {},
   "outputs": [
    {
     "data": {
      "image/png": "[encoded data removed]",
      "text/plain": [
       "<Figure size 432x288 with 2 Axes>"
      ]
     },
     "metadata": {
      "needs_background": "light"
     },
     "output_type": "display_data"
    }
   ],
   "source": [
    "import seaborn as sns\n",
    "import matplotlib.pyplot as plt\n",
    "from sklearn.metrics import confusion_matrix\n",
    "\n",
    "# Generate the confusion matrix\n",
    "conf_matrix_adjusted = confusion_matrix(y_test, y_pred_adjusted)\n",
    "\n",
    "# Plot the confusion matrix\n",
    "plt.figure(figsize=(6, 4))\n",
    "sns.heatmap(conf_matrix_adjusted, annot=True, fmt='d', cmap='Oranges',\n",
    "            xticklabels=['Genuine', 'Fraudulent'],\n",
    "            yticklabels=['Genuine', 'Fraudulent'])\n",
    "plt.title(f'Confusion Matrix (Threshold = {threshold}) - Logistic Regression')\n",
    "plt.xlabel('Predicted')\n",
    "plt.ylabel('Actual')\n",
    "plt.show()"
   ]
  },
  {
   "cell_type": "markdown",
   "id": "50638c75",
   "metadata": {},
   "source": [
    "The adjustment of the decision threshold had significant effects on the model's performance:\n",
    "\n",
    "• By adjusting the threshold, the recall for fraudulent transactions increased to 0.91. This indicates that the model is now effectively identifying the majority of fraudulent transactions, which is crucial in fraud detection.\n",
    "\n",
    "•The precision decreased, meaning that more legitimate transactions are being mistakenly flagged as fraudulent (false positives).\n",
    "\n",
    "In a real-world banking environment, this trade-off may be acceptable if the cost of false positives is low. For example, if false positives can be addressed through a manual review process or a follow-up call to the customer, the potential cost is mitigated. In contrast, false negatives, where fraudulent transactions go undetected, could have significant financial and reputational consequences. Thus, in such a scenario, prioritizing recall over precision may be a rational decision, ensuring that fewer frauds are overlooked at the expense of some extra investigation into legitimate transactions."
   ]
  },
  {
   "cell_type": "markdown",
   "id": "d67e7797",
   "metadata": {},
   "source": [
    "# 5.3 Random Forest"
   ]
  },
  {
   "cell_type": "markdown",
   "id": "6635f858",
   "metadata": {},
   "source": [
    "The Random Forest algorithm is a powerful and widely-used model, particularly well-suited for classification tasks.\n",
    "It is highly resistant to noise and performs well even with imbalanced classes, the model requires minimal parameter tuning, making it accessible and effective out of the box, compatibility with Oversampling. Random Forest works well when combined with oversampling techniques like SMOTE, helping to improve performance on imbalanced datasets.\n",
    "\n",
    "Random Forest is a reliable base model that can serve as a strong starting point for predictive analysis, especially when dealing with complex datasets like fraud detection."
   ]
  },
  {
   "cell_type": "code",
   "execution_count": 39,
   "id": "0e14d5a8",
   "metadata": {},
   "outputs": [
    {
     "name": "stdout",
     "output_type": "stream",
     "text": [
      "Confusion Matrix (Random Forest):\n",
      "[[56849    15]\n",
      " [   17    81]]\n",
      "\n",
      "Classification Report (Random Forest):\n",
      "              precision    recall  f1-score   support\n",
      "\n",
      "     Genuine       1.00      1.00      1.00     56864\n",
      "  Fraudulent       0.84      0.83      0.84        98\n",
      "\n",
      "    accuracy                           1.00     56962\n",
      "   macro avg       0.92      0.91      0.92     56962\n",
      "weighted avg       1.00      1.00      1.00     56962\n",
      "\n"
     ]
    }
   ],
   "source": [
    "from sklearn.ensemble import RandomForestClassifier\n",
    "from sklearn.metrics import classification_report, confusion_matrix\n",
    "\n",
    "# Train Random Forest\n",
    "rf_model = RandomForestClassifier(n_estimators=100, random_state=42)\n",
    "rf_model.fit(X_train_resampled, y_train_resampled)\n",
    "\n",
    "# Predictions\n",
    "y_pred_rf = rf_model.predict(X_test)\n",
    "\n",
    "# Evaluation\n",
    "print(\"Confusion Matrix (Random Forest):\")\n",
    "print(confusion_matrix(y_test, y_pred_rf))\n",
    "print(\"\\nClassification Report (Random Forest):\")\n",
    "print(classification_report(y_test, y_pred_rf, target_names=[\"Genuine\", \"Fraudulent\"]))"
   ]
  },
  {
   "cell_type": "code",
   "execution_count": 40,
   "id": "9f100c5f",
   "metadata": {},
   "outputs": [
    {
     "data": {
      "image/png": "[encoded data removed]",
      "text/plain": [
       "<Figure size 432x288 with 2 Axes>"
      ]
     },
     "metadata": {
      "needs_background": "light"
     },
     "output_type": "display_data"
    }
   ],
   "source": [
    "from sklearn.metrics import confusion_matrix\n",
    "import seaborn as sns\n",
    "import matplotlib.pyplot as plt\n",
    "\n",
    "# Confusion matrix values\n",
    "conf_matrix = confusion_matrix(y_test, y_pred_rf)\n",
    "\n",
    "# Plot the confusion matrix\n",
    "plt.figure(figsize=(6, 4))\n",
    "sns.heatmap(conf_matrix, annot=True, fmt='d', cmap='Greens', xticklabels=['Genuine', 'Fraudulent'], yticklabels=['Genuine', 'Fraudulent'])\n",
    "plt.title('Confusion Matrix - Random Forest')\n",
    "plt.xlabel('Predicted')\n",
    "plt.ylabel('Actual')\n",
    "plt.show()"
   ]
  },
  {
   "cell_type": "markdown",
   "id": "1b0031d7",
   "metadata": {},
   "source": [
    "The model achieved an accuracy of 1.00 (or 100%), meaning it correctly classified all but 32 transactions out of 56,962:\n",
    "\n",
    "• 15 genuine transactions were incorrectly labeled as fraud.\n",
    "\n",
    "• 17 fraudulent transactions were incorrectly classified as genuine.\n",
    "\n",
    "Although the accuracy appears high, it can be misleading in cases with highly imbalanced classes, such as this one. In fraud detection, the priority is to focus on metrics like precision, recall, and F1-score for the \"Fraudulent\" class, rather than the overall accuracy. This is because the primary objective is to detect as many fraudulent transactions as possible, even if it means a few more legitimate transactions are misclassified."
   ]
  },
  {
   "cell_type": "markdown",
   "id": "d35d424d",
   "metadata": {},
   "source": [
    "# 5.4 LightGBM"
   ]
  },
  {
   "cell_type": "markdown",
   "id": "26e5c069",
   "metadata": {},
   "source": [
    "LightGBM is a highly efficient machine learning model, recognized for its speed and performance, particularly when dealing with large datasets.\n",
    "\n",
    "LightGBM is known for its exceptional speed, making it an ideal choice for large-scale datasets, includes optimizations that make it more time- and memory-efficient and supports class weighting or internal balancing, which is crucial for dealing with highly imbalanced datasets.\n",
    "\n",
    "Due to its speed, efficiency, and ability to handle imbalanced data, LightGBM is a great option for classification problems, especially in contexts like credit card fraud detection."
   ]
  },
  {
   "cell_type": "code",
   "execution_count": 41,
   "id": "11225b63",
   "metadata": {},
   "outputs": [
    {
     "name": "stdout",
     "output_type": "stream",
     "text": [
      "Requirement already satisfied: lightgbm in c:\\users\\anrse\\anaconda3\\lib\\site-packages (4.6.0)\n",
      "Requirement already satisfied: scipy in c:\\users\\anrse\\appdata\\roaming\\python\\python39\\site-packages (from lightgbm) (1.9.3)\n",
      "Requirement already satisfied: numpy>=1.17.0 in c:\\users\\anrse\\anaconda3\\lib\\site-packages (from lightgbm) (1.21.5)\n",
      "Note: you may need to restart the kernel to use updated packages.\n"
     ]
    }
   ],
   "source": [
    "pip install lightgbm"
   ]
  },
  {
   "cell_type": "code",
   "execution_count": 42,
   "id": "5aefe0b8",
   "metadata": {},
   "outputs": [
    {
     "name": "stdout",
     "output_type": "stream",
     "text": [
      "[LightGBM] [Info] Number of positive: 227451, number of negative: 227451\n",
      "[LightGBM] [Info] Auto-choosing col-wise multi-threading, the overhead of testing was 0.216117 seconds.\n",
      "You can set `force_col_wise=true` to remove the overhead.\n",
      "[LightGBM] [Info] Total Bins 7650\n",
      "[LightGBM] [Info] Number of data points in the train set: 454902, number of used features: 30\n",
      "[LightGBM] [Info] [binary:BoostFromScore]: pavg=0.500000 -> initscore=0.000000\n",
      "Confusion Matrix (LightGBM):\n",
      "[[56809    55]\n",
      " [   17    81]]\n",
      "\n",
      "Classification Report (LightGBM):\n",
      "              precision    recall  f1-score   support\n",
      "\n",
      "     Genuine       1.00      1.00      1.00     56864\n",
      "  Fraudulent       0.60      0.83      0.69        98\n",
      "\n",
      "    accuracy                           1.00     56962\n",
      "   macro avg       0.80      0.91      0.85     56962\n",
      "weighted avg       1.00      1.00      1.00     56962\n",
      "\n",
      "\n",
      "Accuracy (LightGBM): 0.998735999438222\n"
     ]
    }
   ],
   "source": [
    "import lightgbm as lgb\n",
    "from sklearn.metrics import confusion_matrix, classification_report, accuracy_score\n",
    "\n",
    "# Training the model\n",
    "lgb_model = lgb.LGBMClassifier()\n",
    "lgb_model.fit(X_train_resampled, y_train_resampled)\n",
    "\n",
    "# Predicting\n",
    "y_pred_lgb = lgb_model.predict(X_test)\n",
    "\n",
    "\n",
    "print(\"Confusion Matrix (LightGBM):\")\n",
    "print(confusion_matrix(y_test, y_pred_lgb))\n",
    "\n",
    "print(\"\\nClassification Report (LightGBM):\")\n",
    "print(classification_report(y_test, y_pred_lgb, target_names=[\"Genuine\", \"Fraudulent\"]))\n",
    "\n",
    "# Accuracy\n",
    "print(\"\\nAccuracy (LightGBM):\", accuracy_score(y_test, y_pred_lgb))"
   ]
  },
  {
   "cell_type": "code",
   "execution_count": 43,
   "id": "e2ab5626",
   "metadata": {},
   "outputs": [
    {
     "data": {
      "image/png": "[encoded data removed]",
      "text/plain": [
       "<Figure size 432x288 with 2 Axes>"
      ]
     },
     "metadata": {
      "needs_background": "light"
     },
     "output_type": "display_data"
    }
   ],
   "source": [
    "import seaborn as sns\n",
    "import matplotlib.pyplot as plt\n",
    "from sklearn.metrics import confusion_matrix\n",
    "\n",
    "# Getting the confusion matrix\n",
    "cm_lgb = confusion_matrix(y_test, y_pred_lgb)\n",
    "\n",
    "# Plotting\n",
    "plt.figure(figsize=(6,4))\n",
    "sns.heatmap(cm_lgb, annot=True, fmt='d', cmap='Purples', xticklabels=['Genuine', 'Fraudulent'], yticklabels=['Genuine', 'Fraudulent'])\n",
    "plt.xlabel('Predicted')\n",
    "plt.ylabel('Actual')\n",
    "plt.title('Confusion Matrix - LightGBM')\n",
    "plt.show()"
   ]
  },
  {
   "cell_type": "markdown",
   "id": "983a7180",
   "metadata": {},
   "source": [
    "The LightGBM model achieved an excellent recall (similar to Random Forest), meaning it was very effective at identifying fraudulent transactions. However, it had a slightly lower precision compared to Random Forest, indicating that while it detected a good number of frauds, it also produced more false positives than RF.\n",
    "\n",
    "This trade-off between recall and precision is common in imbalanced datasets, especially for fraud detection, where maximizing recall is often more important to avoid missing fraudulent transactions."
   ]
  },
  {
   "cell_type": "markdown",
   "id": "1eb66b9b",
   "metadata": {},
   "source": [
    "## Comparison of Models Performance"
   ]
  },
  {
   "cell_type": "code",
   "execution_count": 44,
   "id": "47da06aa",
   "metadata": {},
   "outputs": [
    {
     "data": {
      "image/png": "[encoded data removed]",
      "text/plain": [
       "<Figure size 720x432 with 1 Axes>"
      ]
     },
     "metadata": {
      "needs_background": "light"
     },
     "output_type": "display_data"
    }
   ],
   "source": [
    "import matplotlib.pyplot as plt\n",
    "import numpy as np\n",
    "\n",
    "# Metrcis for \"Fraudulent\" class\n",
    "model_names = ['Logistic Regression', 'Random Forest', 'LightGBM']\n",
    "precision_scores = [0.09, 0.84, 0.60]\n",
    "recall_scores = [0.91, 0.83, 0.83]\n",
    "f1_scores = [0.16, 0.84, 0.69]\n",
    "\n",
    "x = np.arange(len(model_names))  \n",
    "width = 0.25  \n",
    "\n",
    "fig, ax = plt.subplots(figsize=(10, 6))\n",
    "bars1 = ax.bar(x - width, precision_scores, width, label='Precision', color='blue')\n",
    "bars2 = ax.bar(x, recall_scores, width, label='Recall', color='green')\n",
    "bars3 = ax.bar(x + width, f1_scores, width, label='F1-Score', color='red')\n",
    "\n",
    "# Tags and format\n",
    "ax.set_ylabel('Score')\n",
    "ax.set_title('Comparison of Models on Fraud Detection (Fraudulent Class)')\n",
    "ax.set_xticks(x)\n",
    "ax.set_xticklabels(model_names)\n",
    "ax.legend()\n",
    "ax.set_ylim([0, 1.1])  # Escala hasta 1.1 para claridad\n",
    "\n",
    "# Code to show values in the graphic\n",
    "def autolabel(bars):\n",
    "    for bar in bars:\n",
    "        height = bar.get_height()\n",
    "        ax.annotate(f'{height:.2f}',\n",
    "                    xy=(bar.get_x() + bar.get_width() / 2, height),\n",
    "                    xytext=(0, 3),\n",
    "                    textcoords=\"offset points\",\n",
    "                    ha='center', va='bottom', fontsize=9)\n",
    "\n",
    "autolabel(bars1)\n",
    "autolabel(bars2)\n",
    "autolabel(bars3)\n",
    "\n",
    "plt.tight_layout()\n",
    "plt.show()"
   ]
  },
  {
   "cell_type": "markdown",
   "id": "4148450e",
   "metadata": {},
   "source": [
    "We now proceed to the visualization phase starting with the ROC curve which allows for a comparative evaluation of the three models by illustrating their ability to distinguish between fraudulent and legitimate transactions across various classification thresholds followed by the Precision Recall curve which offers a complementary perspective by focusing on the tradeoff between precision and recall particularly relevant in the context of imbalanced datasets such as fraud detection where accurate identification of minority class instances is critical."
   ]
  },
  {
   "cell_type": "code",
   "execution_count": 45,
   "id": "b02aaa44",
   "metadata": {},
   "outputs": [
    {
     "data": {
      "image/png": "[encoded data removed]",
      "text/plain": [
       "<Figure size 864x432 with 2 Axes>"
      ]
     },
     "metadata": {
      "needs_background": "light"
     },
     "output_type": "display_data"
    }
   ],
   "source": [
    "from sklearn.metrics import roc_curve, auc, precision_recall_curve, average_precision_score\n",
    "import matplotlib.pyplot as plt\n",
    "\n",
    "# Obtener las probabilidades para la clase 1 (fraudulenta)\n",
    "y_proba_lr = model.predict_proba(X_test)[:, 1]\n",
    "y_proba_rf = rf_model.predict_proba(X_test)[:, 1]\n",
    "y_proba_lgb = lgb_model.predict_proba(X_test)[:, 1]\n",
    "\n",
    "# Curva ROC\n",
    "fpr_lr, tpr_lr, _ = roc_curve(y_test, y_proba_lr)\n",
    "fpr_rf, tpr_rf, _ = roc_curve(y_test, y_proba_rf)\n",
    "fpr_lgb, tpr_lgb, _ = roc_curve(y_test, y_proba_lgb)\n",
    "\n",
    "roc_auc_lr = auc(fpr_lr, tpr_lr)\n",
    "roc_auc_rf = auc(fpr_rf, tpr_rf)\n",
    "roc_auc_lgb = auc(fpr_lgb, tpr_lgb)\n",
    "\n",
    "# Curva Precision-Recall\n",
    "precision_lr, recall_lr, _ = precision_recall_curve(y_test, y_proba_lr)\n",
    "precision_rf, recall_rf, _ = precision_recall_curve(y_test, y_proba_rf)\n",
    "precision_lgb, recall_lgb, _ = precision_recall_curve(y_test, y_proba_lgb)\n",
    "\n",
    "average_precision_lr = average_precision_score(y_test, y_proba_lr)\n",
    "average_precision_rf = average_precision_score(y_test, y_proba_rf)\n",
    "average_precision_lgb = average_precision_score(y_test, y_proba_lgb)\n",
    "\n",
    "# Plot ROC curve\n",
    "plt.figure(figsize=(12, 6))\n",
    "plt.subplot(1, 2, 1)\n",
    "plt.plot(fpr_lr, tpr_lr, color='blue', lw=2, label=f'Logistic Regression (AUC = {roc_auc_lr:.2f})')\n",
    "plt.plot(fpr_rf, tpr_rf, color='green', lw=2, label=f'Random Forest (AUC = {roc_auc_rf:.2f})')\n",
    "plt.plot(fpr_lgb, tpr_lgb, color='red', lw=2, label=f'LightGBM (AUC = {roc_auc_lgb:.2f})')\n",
    "plt.plot([0, 1], [0, 1], color='gray', lw=2, linestyle='--')\n",
    "plt.xlabel('False Positive Rate')\n",
    "plt.ylabel('True Positive Rate')\n",
    "plt.title('ROC Curve')\n",
    "plt.legend(loc='lower right')\n",
    "\n",
    "# Plot Precision-Recall curve\n",
    "plt.subplot(1, 2, 2)\n",
    "plt.plot(recall_lr, precision_lr, color='blue', lw=2, label=f'Logistic Regression (AP = {average_precision_lr:.2f})')\n",
    "plt.plot(recall_rf, precision_rf, color='green', lw=2, label=f'Random Forest (AP = {average_precision_rf:.2f})')\n",
    "plt.plot(recall_lgb, precision_lgb, color='red', lw=2, label=f'LightGBM (AP = {average_precision_lgb:.2f})')\n",
    "plt.xlabel('Recall')\n",
    "plt.ylabel('Precision')\n",
    "plt.title('Precision-Recall Curve')\n",
    "plt.legend(loc='lower left')\n",
    "\n",
    "plt.tight_layout()\n",
    "plt.show()\n"
   ]
  },
  {
   "cell_type": "markdown",
   "id": "e83cf33c",
   "metadata": {},
   "source": [
    "This analysis compares the performance of Logistic Regression, Random Forest, and LightGBM by examining their AUC scores on the ROC curve to determine which model best balances the classification of fraudulent and legitimate transactions, while the Precision-Recall curve provides deeper insight into how each model handles the minority class in an imbalanced dataset, making it a key metric for evaluating fraud detection effectiveness and guiding model selection."
   ]
  },
  {
   "cell_type": "markdown",
   "id": "e890c442",
   "metadata": {},
   "source": [
    "# Conclusions "
   ]
  },
  {
   "cell_type": "markdown",
   "id": "6083ec98",
   "metadata": {},
   "source": [
    "1. The dataset is highly imbalanced, with a vast majority of genuine transactions and a minimal number of fraudulent ones. This is common in fraud detection problems, as frauds are rare events.\n",
    "\n",
    "2. Logistic Regression:\n",
    "\n",
    "    • Good general accuracy, but low recall for the fraudulent class, meaning it missed many fraudulent transactions by misclassifying them as genuine.\n",
    "\n",
    "    • Adjusting the decision threshold improved recall but lowered precision, highlighting the trade-off between precision and recall in imbalanced classification problems.\n",
    "\n",
    "3. Random Forest:\n",
    "\n",
    "    • Performed excellently with high precision and recall for the genuine class, and a reasonable balance in detecting frauds (though not perfect).\n",
    "\n",
    "     •Although the precision was high, some false negatives (undetected frauds) persisted, which is concerning for critical fraud detection applications.\n",
    "\n",
    "4. LightGBM:\n",
    "\n",
    "    •Delivered impressive performance with high precision and recall for genuine transactions and decent fraud detection performance.\n",
    "\n",
    "    • LightGBM is an advanced model that handles imbalanced datasets well due to internal optimizations.\n",
    "\n",
    "5. Lowering the prediction threshold, for example from 0.5 to 0.3, improved recall for the fraudulent class but sacrificed precision. This is crucial in fraud detection, as tolerating some false positives (legitimate transactions misclassified as fraud) can prevent missing real frauds.\n",
    "\n",
    "6. The ROC curve shows how well models can distinguish between classes, while the Precision-Recall curve is more useful for evaluating fraud detection performance due to the imbalanced nature of the dataset. LightGBM and Random Forest showed the best results in both curves, making them the most suitable models for this task.\n",
    "\n",
    "7. Despite high model precision, recall for the fraudulent class is critical. A low recall means many frauds are not detected, which is unacceptable in real-world fraud detection. By adjusting the classification threshold, applying SMOTE, and selecting models like Random Forest and LightGBM, better fraud detection can be achieved, though precision may always be a trade-off."
   ]
  },
  {
   "cell_type": "code",
   "execution_count": null,
   "id": "95782f0a",
   "metadata": {},
   "outputs": [],
   "source": []
  }
 ],
 "metadata": {
  "kernelspec": {
   "display_name": "Python 3 (ipykernel)",
   "language": "python",
   "name": "python3"
  },
  "language_info": {
   "codemirror_mode": {
    "name": "ipython",
    "version": 3
   },
   "file_extension": ".py",
   "mimetype": "text/x-python",
   "name": "python",
   "nbconvert_exporter": "python",
   "pygments_lexer": "ipython3",
   "version": "3.9.12"
  }
 },
 "nbformat": 4,
 "nbformat_minor": 5
}
