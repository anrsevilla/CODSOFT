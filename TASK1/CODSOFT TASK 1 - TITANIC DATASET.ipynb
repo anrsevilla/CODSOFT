{
 "cells": [
  {
   "cell_type": "markdown",
   "id": "105f17ed",
   "metadata": {},
   "source": [
    "# 1. Introduction"
   ]
  },
  {
   "cell_type": "markdown",
   "id": "59c873c0",
   "metadata": {},
   "source": [
    "This project aims to apply the data science knowledge as part of the CodSoft Data Science internship program. In this first task, concepts such as Exploratory Data Analysis (EDA), data preparation and evaluation techniques, descriptive statistics, and the application of Principal Component Analysis (PCA) will be implemented using a real-world dataset. Additionally, this project will involve the practical use of various Python libraries and functions within the Jupyter Notebook environment.\n",
    "\n",
    "The primary goal of this assignment is to develop a foundational and hands-on understanding of the typical tasks performed by a Data Analyst in a professional setting.\n",
    "\n",
    "For this project, interns are required to perform an Exploratory Data Analysis on a dataset provided by the Data Preparation instructor. The selected dataset is based on the Titanic — a historical dataset that contains detailed information about the passengers aboard the RMS Titanic, including features such as age, gender, ticket class, fare, and survival status.\n",
    "\n",
    "In this dataset, the dependent variable is the Survival status of each passenger, which indicates whether the individual survived (1) or not (0) during the shipwreck. The remaining variables serve as features that may help in understanding the patterns and factors that influenced survival. The objective of the analysis is to extract insights from the data, identify significant patterns, and explore how different variables relate to the survival outcome."
   ]
  },
  {
   "cell_type": "markdown",
   "id": "ab0ae4f1",
   "metadata": {},
   "source": [
    "# 2. Data Dictionary"
   ]
  },
  {
   "cell_type": "markdown",
   "id": "c03216ea",
   "metadata": {},
   "source": [
    "* **Passenger Id** : Passenger list\n",
    "* **Survived** :\t**0** = No, **1** = Yes\n",
    "* **Pclass** : Ticket class\t **1** = 1st, **2** = 2nd, **3** = 3rd\n",
    "* **Name**: Name of the passenger        \n",
    "* **Sex**: Genre of the passenger        \n",
    "* **Age**: Age in Years         \n",
    "* **SibSp** : Number of siblings / spouses aboard the Titanic        \n",
    "* **Parch** : Number of parents / children aboard the Titanic\n",
    "* **Ticket** : Ticket number\n",
    "* **Fare** : Passenger fare\n",
    "* **Cabin** : Cabin number\n",
    "* **Embarked** : Port of Embarkation      \t**C** = Cherbourg, **Q** = Queenstown, **S** = Southampton"
   ]
  },
  {
   "cell_type": "markdown",
   "id": "cb932e04",
   "metadata": {},
   "source": [
    "# 3. Importing Libraries and Dataset"
   ]
  },
  {
   "cell_type": "markdown",
   "id": "04a09166",
   "metadata": {},
   "source": [
    "To begin the assignment, the necessary libraries will be imported. In this particular case, only three libraries will be initially imported: pandas, numpy, and seaborn. Any additional libraries required throughout the project will be imported as needed."
   ]
  },
  {
   "cell_type": "markdown",
   "id": "ba10b4ad",
   "metadata": {},
   "source": [
    "Pandas is an open source high-level data manipulation tool, used to analyze, explore, and clean data in Python. It provides ready to use high-performance data structures and data analysis tools.\n",
    "\n",
    "Numpy it’s a open source project and it can be used to perform a wide variety of mathematical operations on arrays. Used for scientific computing in Python, it also has functions to work on linear algebra, fourier transform, and matrices. \n",
    "\n",
    "Seaborn is a data visualization library that it’s used to visualize random distributions. “It provides a high-level interface for drawing attractive and informative statistical graphics”, according to its own definition on their website."
   ]
  },
  {
   "cell_type": "code",
   "execution_count": 1,
   "id": "a34c97f4",
   "metadata": {},
   "outputs": [],
   "source": [
    "#Importing libraries\n",
    "import pandas as pd\n",
    "import seaborn as sns\n",
    "import numpy as np"
   ]
  },
  {
   "cell_type": "markdown",
   "id": "e10f0fb0",
   "metadata": {},
   "source": [
    "After importing the necessary libraries, the CSV file containing the dataset will be imported using the pd.read_csv function. The original dataset will be assigned the name df to distinguish it from any modified datasets that may be generated later."
   ]
  },
  {
   "cell_type": "code",
   "execution_count": 2,
   "id": "9e27b245",
   "metadata": {},
   "outputs": [],
   "source": [
    "#Importing Dataset\n",
    "df= pd.read_csv('Titanic-Dataset.csv')"
   ]
  },
  {
   "cell_type": "markdown",
   "id": "22835c69",
   "metadata": {},
   "source": [
    "# 4. Exploratory Data Analysis"
   ]
  },
  {
   "cell_type": "markdown",
   "id": "17c7643c",
   "metadata": {},
   "source": [
    "The Exploratory Data Analysis (EDA) of the dataset will now be conducted. The first step involves using the .shape function, which provides information about the size of the dataset. Specifically, it returns the number of rows and columns, allowing a clear understanding of the dataset’s overall dimensions."
   ]
  },
  {
   "cell_type": "code",
   "execution_count": 3,
   "id": "7b889e82",
   "metadata": {},
   "outputs": [
    {
     "data": {
      "text/plain": [
       "(891, 12)"
      ]
     },
     "execution_count": 3,
     "metadata": {},
     "output_type": "execute_result"
    }
   ],
   "source": [
    "df.shape"
   ]
  },
  {
   "cell_type": "markdown",
   "id": "65873768",
   "metadata": {},
   "source": [
    "The Titanic dataset consists of 891 rows and 12 columns, which indicates that it is a relatively small dataset. This manageable size allows for efficient analysis and visualization during the exploratory phase.\n",
    "\n",
    "Next, the .columns function will be used to identify the information included in the dataset. This function provides a list of the column names, giving an overview of the features available for analysis. Although the data dictionary also provides some details about each column, this function helps to confirm the structure of the dataset."
   ]
  },
  {
   "cell_type": "code",
   "execution_count": 4,
   "id": "9b4104c5",
   "metadata": {},
   "outputs": [
    {
     "data": {
      "text/plain": [
       "Index(['PassengerId', 'Survived', 'Pclass', 'Name', 'Sex', 'Age', 'SibSp',\n",
       "       'Parch', 'Ticket', 'Fare', 'Cabin', 'Embarked'],\n",
       "      dtype='object')"
      ]
     },
     "execution_count": 4,
     "metadata": {},
     "output_type": "execute_result"
    }
   ],
   "source": [
    "df.columns"
   ]
  },
  {
   "cell_type": "markdown",
   "id": "f54c61e0",
   "metadata": {},
   "source": [
    "This column contains information about the passengers' names, the fare they paid for the ticket, their sex, age, the cabin class they traveled in, among other details.\n",
    "\n",
    "The .info() and .dtypes functiosn will now be used. These functions provides insight into the data types of each column, helping to identify whether the information is numeric or alphabetical, and whether it is categorized as object, int64, or float64.\n",
    "\n",
    "Object columns typically contain textual or categorical data, such as names, locations, or other non-numeric information.\n",
    "\n",
    "int64 columns represent integer values (whole numbers), which might be used for features such as passenger IDs or age, if not expressed in decimal form.\n",
    "\n",
    "float64 columns contain numeric values with decimals, which could be used for continuous data such as the fare paid, or other features that require precise numerical representation."
   ]
  },
  {
   "cell_type": "code",
   "execution_count": 5,
   "id": "e0a9840b",
   "metadata": {},
   "outputs": [
    {
     "data": {
      "text/plain": [
       "PassengerId      int64\n",
       "Survived         int64\n",
       "Pclass           int64\n",
       "Name            object\n",
       "Sex             object\n",
       "Age            float64\n",
       "SibSp            int64\n",
       "Parch            int64\n",
       "Ticket          object\n",
       "Fare           float64\n",
       "Cabin           object\n",
       "Embarked        object\n",
       "dtype: object"
      ]
     },
     "execution_count": 5,
     "metadata": {},
     "output_type": "execute_result"
    }
   ],
   "source": [
    "df.dtypes"
   ]
  },
  {
   "cell_type": "code",
   "execution_count": 6,
   "id": "095a4791",
   "metadata": {},
   "outputs": [
    {
     "name": "stdout",
     "output_type": "stream",
     "text": [
      "<class 'pandas.core.frame.DataFrame'>\n",
      "RangeIndex: 891 entries, 0 to 890\n",
      "Data columns (total 12 columns):\n",
      " #   Column       Non-Null Count  Dtype  \n",
      "---  ------       --------------  -----  \n",
      " 0   PassengerId  891 non-null    int64  \n",
      " 1   Survived     891 non-null    int64  \n",
      " 2   Pclass       891 non-null    int64  \n",
      " 3   Name         891 non-null    object \n",
      " 4   Sex          891 non-null    object \n",
      " 5   Age          714 non-null    float64\n",
      " 6   SibSp        891 non-null    int64  \n",
      " 7   Parch        891 non-null    int64  \n",
      " 8   Ticket       891 non-null    object \n",
      " 9   Fare         891 non-null    float64\n",
      " 10  Cabin        204 non-null    object \n",
      " 11  Embarked     889 non-null    object \n",
      "dtypes: float64(2), int64(5), object(5)\n",
      "memory usage: 83.7+ KB\n"
     ]
    }
   ],
   "source": [
    "df.info()"
   ]
  },
  {
   "cell_type": "markdown",
   "id": "70ab35e8",
   "metadata": {},
   "source": [
    "The output of the .info() function provides a general overview of the dataset's structure. It reveals that the dataset contains a mix of data types, including numeric columns (such as integers and floats) and categorical columns (such as objects). Additionally, it is evident that some columns contain missing data, such as Age, Cabin, and Embarked, which will need to be addressed during the data preparation process. Overall, this information gives an initial understanding of the dataset's composition and the types of preprocessing that may be required."
   ]
  },
  {
   "cell_type": "markdown",
   "id": "d22836cf",
   "metadata": {},
   "source": [
    "Next, the .head(15) function will be used to display the first 15 rows of the dataset. This allows for an initial inspection of the data, providing a general overview of the information contained in the dataset."
   ]
  },
  {
   "cell_type": "code",
   "execution_count": 7,
   "id": "129e9bc1",
   "metadata": {},
   "outputs": [
    {
     "data": {
      "text/html": [
       "<div>\n",
       "<style scoped>\n",
       "    .dataframe tbody tr th:only-of-type {\n",
       "        vertical-align: middle;\n",
       "    }\n",
       "\n",
       "    .dataframe tbody tr th {\n",
       "        vertical-align: top;\n",
       "    }\n",
       "\n",
       "    .dataframe thead th {\n",
       "        text-align: right;\n",
       "    }\n",
       "</style>\n",
       "<table border=\"1\" class=\"dataframe\">\n",
       "  <thead>\n",
       "    <tr style=\"text-align: right;\">\n",
       "      <th></th>\n",
       "      <th>PassengerId</th>\n",
       "      <th>Survived</th>\n",
       "      <th>Pclass</th>\n",
       "      <th>Name</th>\n",
       "      <th>Sex</th>\n",
       "      <th>Age</th>\n",
       "      <th>SibSp</th>\n",
       "      <th>Parch</th>\n",
       "      <th>Ticket</th>\n",
       "      <th>Fare</th>\n",
       "      <th>Cabin</th>\n",
       "      <th>Embarked</th>\n",
       "    </tr>\n",
       "  </thead>\n",
       "  <tbody>\n",
       "    <tr>\n",
       "      <th>0</th>\n",
       "      <td>1</td>\n",
       "      <td>0</td>\n",
       "      <td>3</td>\n",
       "      <td>Braund, Mr. Owen Harris</td>\n",
       "      <td>male</td>\n",
       "      <td>22.0</td>\n",
       "      <td>1</td>\n",
       "      <td>0</td>\n",
       "      <td>A/5 21171</td>\n",
       "      <td>7.2500</td>\n",
       "      <td>NaN</td>\n",
       "      <td>S</td>\n",
       "    </tr>\n",
       "    <tr>\n",
       "      <th>1</th>\n",
       "      <td>2</td>\n",
       "      <td>1</td>\n",
       "      <td>1</td>\n",
       "      <td>Cumings, Mrs. John Bradley (Florence Briggs Th...</td>\n",
       "      <td>female</td>\n",
       "      <td>38.0</td>\n",
       "      <td>1</td>\n",
       "      <td>0</td>\n",
       "      <td>PC 17599</td>\n",
       "      <td>71.2833</td>\n",
       "      <td>C85</td>\n",
       "      <td>C</td>\n",
       "    </tr>\n",
       "    <tr>\n",
       "      <th>2</th>\n",
       "      <td>3</td>\n",
       "      <td>1</td>\n",
       "      <td>3</td>\n",
       "      <td>Heikkinen, Miss. Laina</td>\n",
       "      <td>female</td>\n",
       "      <td>26.0</td>\n",
       "      <td>0</td>\n",
       "      <td>0</td>\n",
       "      <td>STON/O2. 3101282</td>\n",
       "      <td>7.9250</td>\n",
       "      <td>NaN</td>\n",
       "      <td>S</td>\n",
       "    </tr>\n",
       "    <tr>\n",
       "      <th>3</th>\n",
       "      <td>4</td>\n",
       "      <td>1</td>\n",
       "      <td>1</td>\n",
       "      <td>Futrelle, Mrs. Jacques Heath (Lily May Peel)</td>\n",
       "      <td>female</td>\n",
       "      <td>35.0</td>\n",
       "      <td>1</td>\n",
       "      <td>0</td>\n",
       "      <td>113803</td>\n",
       "      <td>53.1000</td>\n",
       "      <td>C123</td>\n",
       "      <td>S</td>\n",
       "    </tr>\n",
       "    <tr>\n",
       "      <th>4</th>\n",
       "      <td>5</td>\n",
       "      <td>0</td>\n",
       "      <td>3</td>\n",
       "      <td>Allen, Mr. William Henry</td>\n",
       "      <td>male</td>\n",
       "      <td>35.0</td>\n",
       "      <td>0</td>\n",
       "      <td>0</td>\n",
       "      <td>373450</td>\n",
       "      <td>8.0500</td>\n",
       "      <td>NaN</td>\n",
       "      <td>S</td>\n",
       "    </tr>\n",
       "    <tr>\n",
       "      <th>5</th>\n",
       "      <td>6</td>\n",
       "      <td>0</td>\n",
       "      <td>3</td>\n",
       "      <td>Moran, Mr. James</td>\n",
       "      <td>male</td>\n",
       "      <td>NaN</td>\n",
       "      <td>0</td>\n",
       "      <td>0</td>\n",
       "      <td>330877</td>\n",
       "      <td>8.4583</td>\n",
       "      <td>NaN</td>\n",
       "      <td>Q</td>\n",
       "    </tr>\n",
       "    <tr>\n",
       "      <th>6</th>\n",
       "      <td>7</td>\n",
       "      <td>0</td>\n",
       "      <td>1</td>\n",
       "      <td>McCarthy, Mr. Timothy J</td>\n",
       "      <td>male</td>\n",
       "      <td>54.0</td>\n",
       "      <td>0</td>\n",
       "      <td>0</td>\n",
       "      <td>17463</td>\n",
       "      <td>51.8625</td>\n",
       "      <td>E46</td>\n",
       "      <td>S</td>\n",
       "    </tr>\n",
       "    <tr>\n",
       "      <th>7</th>\n",
       "      <td>8</td>\n",
       "      <td>0</td>\n",
       "      <td>3</td>\n",
       "      <td>Palsson, Master. Gosta Leonard</td>\n",
       "      <td>male</td>\n",
       "      <td>2.0</td>\n",
       "      <td>3</td>\n",
       "      <td>1</td>\n",
       "      <td>349909</td>\n",
       "      <td>21.0750</td>\n",
       "      <td>NaN</td>\n",
       "      <td>S</td>\n",
       "    </tr>\n",
       "    <tr>\n",
       "      <th>8</th>\n",
       "      <td>9</td>\n",
       "      <td>1</td>\n",
       "      <td>3</td>\n",
       "      <td>Johnson, Mrs. Oscar W (Elisabeth Vilhelmina Berg)</td>\n",
       "      <td>female</td>\n",
       "      <td>27.0</td>\n",
       "      <td>0</td>\n",
       "      <td>2</td>\n",
       "      <td>347742</td>\n",
       "      <td>11.1333</td>\n",
       "      <td>NaN</td>\n",
       "      <td>S</td>\n",
       "    </tr>\n",
       "    <tr>\n",
       "      <th>9</th>\n",
       "      <td>10</td>\n",
       "      <td>1</td>\n",
       "      <td>2</td>\n",
       "      <td>Nasser, Mrs. Nicholas (Adele Achem)</td>\n",
       "      <td>female</td>\n",
       "      <td>14.0</td>\n",
       "      <td>1</td>\n",
       "      <td>0</td>\n",
       "      <td>237736</td>\n",
       "      <td>30.0708</td>\n",
       "      <td>NaN</td>\n",
       "      <td>C</td>\n",
       "    </tr>\n",
       "    <tr>\n",
       "      <th>10</th>\n",
       "      <td>11</td>\n",
       "      <td>1</td>\n",
       "      <td>3</td>\n",
       "      <td>Sandstrom, Miss. Marguerite Rut</td>\n",
       "      <td>female</td>\n",
       "      <td>4.0</td>\n",
       "      <td>1</td>\n",
       "      <td>1</td>\n",
       "      <td>PP 9549</td>\n",
       "      <td>16.7000</td>\n",
       "      <td>G6</td>\n",
       "      <td>S</td>\n",
       "    </tr>\n",
       "    <tr>\n",
       "      <th>11</th>\n",
       "      <td>12</td>\n",
       "      <td>1</td>\n",
       "      <td>1</td>\n",
       "      <td>Bonnell, Miss. Elizabeth</td>\n",
       "      <td>female</td>\n",
       "      <td>58.0</td>\n",
       "      <td>0</td>\n",
       "      <td>0</td>\n",
       "      <td>113783</td>\n",
       "      <td>26.5500</td>\n",
       "      <td>C103</td>\n",
       "      <td>S</td>\n",
       "    </tr>\n",
       "    <tr>\n",
       "      <th>12</th>\n",
       "      <td>13</td>\n",
       "      <td>0</td>\n",
       "      <td>3</td>\n",
       "      <td>Saundercock, Mr. William Henry</td>\n",
       "      <td>male</td>\n",
       "      <td>20.0</td>\n",
       "      <td>0</td>\n",
       "      <td>0</td>\n",
       "      <td>A/5. 2151</td>\n",
       "      <td>8.0500</td>\n",
       "      <td>NaN</td>\n",
       "      <td>S</td>\n",
       "    </tr>\n",
       "    <tr>\n",
       "      <th>13</th>\n",
       "      <td>14</td>\n",
       "      <td>0</td>\n",
       "      <td>3</td>\n",
       "      <td>Andersson, Mr. Anders Johan</td>\n",
       "      <td>male</td>\n",
       "      <td>39.0</td>\n",
       "      <td>1</td>\n",
       "      <td>5</td>\n",
       "      <td>347082</td>\n",
       "      <td>31.2750</td>\n",
       "      <td>NaN</td>\n",
       "      <td>S</td>\n",
       "    </tr>\n",
       "    <tr>\n",
       "      <th>14</th>\n",
       "      <td>15</td>\n",
       "      <td>0</td>\n",
       "      <td>3</td>\n",
       "      <td>Vestrom, Miss. Hulda Amanda Adolfina</td>\n",
       "      <td>female</td>\n",
       "      <td>14.0</td>\n",
       "      <td>0</td>\n",
       "      <td>0</td>\n",
       "      <td>350406</td>\n",
       "      <td>7.8542</td>\n",
       "      <td>NaN</td>\n",
       "      <td>S</td>\n",
       "    </tr>\n",
       "  </tbody>\n",
       "</table>\n",
       "</div>"
      ],
      "text/plain": [
       "    PassengerId  Survived  Pclass  \\\n",
       "0             1         0       3   \n",
       "1             2         1       1   \n",
       "2             3         1       3   \n",
       "3             4         1       1   \n",
       "4             5         0       3   \n",
       "5             6         0       3   \n",
       "6             7         0       1   \n",
       "7             8         0       3   \n",
       "8             9         1       3   \n",
       "9            10         1       2   \n",
       "10           11         1       3   \n",
       "11           12         1       1   \n",
       "12           13         0       3   \n",
       "13           14         0       3   \n",
       "14           15         0       3   \n",
       "\n",
       "                                                 Name     Sex   Age  SibSp  \\\n",
       "0                             Braund, Mr. Owen Harris    male  22.0      1   \n",
       "1   Cumings, Mrs. John Bradley (Florence Briggs Th...  female  38.0      1   \n",
       "2                              Heikkinen, Miss. Laina  female  26.0      0   \n",
       "3        Futrelle, Mrs. Jacques Heath (Lily May Peel)  female  35.0      1   \n",
       "4                            Allen, Mr. William Henry    male  35.0      0   \n",
       "5                                    Moran, Mr. James    male   NaN      0   \n",
       "6                             McCarthy, Mr. Timothy J    male  54.0      0   \n",
       "7                      Palsson, Master. Gosta Leonard    male   2.0      3   \n",
       "8   Johnson, Mrs. Oscar W (Elisabeth Vilhelmina Berg)  female  27.0      0   \n",
       "9                 Nasser, Mrs. Nicholas (Adele Achem)  female  14.0      1   \n",
       "10                    Sandstrom, Miss. Marguerite Rut  female   4.0      1   \n",
       "11                           Bonnell, Miss. Elizabeth  female  58.0      0   \n",
       "12                     Saundercock, Mr. William Henry    male  20.0      0   \n",
       "13                        Andersson, Mr. Anders Johan    male  39.0      1   \n",
       "14               Vestrom, Miss. Hulda Amanda Adolfina  female  14.0      0   \n",
       "\n",
       "    Parch            Ticket     Fare Cabin Embarked  \n",
       "0       0         A/5 21171   7.2500   NaN        S  \n",
       "1       0          PC 17599  71.2833   C85        C  \n",
       "2       0  STON/O2. 3101282   7.9250   NaN        S  \n",
       "3       0            113803  53.1000  C123        S  \n",
       "4       0            373450   8.0500   NaN        S  \n",
       "5       0            330877   8.4583   NaN        Q  \n",
       "6       0             17463  51.8625   E46        S  \n",
       "7       1            349909  21.0750   NaN        S  \n",
       "8       2            347742  11.1333   NaN        S  \n",
       "9       0            237736  30.0708   NaN        C  \n",
       "10      1           PP 9549  16.7000    G6        S  \n",
       "11      0            113783  26.5500  C103        S  \n",
       "12      0         A/5. 2151   8.0500   NaN        S  \n",
       "13      5            347082  31.2750   NaN        S  \n",
       "14      0            350406   7.8542   NaN        S  "
      ]
     },
     "execution_count": 7,
     "metadata": {},
     "output_type": "execute_result"
    }
   ],
   "source": [
    "df.head(15)"
   ]
  },
  {
   "cell_type": "markdown",
   "id": "4097cbd9",
   "metadata": {},
   "source": [
    "Immediately we can see that most of the data records are numerical, also we can observe lots of repeating values in some columns, which could be duplicate data  or it can also be a number of series or parts of the trucks analyzed, but we can't know for sure because a lot of this information is confidential.\n",
    "On the second column we can see the 'survived' column, thanks to the Data Dictionary we already know that we have two types : 0 (not survived) or 1 (survived).  The next step will be to see how the data is distributed between classes."
   ]
  },
  {
   "cell_type": "code",
   "execution_count": 8,
   "id": "1a5a230c",
   "metadata": {},
   "outputs": [],
   "source": [
    "df_not_survived = df.loc[df['Survived'] == 0]"
   ]
  },
  {
   "cell_type": "code",
   "execution_count": 9,
   "id": "2abee71f",
   "metadata": {},
   "outputs": [
    {
     "data": {
      "text/plain": [
       "(549, 12)"
      ]
     },
     "execution_count": 9,
     "metadata": {},
     "output_type": "execute_result"
    }
   ],
   "source": [
    "df_not_survived.shape"
   ]
  },
  {
   "cell_type": "code",
   "execution_count": 10,
   "id": "9cf68d1b",
   "metadata": {},
   "outputs": [
    {
     "data": {
      "text/plain": [
       "(342, 12)"
      ]
     },
     "execution_count": 10,
     "metadata": {},
     "output_type": "execute_result"
    }
   ],
   "source": [
    "df_survived = df.loc[df['Survived'] == 1]\n",
    "df_survived.shape"
   ]
  },
  {
   "cell_type": "markdown",
   "id": "5b116b06",
   "metadata": {},
   "source": [
    "By using the .shape function, it is observed that there are 549 records corresponding to passengers who didn't survived the tragedy. This provides an initial sense of the distribution of the target variable and the proportion of survivors within the dataset."
   ]
  },
  {
   "cell_type": "markdown",
   "id": "933ebb6f",
   "metadata": {},
   "source": [
    "# 4.1 Data Cleaning"
   ]
  },
  {
   "cell_type": "markdown",
   "id": "d0d3fe2b",
   "metadata": {},
   "source": [
    "Before proceeding with the data cleaning, we will proceed to verify if there is duplicate data within our dataset. We can obtain this with the .duplicated() function and we will add the .sum() function to have the total count, in case of finding duplicate data."
   ]
  },
  {
   "cell_type": "code",
   "execution_count": 11,
   "id": "f44e9943",
   "metadata": {},
   "outputs": [
    {
     "name": "stdout",
     "output_type": "stream",
     "text": [
      "0\n"
     ]
    }
   ],
   "source": [
    "print(df.duplicated().sum())"
   ]
  },
  {
   "cell_type": "markdown",
   "id": "a70e2506",
   "metadata": {},
   "source": [
    "The code returned a negative response. There is no duplicate data.\n",
    "\n",
    "Now it's time to know how many missing values we have in our dataset. Running the isna().sum() method it's going to return the number of missing values in each column."
   ]
  },
  {
   "cell_type": "code",
   "execution_count": 12,
   "id": "fe75e208",
   "metadata": {},
   "outputs": [
    {
     "data": {
      "text/plain": [
       "PassengerId      0\n",
       "Survived         0\n",
       "Pclass           0\n",
       "Name             0\n",
       "Sex              0\n",
       "Age            177\n",
       "SibSp            0\n",
       "Parch            0\n",
       "Ticket           0\n",
       "Fare             0\n",
       "Cabin          687\n",
       "Embarked         2\n",
       "dtype: int64"
      ]
     },
     "execution_count": 12,
     "metadata": {},
     "output_type": "execute_result"
    }
   ],
   "source": [
    "df.isna().sum()"
   ]
  },
  {
   "cell_type": "code",
   "execution_count": 13,
   "id": "f372ceab",
   "metadata": {},
   "outputs": [
    {
     "data": {
      "text/plain": [
       "866"
      ]
     },
     "execution_count": 13,
     "metadata": {},
     "output_type": "execute_result"
    }
   ],
   "source": [
    "df.isna().sum().sum()"
   ]
  },
  {
   "cell_type": "markdown",
   "id": "769e8cae",
   "metadata": {},
   "source": [
    "By using the .isna().sum() function, it is identified that the dataset contains missing values in several columns. Specifically, there are 177 missing values in the Age column, 687 in the Cabin column, and 2 in the Embarked column. In total, the dataset contains 866 missing values, which highlights the need for appropriate data cleaning and imputation strategies before proceeding with further analysis."
   ]
  },
  {
   "cell_type": "markdown",
   "id": "940dfa42",
   "metadata": {},
   "source": [
    "The PassengerId column will be removed from the dataset, as it is not considered relevant for the analysis. This column simply represents a sequential identifier for each row and does not provide meaningful information for modeling or interpretation."
   ]
  },
  {
   "cell_type": "code",
   "execution_count": 14,
   "id": "97c3f454",
   "metadata": {},
   "outputs": [
    {
     "data": {
      "text/html": [
       "<div>\n",
       "<style scoped>\n",
       "    .dataframe tbody tr th:only-of-type {\n",
       "        vertical-align: middle;\n",
       "    }\n",
       "\n",
       "    .dataframe tbody tr th {\n",
       "        vertical-align: top;\n",
       "    }\n",
       "\n",
       "    .dataframe thead th {\n",
       "        text-align: right;\n",
       "    }\n",
       "</style>\n",
       "<table border=\"1\" class=\"dataframe\">\n",
       "  <thead>\n",
       "    <tr style=\"text-align: right;\">\n",
       "      <th></th>\n",
       "      <th>Survived</th>\n",
       "      <th>Pclass</th>\n",
       "      <th>Name</th>\n",
       "      <th>Sex</th>\n",
       "      <th>Age</th>\n",
       "      <th>SibSp</th>\n",
       "      <th>Parch</th>\n",
       "      <th>Ticket</th>\n",
       "      <th>Fare</th>\n",
       "      <th>Cabin</th>\n",
       "      <th>Embarked</th>\n",
       "    </tr>\n",
       "  </thead>\n",
       "  <tbody>\n",
       "    <tr>\n",
       "      <th>0</th>\n",
       "      <td>0</td>\n",
       "      <td>3</td>\n",
       "      <td>Braund, Mr. Owen Harris</td>\n",
       "      <td>male</td>\n",
       "      <td>22.0</td>\n",
       "      <td>1</td>\n",
       "      <td>0</td>\n",
       "      <td>A/5 21171</td>\n",
       "      <td>7.2500</td>\n",
       "      <td>NaN</td>\n",
       "      <td>S</td>\n",
       "    </tr>\n",
       "    <tr>\n",
       "      <th>1</th>\n",
       "      <td>1</td>\n",
       "      <td>1</td>\n",
       "      <td>Cumings, Mrs. John Bradley (Florence Briggs Th...</td>\n",
       "      <td>female</td>\n",
       "      <td>38.0</td>\n",
       "      <td>1</td>\n",
       "      <td>0</td>\n",
       "      <td>PC 17599</td>\n",
       "      <td>71.2833</td>\n",
       "      <td>C85</td>\n",
       "      <td>C</td>\n",
       "    </tr>\n",
       "    <tr>\n",
       "      <th>2</th>\n",
       "      <td>1</td>\n",
       "      <td>3</td>\n",
       "      <td>Heikkinen, Miss. Laina</td>\n",
       "      <td>female</td>\n",
       "      <td>26.0</td>\n",
       "      <td>0</td>\n",
       "      <td>0</td>\n",
       "      <td>STON/O2. 3101282</td>\n",
       "      <td>7.9250</td>\n",
       "      <td>NaN</td>\n",
       "      <td>S</td>\n",
       "    </tr>\n",
       "    <tr>\n",
       "      <th>3</th>\n",
       "      <td>1</td>\n",
       "      <td>1</td>\n",
       "      <td>Futrelle, Mrs. Jacques Heath (Lily May Peel)</td>\n",
       "      <td>female</td>\n",
       "      <td>35.0</td>\n",
       "      <td>1</td>\n",
       "      <td>0</td>\n",
       "      <td>113803</td>\n",
       "      <td>53.1000</td>\n",
       "      <td>C123</td>\n",
       "      <td>S</td>\n",
       "    </tr>\n",
       "    <tr>\n",
       "      <th>4</th>\n",
       "      <td>0</td>\n",
       "      <td>3</td>\n",
       "      <td>Allen, Mr. William Henry</td>\n",
       "      <td>male</td>\n",
       "      <td>35.0</td>\n",
       "      <td>0</td>\n",
       "      <td>0</td>\n",
       "      <td>373450</td>\n",
       "      <td>8.0500</td>\n",
       "      <td>NaN</td>\n",
       "      <td>S</td>\n",
       "    </tr>\n",
       "  </tbody>\n",
       "</table>\n",
       "</div>"
      ],
      "text/plain": [
       "   Survived  Pclass                                               Name  \\\n",
       "0         0       3                            Braund, Mr. Owen Harris   \n",
       "1         1       1  Cumings, Mrs. John Bradley (Florence Briggs Th...   \n",
       "2         1       3                             Heikkinen, Miss. Laina   \n",
       "3         1       1       Futrelle, Mrs. Jacques Heath (Lily May Peel)   \n",
       "4         0       3                           Allen, Mr. William Henry   \n",
       "\n",
       "      Sex   Age  SibSp  Parch            Ticket     Fare Cabin Embarked  \n",
       "0    male  22.0      1      0         A/5 21171   7.2500   NaN        S  \n",
       "1  female  38.0      1      0          PC 17599  71.2833   C85        C  \n",
       "2  female  26.0      0      0  STON/O2. 3101282   7.9250   NaN        S  \n",
       "3  female  35.0      1      0            113803  53.1000  C123        S  \n",
       "4    male  35.0      0      0            373450   8.0500   NaN        S  "
      ]
     },
     "execution_count": 14,
     "metadata": {},
     "output_type": "execute_result"
    }
   ],
   "source": [
    "df.drop(columns=['PassengerId'],inplace=True)\n",
    "df.head()"
   ]
  },
  {
   "cell_type": "code",
   "execution_count": 15,
   "id": "6baa900f",
   "metadata": {},
   "outputs": [
    {
     "data": {
      "text/plain": [
       "(891, 11)"
      ]
     },
     "execution_count": 15,
     "metadata": {},
     "output_type": "execute_result"
    }
   ],
   "source": [
    "df.shape"
   ]
  },
  {
   "cell_type": "markdown",
   "id": "97427604",
   "metadata": {},
   "source": [
    "After removing the PassengerId column, the dataset is reduced to a total of 11 columns, focusing only on the features that may provide meaningful insights for the analysis.\n",
    "\n",
    "We are going to import matplotlib, which is a library that creates interactive plots in Python. In this way we will be able to have a graphic reference of how the classes are distributed."
   ]
  },
  {
   "cell_type": "code",
   "execution_count": 16,
   "id": "e58a03bd",
   "metadata": {},
   "outputs": [],
   "source": [
    "from matplotlib import pyplot as plt"
   ]
  },
  {
   "cell_type": "code",
   "execution_count": 17,
   "id": "9b992c94",
   "metadata": {},
   "outputs": [],
   "source": [
    "#Displaying Percentage of missing Data\n",
    "missing_data = df.isna().sum()/100\n",
    "missing_values = pd.DataFrame({'column_name': df.columns})"
   ]
  },
  {
   "cell_type": "code",
   "execution_count": 18,
   "id": "7bdc672b",
   "metadata": {},
   "outputs": [
    {
     "data": {
      "image/png": "[encoded data removed]",
      "text/plain": [
       "<Figure size 1440x720 with 1 Axes>"
      ]
     },
     "metadata": {
      "needs_background": "light"
     },
     "output_type": "display_data"
    }
   ],
   "source": [
    "#Plotting missing data in descending order\n",
    "plt.figure(figsize=(20, 10))\n",
    "missing_data_sorted = missing_data.sort_values(ascending=False)\n",
    "for index, value in enumerate(missing_data_sorted):\n",
    "    plt.text(index, value+1, str(value) + \"%\", ha='center', fontsize=10)\n",
    "sns.barplot(x=missing_data_sorted.index, y=missing_data_sorted, palette='mako')\n",
    "plt.title('Number of missing values', fontsize=20)\n",
    "plt.xlabel('Features', fontsize=15)\n",
    "plt.xticks(rotation=90, fontsize=12)\n",
    "plt.ylabel('Percentage of missing values', fontsize=15)\n",
    "plt.show()"
   ]
  },
  {
   "cell_type": "markdown",
   "id": "3eef15e7",
   "metadata": {},
   "source": [
    "In the graph displaying the percentage of missing values, it is observed that the Cabin column has the highest proportion of missing data, accounting for 6.87% of the dataset. This is followed by the Age column with 1.77%, and the Embarked column with 0.02%. These findings help prioritize which columns may require imputation, removal, or further investigation during the data cleaning process.\n",
    "\n",
    "To evaluate the relevance of the Cabin and Embarked columns, the .value_counts() function will be used to examine the available information. This will help determine whether the data in these columns are meaningful and whether it should be retained or excluded from the analysis."
   ]
  },
  {
   "cell_type": "code",
   "execution_count": 19,
   "id": "c5f52976",
   "metadata": {},
   "outputs": [
    {
     "data": {
      "text/plain": [
       "B96 B98        4\n",
       "G6             4\n",
       "C23 C25 C27    4\n",
       "C22 C26        3\n",
       "F33            3\n",
       "              ..\n",
       "E34            1\n",
       "C7             1\n",
       "C54            1\n",
       "E36            1\n",
       "C148           1\n",
       "Name: Cabin, Length: 147, dtype: int64"
      ]
     },
     "execution_count": 19,
     "metadata": {},
     "output_type": "execute_result"
    }
   ],
   "source": [
    "df['Cabin'].value_counts()"
   ]
  },
  {
   "cell_type": "code",
   "execution_count": 20,
   "id": "1f744482",
   "metadata": {},
   "outputs": [
    {
     "data": {
      "text/plain": [
       "S    644\n",
       "C    168\n",
       "Q     77\n",
       "Name: Embarked, dtype: int64"
      ]
     },
     "execution_count": 20,
     "metadata": {},
     "output_type": "execute_result"
    }
   ],
   "source": [
    "df['Embarked'].value_counts()"
   ]
  },
  {
   "cell_type": "markdown",
   "id": "db564d52",
   "metadata": {},
   "source": [
    "After analyzing the data contained in the Ticket column, it has been determined that this information will not be necessary for the analysis. In addition to having a high percentage of missing values, the column does not contribute meaningful insights to the objectives of this project. For similar reasons, the Ticket column will also be removed, as it does not provide relevant information for the analysis. Therefore, both columns will be excluded from the dataset."
   ]
  },
  {
   "cell_type": "code",
   "execution_count": 21,
   "id": "f3fdba70",
   "metadata": {},
   "outputs": [
    {
     "data": {
      "text/html": [
       "<div>\n",
       "<style scoped>\n",
       "    .dataframe tbody tr th:only-of-type {\n",
       "        vertical-align: middle;\n",
       "    }\n",
       "\n",
       "    .dataframe tbody tr th {\n",
       "        vertical-align: top;\n",
       "    }\n",
       "\n",
       "    .dataframe thead th {\n",
       "        text-align: right;\n",
       "    }\n",
       "</style>\n",
       "<table border=\"1\" class=\"dataframe\">\n",
       "  <thead>\n",
       "    <tr style=\"text-align: right;\">\n",
       "      <th></th>\n",
       "      <th>Survived</th>\n",
       "      <th>Pclass</th>\n",
       "      <th>Name</th>\n",
       "      <th>Sex</th>\n",
       "      <th>Age</th>\n",
       "      <th>SibSp</th>\n",
       "      <th>Parch</th>\n",
       "      <th>Fare</th>\n",
       "      <th>Cabin</th>\n",
       "      <th>Embarked</th>\n",
       "    </tr>\n",
       "  </thead>\n",
       "  <tbody>\n",
       "    <tr>\n",
       "      <th>0</th>\n",
       "      <td>0</td>\n",
       "      <td>3</td>\n",
       "      <td>Braund, Mr. Owen Harris</td>\n",
       "      <td>male</td>\n",
       "      <td>22.0</td>\n",
       "      <td>1</td>\n",
       "      <td>0</td>\n",
       "      <td>7.2500</td>\n",
       "      <td>NaN</td>\n",
       "      <td>S</td>\n",
       "    </tr>\n",
       "    <tr>\n",
       "      <th>1</th>\n",
       "      <td>1</td>\n",
       "      <td>1</td>\n",
       "      <td>Cumings, Mrs. John Bradley (Florence Briggs Th...</td>\n",
       "      <td>female</td>\n",
       "      <td>38.0</td>\n",
       "      <td>1</td>\n",
       "      <td>0</td>\n",
       "      <td>71.2833</td>\n",
       "      <td>C85</td>\n",
       "      <td>C</td>\n",
       "    </tr>\n",
       "    <tr>\n",
       "      <th>2</th>\n",
       "      <td>1</td>\n",
       "      <td>3</td>\n",
       "      <td>Heikkinen, Miss. Laina</td>\n",
       "      <td>female</td>\n",
       "      <td>26.0</td>\n",
       "      <td>0</td>\n",
       "      <td>0</td>\n",
       "      <td>7.9250</td>\n",
       "      <td>NaN</td>\n",
       "      <td>S</td>\n",
       "    </tr>\n",
       "    <tr>\n",
       "      <th>3</th>\n",
       "      <td>1</td>\n",
       "      <td>1</td>\n",
       "      <td>Futrelle, Mrs. Jacques Heath (Lily May Peel)</td>\n",
       "      <td>female</td>\n",
       "      <td>35.0</td>\n",
       "      <td>1</td>\n",
       "      <td>0</td>\n",
       "      <td>53.1000</td>\n",
       "      <td>C123</td>\n",
       "      <td>S</td>\n",
       "    </tr>\n",
       "    <tr>\n",
       "      <th>4</th>\n",
       "      <td>0</td>\n",
       "      <td>3</td>\n",
       "      <td>Allen, Mr. William Henry</td>\n",
       "      <td>male</td>\n",
       "      <td>35.0</td>\n",
       "      <td>0</td>\n",
       "      <td>0</td>\n",
       "      <td>8.0500</td>\n",
       "      <td>NaN</td>\n",
       "      <td>S</td>\n",
       "    </tr>\n",
       "  </tbody>\n",
       "</table>\n",
       "</div>"
      ],
      "text/plain": [
       "   Survived  Pclass                                               Name  \\\n",
       "0         0       3                            Braund, Mr. Owen Harris   \n",
       "1         1       1  Cumings, Mrs. John Bradley (Florence Briggs Th...   \n",
       "2         1       3                             Heikkinen, Miss. Laina   \n",
       "3         1       1       Futrelle, Mrs. Jacques Heath (Lily May Peel)   \n",
       "4         0       3                           Allen, Mr. William Henry   \n",
       "\n",
       "      Sex   Age  SibSp  Parch     Fare Cabin Embarked  \n",
       "0    male  22.0      1      0   7.2500   NaN        S  \n",
       "1  female  38.0      1      0  71.2833   C85        C  \n",
       "2  female  26.0      0      0   7.9250   NaN        S  \n",
       "3  female  35.0      1      0  53.1000  C123        S  \n",
       "4    male  35.0      0      0   8.0500   NaN        S  "
      ]
     },
     "execution_count": 21,
     "metadata": {},
     "output_type": "execute_result"
    }
   ],
   "source": [
    "df.drop(columns=['Ticket'],inplace=True)\n",
    "df.head()"
   ]
  },
  {
   "cell_type": "markdown",
   "id": "744d963e",
   "metadata": {},
   "source": [
    "The missing values in the Age column will be replaced with the median of the available values. This method is chosen because the median is less sensitive to outliers and provides a more robust estimate of central tendency, making it a suitable choice for imputing missing numerical data."
   ]
  },
  {
   "cell_type": "code",
   "execution_count": 22,
   "id": "28b1a2ae",
   "metadata": {},
   "outputs": [],
   "source": [
    "# Fill the missing values in 'Age' with the median\n",
    "df['Age'] = df['Age'].fillna(df['Age'].median())"
   ]
  },
  {
   "cell_type": "code",
   "execution_count": 23,
   "id": "5f106585",
   "metadata": {},
   "outputs": [
    {
     "data": {
      "text/plain": [
       "0"
      ]
     },
     "execution_count": 23,
     "metadata": {},
     "output_type": "execute_result"
    }
   ],
   "source": [
    "# Verify that there are no missing values in the 'Age' column\n",
    "df['Age'].isnull().sum()"
   ]
  },
  {
   "cell_type": "markdown",
   "id": "2ea8ac38",
   "metadata": {},
   "source": [
    "A verification step is performed to ensure that there are no remaining missing values in the Age column after the imputation process. This confirms that the data has been successfully cleaned and is ready for further analysis.\n",
    "\n",
    "The missing values in the Embarked column will be replaced using the mode, as it represents the most frequently occurring value in the column. This is a common approach for imputing missing values in categorical variables. After the imputation, a verification step will be conducted to ensure that no missing values remain in the Embarked column."
   ]
  },
  {
   "cell_type": "code",
   "execution_count": 24,
   "id": "71fc1145",
   "metadata": {},
   "outputs": [
    {
     "data": {
      "text/plain": [
       "0"
      ]
     },
     "execution_count": 24,
     "metadata": {},
     "output_type": "execute_result"
    }
   ],
   "source": [
    "# Fill missing values in 'Embarked' with the most frequent value (mode)\n",
    "df['Embarked'] = df['Embarked'].fillna(df['Embarked'].mode()[0])\n",
    "\n",
    "# Verify that there are no missing values in the 'Embarked' column\n",
    "df['Embarked'].isnull().sum()"
   ]
  },
  {
   "cell_type": "markdown",
   "id": "43e5cea6",
   "metadata": {},
   "source": [
    "For the missing values in the Cabin column, a new category called 'Unknown' will be created. These missing values will be replaced with this new category, allowing the column to retain its structure while handling the missing data in a meaningful way. A verification step will then be performed to ensure that there are no remaining missing values in the Cabin column after the imputation with the 'Unknown' category."
   ]
  },
  {
   "cell_type": "code",
   "execution_count": 25,
   "id": "d938305f",
   "metadata": {},
   "outputs": [
    {
     "data": {
      "text/plain": [
       "Survived    0\n",
       "Pclass      0\n",
       "Name        0\n",
       "Sex         0\n",
       "Age         0\n",
       "SibSp       0\n",
       "Parch       0\n",
       "Fare        0\n",
       "Cabin       0\n",
       "Embarked    0\n",
       "dtype: int64"
      ]
     },
     "execution_count": 25,
     "metadata": {},
     "output_type": "execute_result"
    }
   ],
   "source": [
    "#Filling missing values in \"Cabin\" feature by creating a new category 'unknown' in the variable\n",
    "df['Cabin'].fillna('Unknown', inplace=True)\n",
    "df['Embarked'].fillna('Unknown', inplace=True)\n",
    "#Checking number of missing values\n",
    "df.isna().sum()"
   ]
  },
  {
   "cell_type": "markdown",
   "id": "aa71bbbb",
   "metadata": {},
   "source": [
    "The Sex column and the Embarked column will be transformed into numeric values. This is necessary because algorithms such as logistic regression, decision trees, and neural networks rely on mathematical operations (such as multiplication, addition, etc.). If textual values (like \"male\" or \"female\") are provided, the algorithms would not be able to process them. Therefore, the textual values will be converted into numerical representations, allowing the model to interpret and process them correctly."
   ]
  },
  {
   "cell_type": "code",
   "execution_count": 26,
   "id": "40dfa29f",
   "metadata": {},
   "outputs": [
    {
     "data": {
      "text/html": [
       "<div>\n",
       "<style scoped>\n",
       "    .dataframe tbody tr th:only-of-type {\n",
       "        vertical-align: middle;\n",
       "    }\n",
       "\n",
       "    .dataframe tbody tr th {\n",
       "        vertical-align: top;\n",
       "    }\n",
       "\n",
       "    .dataframe thead th {\n",
       "        text-align: right;\n",
       "    }\n",
       "</style>\n",
       "<table border=\"1\" class=\"dataframe\">\n",
       "  <thead>\n",
       "    <tr style=\"text-align: right;\">\n",
       "      <th></th>\n",
       "      <th>Sex</th>\n",
       "      <th>Embarked</th>\n",
       "    </tr>\n",
       "  </thead>\n",
       "  <tbody>\n",
       "    <tr>\n",
       "      <th>0</th>\n",
       "      <td>0</td>\n",
       "      <td>2</td>\n",
       "    </tr>\n",
       "    <tr>\n",
       "      <th>1</th>\n",
       "      <td>1</td>\n",
       "      <td>0</td>\n",
       "    </tr>\n",
       "    <tr>\n",
       "      <th>2</th>\n",
       "      <td>1</td>\n",
       "      <td>2</td>\n",
       "    </tr>\n",
       "    <tr>\n",
       "      <th>3</th>\n",
       "      <td>1</td>\n",
       "      <td>2</td>\n",
       "    </tr>\n",
       "    <tr>\n",
       "      <th>4</th>\n",
       "      <td>0</td>\n",
       "      <td>2</td>\n",
       "    </tr>\n",
       "  </tbody>\n",
       "</table>\n",
       "</div>"
      ],
      "text/plain": [
       "   Sex  Embarked\n",
       "0    0         2\n",
       "1    1         0\n",
       "2    1         2\n",
       "3    1         2\n",
       "4    0         2"
      ]
     },
     "execution_count": 26,
     "metadata": {},
     "output_type": "execute_result"
    }
   ],
   "source": [
    "# Convert 'Sex' column to numeric (0 for male, 1 for female)\n",
    "df['Sex'] = df['Sex'].map({'male': 0, 'female': 1})\n",
    "\n",
    "# Convert 'Embarked' column to numeric (C = 0, Q = 1, S = 2)\n",
    "df['Embarked'] = df['Embarked'].map({'C': 0, 'Q': 1, 'S': 2})\n",
    "\n",
    "# Verify the changes\n",
    "df[['Sex', 'Embarked']].head()"
   ]
  },
  {
   "cell_type": "markdown",
   "id": "a99d8655",
   "metadata": {},
   "source": [
    "By converting categorical variables into numbers, models can more easily identify patterns and make more accurate predictions. For example, by converting \"male\" and \"female\" to 0 and 1, the model can learn the relationships between these categories and the target variable (in this case, whether the passengers survived or not on the Titanic)."
   ]
  },
  {
   "cell_type": "markdown",
   "id": "e34a92fd",
   "metadata": {},
   "source": [
    "# 4.2 Data Visualization"
   ]
  },
  {
   "cell_type": "markdown",
   "id": "5b6f29f6",
   "metadata": {},
   "source": [
    "We will now move on to data visualization, which is a crucial part of the analysis. Visualizing the data allows for better understanding of the patterns, distributions, and relationships within the dataset, making it easier to draw meaningful conclusions and insights.\n",
    "We will now import the necessary libraries for data visualization, such as seaborn and matplotlib. These libraries will allow us to create a variety of visualizations, helping us better understand the patterns and relationships within the dataset."
   ]
  },
  {
   "cell_type": "code",
   "execution_count": 27,
   "id": "e3a143eb",
   "metadata": {},
   "outputs": [],
   "source": [
    "import seaborn as sns\n",
    "import matplotlib.pyplot as plt"
   ]
  },
  {
   "cell_type": "code",
   "execution_count": 28,
   "id": "c5080719",
   "metadata": {},
   "outputs": [
    {
     "data": {
      "image/png": "[encoded data removed]",
      "text/plain": [
       "<Figure size 576x432 with 1 Axes>"
      ]
     },
     "metadata": {
      "needs_background": "light"
     },
     "output_type": "display_data"
    }
   ],
   "source": [
    "# Plot the distribution of the target variable 'Survived'\n",
    "plt.figure(figsize=(8, 6))  # Ajustar el tamaño del gráfico\n",
    "ax = sns.countplot(data=df, x='Survived', palette='Set1') \n",
    "\n",
    "#Title of the graphic\n",
    "plt.title('Survival Distribution')\n",
    "\n",
    "# Calculating percentages\n",
    "total = len(df)  \n",
    "for p in ax.patches:\n",
    "    height = p.get_height()\n",
    "    percentage = (height / total) * 100\n",
    "    ax.annotate(f'{percentage:.1f}%',  \n",
    "                (p.get_x() + p.get_width() / 2., height),  \n",
    "                ha='center', va='bottom', fontsize=12) \n",
    "\n",
    "# Mostrar un cartel con etiquetas (fuera del gráfico)\n",
    "ax.set_xticklabels(['Did not survive', 'Survived'], rotation=0)  #Adding tags\n",
    "\n",
    "# Plot graphic\n",
    "plt.show()"
   ]
  },
  {
   "cell_type": "code",
   "execution_count": 29,
   "id": "7eba7b4f",
   "metadata": {},
   "outputs": [
    {
     "data": {
      "image/png": "[encoded data removed]",
      "text/plain": [
       "<Figure size 432x288 with 1 Axes>"
      ]
     },
     "metadata": {
      "needs_background": "light"
     },
     "output_type": "display_data"
    },
    {
     "data": {
      "image/png": "[encoded data removed]",
      "text/plain": [
       "<Figure size 432x288 with 1 Axes>"
      ]
     },
     "metadata": {
      "needs_background": "light"
     },
     "output_type": "display_data"
    }
   ],
   "source": [
    "# Plot Age distribution by Survival\n",
    "sns.histplot(data=df, x='Age', hue='Survived', multiple=\"stack\", kde=True)\n",
    "plt.title('Age Distribution by Survival')\n",
    "plt.show()\n",
    "\n",
    "# Plot Fare distribution by Survival\n",
    "sns.histplot(data=df, x='Fare', hue='Survived', multiple=\"stack\", kde=True)\n",
    "plt.title('Fare Distribution by Survival')\n",
    "plt.show()"
   ]
  },
  {
   "cell_type": "code",
   "execution_count": 30,
   "id": "101eb64d",
   "metadata": {},
   "outputs": [
    {
     "data": {
      "image/png": "[encoded data removed]",
      "text/plain": [
       "<Figure size 432x288 with 1 Axes>"
      ]
     },
     "metadata": {
      "needs_background": "light"
     },
     "output_type": "display_data"
    },
    {
     "data": {
      "image/png": "[encoded data removed]",
      "text/plain": [
       "<Figure size 432x288 with 1 Axes>"
      ]
     },
     "metadata": {
      "needs_background": "light"
     },
     "output_type": "display_data"
    }
   ],
   "source": [
    "# Gender vs Survival\n",
    "sns.countplot(data=df, x='Sex', hue='Survived')\n",
    "plt.title('Survival by Gender')\n",
    "plt.show()\n",
    "\n",
    "# Pclass (Passenger Class) vs Survival\n",
    "sns.countplot(data=df, x='Pclass', hue='Survived')\n",
    "plt.title('Survival by Passenger Class')\n",
    "plt.show()"
   ]
  },
  {
   "cell_type": "markdown",
   "id": "33eef9da",
   "metadata": {},
   "source": [
    "# 5. Machine Learning"
   ]
  },
  {
   "cell_type": "markdown",
   "id": "7472bb4f",
   "metadata": {},
   "source": [
    "Now we are going to prepare the data for the model.\n",
    "We will split the dataset into features (X) and the target variable (y).\n",
    "The target variable is Survived (whether the passenger survived or not), and the features will include all the other columns."
   ]
  },
  {
   "cell_type": "code",
   "execution_count": 31,
   "id": "055e515a",
   "metadata": {},
   "outputs": [],
   "source": [
    "# Define the target variable (y) and features (X)\n",
    "X = df.drop(columns=['Survived'])\n",
    "y = df['Survived']"
   ]
  },
  {
   "cell_type": "markdown",
   "id": "0f543e05",
   "metadata": {},
   "source": [
    "We will use one part of the dataset to train the model and another part to evaluate its performance.\n",
    "A common practice is to split the data using 80% for training and 20% for testing."
   ]
  },
  {
   "cell_type": "code",
   "execution_count": 32,
   "id": "aaf41c8b",
   "metadata": {},
   "outputs": [],
   "source": [
    "from sklearn.model_selection import train_test_split\n",
    "\n",
    "# Split the data into training and testing sets (80% train, 20% test)\n",
    "X_train, X_test, y_train, y_test = train_test_split(X, y, test_size=0.2, random_state=42)"
   ]
  },
  {
   "cell_type": "markdown",
   "id": "3bebdb8d",
   "metadata": {},
   "source": [
    "To ensure that the scaling process is applied correctly, only numerical columns are considered. Non-numerical variables are excluded from this step to prevent inconsistencies during preprocessing. The column 'Name' is removed prior to the standardization process, as it contains textual data that does not contribute numerical value to the model and may interfere with feature scaling.\n",
    "\n",
    "After selecting the numerical columns, the features are standardized using the StandardScaler, which transforms the data to have a mean of zero and a standard deviation of one. This step is essential for improving the performance of algorithms that are sensitive to the scale of the data."
   ]
  },
  {
   "cell_type": "code",
   "execution_count": 33,
   "id": "1ea59b84",
   "metadata": {
    "scrolled": true
   },
   "outputs": [],
   "source": [
    "from sklearn.preprocessing import StandardScaler"
   ]
  },
  {
   "cell_type": "code",
   "execution_count": 34,
   "id": "0f39c9ad",
   "metadata": {},
   "outputs": [],
   "source": [
    "# Drop the 'Name' column and other non-numeric columns before scaling\n",
    "X_train_excluded = X_train.drop(columns=['Name'])\n",
    "X_test_excluded = X_test.drop(columns=['Name'])\n",
    "\n",
    "# Select only numeric columns for scaling\n",
    "X_train_numeric = X_train_excluded.select_dtypes(include=['float64', 'int64'])\n",
    "X_test_numeric = X_test_excluded.select_dtypes(include=['float64', 'int64'])\n",
    "\n",
    "# Standardize the numeric features\n",
    "scaler = StandardScaler()\n",
    "X_train_scaled = scaler.fit_transform(X_train_numeric)\n",
    "X_test_scaled = scaler.transform(X_test_numeric)"
   ]
  },
  {
   "cell_type": "markdown",
   "id": "2e8aba67",
   "metadata": {},
   "source": [
    "## 5.1 Logistic Regression"
   ]
  },
  {
   "cell_type": "markdown",
   "id": "d90642b0",
   "metadata": {},
   "source": [
    "Logistic regression is selected as the initial model for this analysis. It is a fundamental binary classification algorithm, suitable for predicting whether a passenger survived or not based on the input features.\n",
    "\n",
    "The training dataset (X_train_scaled and y_train) is used to fit the logistic regression model. This step involves adjusting the model parameters to minimize the error between the predicted and actual values, enabling the model to learn from the data."
   ]
  },
  {
   "cell_type": "code",
   "execution_count": 35,
   "id": "7be68489",
   "metadata": {},
   "outputs": [
    {
     "data": {
      "text/html": [
       "<style>#sk-container-id-1 {color: black;background-color: white;}#sk-container-id-1 pre{padding: 0;}#sk-container-id-1 div.sk-toggleable {background-color: white;}#sk-container-id-1 label.sk-toggleable__label {cursor: pointer;display: block;width: 100%;margin-bottom: 0;padding: 0.3em;box-sizing: border-box;text-align: center;}#sk-container-id-1 label.sk-toggleable__label-arrow:before {content: \"▸\";float: left;margin-right: 0.25em;color: #696969;}#sk-container-id-1 label.sk-toggleable__label-arrow:hover:before {color: black;}#sk-container-id-1 div.sk-estimator:hover label.sk-toggleable__label-arrow:before {color: black;}#sk-container-id-1 div.sk-toggleable__content {max-height: 0;max-width: 0;overflow: hidden;text-align: left;background-color: #f0f8ff;}#sk-container-id-1 div.sk-toggleable__content pre {margin: 0.2em;color: black;border-radius: 0.25em;background-color: #f0f8ff;}#sk-container-id-1 input.sk-toggleable__control:checked~div.sk-toggleable__content {max-height: 200px;max-width: 100%;overflow: auto;}#sk-container-id-1 input.sk-toggleable__control:checked~label.sk-toggleable__label-arrow:before {content: \"▾\";}#sk-container-id-1 div.sk-estimator input.sk-toggleable__control:checked~label.sk-toggleable__label {background-color: #d4ebff;}#sk-container-id-1 div.sk-label input.sk-toggleable__control:checked~label.sk-toggleable__label {background-color: #d4ebff;}#sk-container-id-1 input.sk-hidden--visually {border: 0;clip: rect(1px 1px 1px 1px);clip: rect(1px, 1px, 1px, 1px);height: 1px;margin: -1px;overflow: hidden;padding: 0;position: absolute;width: 1px;}#sk-container-id-1 div.sk-estimator {font-family: monospace;background-color: #f0f8ff;border: 1px dotted black;border-radius: 0.25em;box-sizing: border-box;margin-bottom: 0.5em;}#sk-container-id-1 div.sk-estimator:hover {background-color: #d4ebff;}#sk-container-id-1 div.sk-parallel-item::after {content: \"\";width: 100%;border-bottom: 1px solid gray;flex-grow: 1;}#sk-container-id-1 div.sk-label:hover label.sk-toggleable__label {background-color: #d4ebff;}#sk-container-id-1 div.sk-serial::before {content: \"\";position: absolute;border-left: 1px solid gray;box-sizing: border-box;top: 0;bottom: 0;left: 50%;z-index: 0;}#sk-container-id-1 div.sk-serial {display: flex;flex-direction: column;align-items: center;background-color: white;padding-right: 0.2em;padding-left: 0.2em;position: relative;}#sk-container-id-1 div.sk-item {position: relative;z-index: 1;}#sk-container-id-1 div.sk-parallel {display: flex;align-items: stretch;justify-content: center;background-color: white;position: relative;}#sk-container-id-1 div.sk-item::before, #sk-container-id-1 div.sk-parallel-item::before {content: \"\";position: absolute;border-left: 1px solid gray;box-sizing: border-box;top: 0;bottom: 0;left: 50%;z-index: -1;}#sk-container-id-1 div.sk-parallel-item {display: flex;flex-direction: column;z-index: 1;position: relative;background-color: white;}#sk-container-id-1 div.sk-parallel-item:first-child::after {align-self: flex-end;width: 50%;}#sk-container-id-1 div.sk-parallel-item:last-child::after {align-self: flex-start;width: 50%;}#sk-container-id-1 div.sk-parallel-item:only-child::after {width: 0;}#sk-container-id-1 div.sk-dashed-wrapped {border: 1px dashed gray;margin: 0 0.4em 0.5em 0.4em;box-sizing: border-box;padding-bottom: 0.4em;background-color: white;}#sk-container-id-1 div.sk-label label {font-family: monospace;font-weight: bold;display: inline-block;line-height: 1.2em;}#sk-container-id-1 div.sk-label-container {text-align: center;}#sk-container-id-1 div.sk-container {/* jupyter's `normalize.less` sets `[hidden] { display: none; }` but bootstrap.min.css set `[hidden] { display: none !important; }` so we also need the `!important` here to be able to override the default hidden behavior on the sphinx rendered scikit-learn.org. See: https://github.com/scikit-learn/scikit-learn/issues/21755 */display: inline-block !important;position: relative;}#sk-container-id-1 div.sk-text-repr-fallback {display: none;}</style><div id=\"sk-container-id-1\" class=\"sk-top-container\"><div class=\"sk-text-repr-fallback\"><pre>LogisticRegression(random_state=42)</pre><b>In a Jupyter environment, please rerun this cell to show the HTML representation or trust the notebook. <br />On GitHub, the HTML representation is unable to render, please try loading this page with nbviewer.org.</b></div><div class=\"sk-container\" hidden><div class=\"sk-item\"><div class=\"sk-estimator sk-toggleable\"><input class=\"sk-toggleable__control sk-hidden--visually\" id=\"sk-estimator-id-1\" type=\"checkbox\" checked><label for=\"sk-estimator-id-1\" class=\"sk-toggleable__label sk-toggleable__label-arrow\">LogisticRegression</label><div class=\"sk-toggleable__content\"><pre>LogisticRegression(random_state=42)</pre></div></div></div></div></div>"
      ],
      "text/plain": [
       "LogisticRegression(random_state=42)"
      ]
     },
     "execution_count": 35,
     "metadata": {},
     "output_type": "execute_result"
    }
   ],
   "source": [
    "from sklearn.linear_model import LogisticRegression\n",
    "\n",
    "# Create the Logistic Regression model\n",
    "model = LogisticRegression(random_state=42)\n",
    "\n",
    "# Train the model with the training data\n",
    "model.fit(X_train_scaled, y_train)"
   ]
  },
  {
   "cell_type": "markdown",
   "id": "9e6a70f6",
   "metadata": {},
   "source": [
    "After training the model, it is crucial to assess its performance using the test dataset (X_test_scaled and y_test). This evaluation allows for measuring the model’s accuracy and generalizability to new, unseen data."
   ]
  },
  {
   "cell_type": "code",
   "execution_count": 36,
   "id": "184b99b7",
   "metadata": {},
   "outputs": [
    {
     "name": "stdout",
     "output_type": "stream",
     "text": [
      "Accuracy: 80.45%\n"
     ]
    }
   ],
   "source": [
    "# Evaluate the model on the test set\n",
    "y_pred = model.predict(X_test_scaled)\n",
    "\n",
    "# Import accuracy_score to check the model's accuracy\n",
    "from sklearn.metrics import accuracy_score\n",
    "\n",
    "# Calculate the accuracy of the model\n",
    "accuracy = accuracy_score(y_test, y_pred)\n",
    "print(f'Accuracy: {accuracy * 100:.2f}%')"
   ]
  },
  {
   "cell_type": "markdown",
   "id": "9ea41c35",
   "metadata": {},
   "source": [
    "An accuracy of 80.45% represents a solid starting point for a predictive model, especially when working with a dataset like the Titanic. This indicates that the model correctly classified 80.45% of the passengers in the test set.\n",
    "\n",
    "While accuracy is an important metric, it is also valuable to evaluate other performance metrics, such as the confusion matrix, precision, recall, and F1 score. These metrics provide a more comprehensive understanding of the model's performance, particularly in cases where class imbalance or misclassification of specific categories may be of concern."
   ]
  },
  {
   "cell_type": "code",
   "execution_count": 37,
   "id": "59b96e7c",
   "metadata": {},
   "outputs": [
    {
     "name": "stdout",
     "output_type": "stream",
     "text": [
      "Confusion Matrix:\n",
      "[[90 15]\n",
      " [20 54]]\n",
      "\n",
      "Classification Report:\n",
      "              precision    recall  f1-score   support\n",
      "\n",
      "           0       0.82      0.86      0.84       105\n",
      "           1       0.78      0.73      0.76        74\n",
      "\n",
      "    accuracy                           0.80       179\n",
      "   macro avg       0.80      0.79      0.80       179\n",
      "weighted avg       0.80      0.80      0.80       179\n",
      "\n"
     ]
    }
   ],
   "source": [
    "from sklearn.metrics import confusion_matrix, classification_report\n",
    "\n",
    "# Generate the confusion matrix\n",
    "cm = confusion_matrix(y_test, y_pred)\n",
    "print('Confusion Matrix:')\n",
    "print(cm)\n",
    "\n",
    "# Generate the classification report (Precision, Recall, F1-score)\n",
    "print('\\nClassification Report:')\n",
    "print(classification_report(y_test, y_pred))"
   ]
  },
  {
   "cell_type": "markdown",
   "id": "0c5e7331",
   "metadata": {},
   "source": [
    "Performing cross-validation can further enhance the reliability of the model’s performance estimation. It provides a more accurate measure of the model’s ability to generalize by evaluating it on multiple subsets of the data, thus reducing the risk of overfitting and ensuring robust results."
   ]
  },
  {
   "cell_type": "code",
   "execution_count": 38,
   "id": "ef3d6e39",
   "metadata": {},
   "outputs": [
    {
     "name": "stdout",
     "output_type": "stream",
     "text": [
      "Cross-validation scores: [0.82517483 0.8041958  0.78873239 0.73943662 0.80985915]\n",
      "Mean cross-validation score: 0.79\n"
     ]
    }
   ],
   "source": [
    "from sklearn.model_selection import cross_val_score\n",
    "\n",
    "# Perform cross-validation\n",
    "cv_scores = cross_val_score(model, X_train_scaled, y_train, cv=5)  # 5-fold cross-validation\n",
    "print(f'Cross-validation scores: {cv_scores}')\n",
    "print(f'Mean cross-validation score: {cv_scores.mean():.2f}')"
   ]
  },
  {
   "cell_type": "markdown",
   "id": "96f494a3",
   "metadata": {},
   "source": [
    "The results of the cross-validation show variability in accuracy; however, the average cross-validation score is 79%, which is very close to the initial accuracy result of 80.45%. This suggests that the model demonstrates relatively stable performance across different data partitions, indicating its ability to generalize well without significant overfitting."
   ]
  },
  {
   "cell_type": "markdown",
   "id": "fad22738",
   "metadata": {},
   "source": [
    "## 5.2 Decision Tree Classifier"
   ]
  },
  {
   "cell_type": "markdown",
   "id": "979305c6",
   "metadata": {},
   "source": [
    "The Decision Tree Classifier model will now be trained using the preprocessed data. Decision trees are a widely used machine learning algorithm that can handle both classification and regression tasks. In this case, the model will be applied for classification to predict the likelihood of survival on the Titanic."
   ]
  },
  {
   "cell_type": "code",
   "execution_count": 39,
   "id": "e4f727f7",
   "metadata": {},
   "outputs": [
    {
     "name": "stdout",
     "output_type": "stream",
     "text": [
      "Decision Tree Accuracy: 78.21%\n"
     ]
    }
   ],
   "source": [
    "from sklearn.tree import DecisionTreeClassifier\n",
    "from sklearn.model_selection import GridSearchCV, RandomizedSearchCV\n",
    "\n",
    "# Create the Decision Tree model\n",
    "dt_model = DecisionTreeClassifier(random_state=42)\n",
    "\n",
    "# Train the model with the training data\n",
    "dt_model.fit(X_train_scaled, y_train)\n",
    "\n",
    "# Make predictions and evaluate accuracy\n",
    "dt_y_pred = dt_model.predict(X_test_scaled)\n",
    "dt_accuracy = accuracy_score(y_test, dt_y_pred)\n",
    "print(f'Decision Tree Accuracy: {dt_accuracy * 100:.2f}%')"
   ]
  },
  {
   "cell_type": "markdown",
   "id": "dd8d2f70",
   "metadata": {},
   "source": [
    "The Decision Tree model achieved an accuracy of 78.21% on the test dataset. This result reflects a reasonably good performance, demonstrating the model’s ability to classify the majority of instances correctly, although it may still be prone to overfitting due to its structure."
   ]
  },
  {
   "cell_type": "markdown",
   "id": "c8016965",
   "metadata": {},
   "source": [
    "To improve the performance of the model, we will now tune the hyperparameters using GridSearchCV. This method performs an exhaustive search over a specified parameter grid and finds the best combination of hyperparameters that improves the model's performance."
   ]
  },
  {
   "cell_type": "code",
   "execution_count": 40,
   "id": "e8c7776e",
   "metadata": {},
   "outputs": [
    {
     "name": "stdout",
     "output_type": "stream",
     "text": [
      "Best parameters for Decision Tree: {'max_depth': 10, 'min_samples_leaf': 4, 'min_samples_split': 10}\n",
      "Best cross-validation score for Decision Tree: 0.81\n"
     ]
    }
   ],
   "source": [
    "# Define the parameter grid for Decision Tree\n",
    "dt_param_grid = {\n",
    "    'max_depth': [None, 10, 20, 30],\n",
    "    'min_samples_split': [2, 5, 10],\n",
    "    'min_samples_leaf': [1, 2, 4]\n",
    "}\n",
    "\n",
    "# Perform GridSearchCV for Decision Tree\n",
    "dt_grid_search = GridSearchCV(DecisionTreeClassifier(random_state=42), dt_param_grid, cv=5, scoring='accuracy')\n",
    "dt_grid_search.fit(X_train_scaled, y_train)\n",
    "\n",
    "# Print the best parameters and score\n",
    "print(f'Best parameters for Decision Tree: {dt_grid_search.best_params_}')\n",
    "print(f'Best cross-validation score for Decision Tree: {dt_grid_search.best_score_:.2f}')\n"
   ]
  },
  {
   "cell_type": "markdown",
   "id": "abb02d52",
   "metadata": {},
   "source": [
    "Instead of performing an exhaustive search like in GridSearchCV, RandomizedSearchCV randomly samples a fixed number of hyperparameter combinations from a specified grid. This can be more efficient, especially when there are many possible hyperparameters, as it explores the space more broadly but with fewer evaluations."
   ]
  },
  {
   "cell_type": "code",
   "execution_count": 41,
   "id": "7d7773fa",
   "metadata": {},
   "outputs": [
    {
     "name": "stdout",
     "output_type": "stream",
     "text": [
      "Best parameters for Decision Tree (RandomizedSearchCV): {'max_depth': None, 'min_samples_leaf': 14, 'min_samples_split': 19}\n",
      "Best cross-validation score for Decision Tree (RandomizedSearchCV): 0.82\n"
     ]
    }
   ],
   "source": [
    "from scipy.stats import randint\n",
    "\n",
    "# Define the parameter distribution for RandomizedSearchCV\n",
    "dt_param_dist = {\n",
    "    'max_depth': [None, 10, 20, 30],\n",
    "    'min_samples_split': randint(2, 20),\n",
    "    'min_samples_leaf': randint(1, 20)\n",
    "}\n",
    "\n",
    "# Perform RandomizedSearchCV for Decision Tree\n",
    "dt_random_search = RandomizedSearchCV(DecisionTreeClassifier(random_state=42), dt_param_dist, cv=5, scoring='accuracy', n_iter=100, random_state=42)\n",
    "dt_random_search.fit(X_train_scaled, y_train)\n",
    "\n",
    "# Print the best parameters and score\n",
    "print(f'Best parameters for Decision Tree (RandomizedSearchCV): {dt_random_search.best_params_}')\n",
    "print(f'Best cross-validation score for Decision Tree (RandomizedSearchCV): {dt_random_search.best_score_:.2f}')"
   ]
  },
  {
   "cell_type": "markdown",
   "id": "48d2e639",
   "metadata": {},
   "source": [
    "The Decision Tree model performed well with an accuracy of 78.21% on the test set. The highest cross-validation score of 82% suggests that the model is able to generalize effectively, particularly when RandomizedSearchCV is used to fine-tune the hyperparameters. The parameter max_depth set to None in the RandomizedSearchCV results allows the tree to grow deeper, which may enhance its ability to capture complex patterns in the data."
   ]
  },
  {
   "cell_type": "markdown",
   "id": "2925963d",
   "metadata": {},
   "source": [
    "## 5.3 Random Forest"
   ]
  },
  {
   "cell_type": "markdown",
   "id": "46df8c42",
   "metadata": {},
   "source": [
    "Next, the Random Forest model will be trained using the preprocessed data. Random Forest is an ensemble learning algorithm that builds multiple decision trees and combines their predictions to improve overall performance. It is well-suited for classification tasks, such as predicting survival on the Titanic, as it helps mitigate overfitting and enhances generalization by averaging the results of many individual decision trees.\n",
    "\n",
    "The training will be conducted using the preprocessed training dataset (X_train_scaled and y_train), and the model will be evaluated on the test dataset (X_test_scaled and y_test)."
   ]
  },
  {
   "cell_type": "code",
   "execution_count": 42,
   "id": "26b492cc",
   "metadata": {},
   "outputs": [
    {
     "name": "stdout",
     "output_type": "stream",
     "text": [
      "Random Forest Accuracy: 81.56%\n"
     ]
    }
   ],
   "source": [
    "from sklearn.ensemble import RandomForestClassifier\n",
    "\n",
    "# Create the Random Forest model\n",
    "rf_model = RandomForestClassifier(random_state=42)\n",
    "\n",
    "# Train the model with the training data\n",
    "rf_model.fit(X_train_scaled, y_train)\n",
    "\n",
    "# Make predictions and evaluate accuracy\n",
    "rf_y_pred = rf_model.predict(X_test_scaled)\n",
    "rf_accuracy = accuracy_score(y_test, rf_y_pred)\n",
    "print(f'Random Forest Accuracy: {rf_accuracy * 100:.2f}%')"
   ]
  },
  {
   "cell_type": "markdown",
   "id": "1bcea049",
   "metadata": {},
   "source": [
    "To optimize the performance of the Random Forest model, hyperparameter tuning will be performed using GridSearchCV. This method will systematically evaluate various combinations of hyperparameters, such as the number of trees (n_estimators), the maximum depth of the trees (max_depth), and the minimum number of samples required to split a node (min_samples_split). By identifying the optimal values for these parameters, GridSearchCV ensures that the model is configured to achieve the best possible performance on the dataset."
   ]
  },
  {
   "cell_type": "code",
   "execution_count": 43,
   "id": "c528e442",
   "metadata": {},
   "outputs": [
    {
     "name": "stdout",
     "output_type": "stream",
     "text": [
      "Best parameters for Random Forest: {'max_depth': None, 'min_samples_leaf': 2, 'min_samples_split': 10, 'n_estimators': 50}\n",
      "Best cross-validation score for Random Forest: 0.83\n"
     ]
    }
   ],
   "source": [
    "# Define the parameter grid for Random Forest\n",
    "rf_param_grid = {\n",
    "    'n_estimators': [50, 100, 200],\n",
    "    'max_depth': [None, 10, 20, 30],\n",
    "    'min_samples_split': [2, 5, 10],\n",
    "    'min_samples_leaf': [1, 2, 4]\n",
    "}\n",
    "\n",
    "# Perform GridSearchCV for Random Forest\n",
    "rf_grid_search = GridSearchCV(RandomForestClassifier(random_state=42), rf_param_grid, cv=5, scoring='accuracy')\n",
    "rf_grid_search.fit(X_train_scaled, y_train)\n",
    "\n",
    "# Print the best parameters and score\n",
    "print(f'Best parameters for Random Forest: {rf_grid_search.best_params_}')\n",
    "print(f'Best cross-validation score for Random Forest: {rf_grid_search.best_score_:.2f}')\n"
   ]
  },
  {
   "cell_type": "markdown",
   "id": "18a66092",
   "metadata": {},
   "source": [
    "The best cross-validation score obtained with this configuration was 83%, indicating strong predictive performance and robust generalization capabilities. The parameter max_depth set to None allows the individual trees in the ensemble to grow without restriction, potentially capturing more complex patterns in the data. Moreover, using a relatively small number of estimators (50) demonstrates that the model can achieve high performance without excessive computational cost."
   ]
  },
  {
   "cell_type": "code",
   "execution_count": 44,
   "id": "e1663d64",
   "metadata": {},
   "outputs": [
    {
     "name": "stdout",
     "output_type": "stream",
     "text": [
      "Best parameters for Random Forest (RandomizedSearchCV): {'max_depth': 20, 'min_samples_leaf': 2, 'min_samples_split': 13, 'n_estimators': 100}\n",
      "Best cross-validation score for Random Forest (RandomizedSearchCV): 0.83\n"
     ]
    }
   ],
   "source": [
    "# Define the parameter distribution for RandomizedSearchCV\n",
    "rf_param_dist = {\n",
    "    'n_estimators': [50, 100, 200],\n",
    "    'max_depth': [None, 10, 20, 30],\n",
    "    'min_samples_split': randint(2, 20),\n",
    "    'min_samples_leaf': randint(1, 20)\n",
    "}\n",
    "\n",
    "# Perform RandomizedSearchCV for Random Forest\n",
    "rf_random_search = RandomizedSearchCV(RandomForestClassifier(random_state=42), rf_param_dist, cv=5, scoring='accuracy', n_iter=100, random_state=42)\n",
    "rf_random_search.fit(X_train_scaled, y_train)\n",
    "\n",
    "# Print the best parameters and score\n",
    "print(f'Best parameters for Random Forest (RandomizedSearchCV): {rf_random_search.best_params_}')\n",
    "print(f'Best cross-validation score for Random Forest (RandomizedSearchCV): {rf_random_search.best_score_:.2f}')\n"
   ]
  },
  {
   "cell_type": "markdown",
   "id": "f8511740",
   "metadata": {},
   "source": [
    "The best cross-validation score achieved with this configuration was also 83%, matching the result obtained through GridSearchCV. This consistency reinforces the reliability of the model and suggests that multiple hyperparameter combinations can lead to comparable performance. The use of RandomizedSearchCV allowed for a broader and more efficient exploration of the hyperparameter space, ultimately confirming the model’s strong generalization capacity."
   ]
  },
  {
   "cell_type": "markdown",
   "id": "9880fece",
   "metadata": {},
   "source": [
    "## 5.4 SVM"
   ]
  },
  {
   "cell_type": "markdown",
   "id": "f0695d7b",
   "metadata": {},
   "source": [
    "The next algorithm implemented is the Support Vector Machine (SVM) classifier. SVM is a powerful supervised learning method used for classification tasks. It works by finding the optimal hyperplane that best separates the classes in the feature space.\n",
    "\n",
    "In this project, the SVM model is trained using the preprocessed training data (X_train_scaled and y_train), which has been standardized to ensure that the algorithm performs effectively, given its sensitivity to the scale of the features."
   ]
  },
  {
   "cell_type": "code",
   "execution_count": 45,
   "id": "19c5dff9",
   "metadata": {},
   "outputs": [
    {
     "name": "stdout",
     "output_type": "stream",
     "text": [
      "SVM Accuracy: 81.56%\n"
     ]
    }
   ],
   "source": [
    "from sklearn.svm import SVC\n",
    "\n",
    "# Create the SVM model\n",
    "svm_model = SVC(random_state=42)\n",
    "\n",
    "# Train the model with the training data\n",
    "svm_model.fit(X_train_scaled, y_train)\n",
    "\n",
    "# Make predictions and evaluate accuracy\n",
    "svm_y_pred = svm_model.predict(X_test_scaled)\n",
    "svm_accuracy = accuracy_score(y_test, svm_y_pred)\n",
    "print(f'SVM Accuracy: {svm_accuracy * 100:.2f}%')\n"
   ]
  },
  {
   "cell_type": "markdown",
   "id": "03bc2e9a",
   "metadata": {},
   "source": [
    "The SVM model achieved an accuracy of 81.56% on the test dataset. This result indicates strong predictive performance, demonstrating the model's ability to correctly classify a high proportion of instances. The SVM's robustness and effectiveness in handling high-dimensional data contribute to its solid performance in this classification task."
   ]
  },
  {
   "cell_type": "code",
   "execution_count": 46,
   "id": "82c47146",
   "metadata": {},
   "outputs": [
    {
     "name": "stdout",
     "output_type": "stream",
     "text": [
      "Best parameters for SVM: {'C': 1, 'gamma': 'scale', 'kernel': 'rbf'}\n",
      "Best cross-validation score for SVM: 0.82\n"
     ]
    }
   ],
   "source": [
    "# Define the parameter grid for SVM\n",
    "svm_param_grid = {\n",
    "    'C': [0.1, 1, 10],\n",
    "    'kernel': ['linear', 'rbf'],\n",
    "    'gamma': ['scale', 'auto']\n",
    "}\n",
    "\n",
    "# Perform GridSearchCV for SVM\n",
    "svm_grid_search = GridSearchCV(SVC(random_state=42), svm_param_grid, cv=5, scoring='accuracy')\n",
    "svm_grid_search.fit(X_train_scaled, y_train)\n",
    "\n",
    "# Print the best parameters and score\n",
    "print(f'Best parameters for SVM: {svm_grid_search.best_params_}')\n",
    "print(f'Best cross-validation score for SVM: {svm_grid_search.best_score_:.2f}')\n"
   ]
  },
  {
   "cell_type": "markdown",
   "id": "82d0b1ea",
   "metadata": {},
   "source": [
    "With these parameters, the model achieved a best cross-validation score of 82%, indicating strong and consistent performance across multiple data partitions. The use of the RBF (Radial Basis Function) kernel allows the model to capture non-linear relationships in the data, while the regularization parameter C = 1 balances the trade-off between maximizing the margin and minimizing classification errors."
   ]
  },
  {
   "cell_type": "code",
   "execution_count": 47,
   "id": "dda198cd",
   "metadata": {},
   "outputs": [
    {
     "name": "stderr",
     "output_type": "stream",
     "text": [
      "C:\\Users\\anrse\\Anaconda3\\lib\\site-packages\\sklearn\\model_selection\\_search.py:306: UserWarning: The total space of parameters 16 is smaller than n_iter=100. Running 16 iterations. For exhaustive searches, use GridSearchCV.\n",
      "  warnings.warn(\n"
     ]
    },
    {
     "name": "stdout",
     "output_type": "stream",
     "text": [
      "Best parameters for SVM (RandomizedSearchCV): {'kernel': 'rbf', 'gamma': 'scale', 'C': 1}\n",
      "Best cross-validation score for SVM (RandomizedSearchCV): 0.82\n"
     ]
    }
   ],
   "source": [
    "# Define the parameter distribution for RandomizedSearchCV\n",
    "svm_param_dist = {\n",
    "    'C': [0.1, 1, 10, 100],\n",
    "    'kernel': ['linear', 'rbf'],\n",
    "    'gamma': ['scale', 'auto']\n",
    "}\n",
    "\n",
    "# Perform RandomizedSearchCV for SVM\n",
    "svm_random_search = RandomizedSearchCV(SVC(random_state=42), svm_param_dist, cv=5, scoring='accuracy', n_iter=100, random_state=42)\n",
    "svm_random_search.fit(X_train_scaled, y_train)\n",
    "\n",
    "# Print the best parameters and score\n",
    "print(f'Best parameters for SVM (RandomizedSearchCV): {svm_random_search.best_params_}')\n",
    "print(f'Best cross-validation score for SVM (RandomizedSearchCV): {svm_random_search.best_score_:.2f}')\n"
   ]
  },
  {
   "cell_type": "markdown",
   "id": "c8fd7fae",
   "metadata": {},
   "source": [
    "The best cross-validation score obtained with this setup was 82%, consistent with the results from GridSearchCV. This alignment between both search methods reinforces the reliability and stability of the model’s configuration. The RBF kernel continues to demonstrate its effectiveness in capturing non-linear patterns, and the selected values for C and gamma provide a balanced model with strong generalization capabilities."
   ]
  },
  {
   "cell_type": "code",
   "execution_count": 48,
   "id": "065eea73",
   "metadata": {},
   "outputs": [
    {
     "name": "stdout",
     "output_type": "stream",
     "text": [
      "Decision Tree Accuracy: 78.21%\n",
      "Random Forest Accuracy: 81.56%\n",
      "SVM Accuracy: 81.56%\n"
     ]
    }
   ],
   "source": [
    "# Print a comparison of all models\n",
    "print(f'Decision Tree Accuracy: {dt_accuracy * 100:.2f}%')\n",
    "print(f'Random Forest Accuracy: {rf_accuracy * 100:.2f}%')\n",
    "print(f'SVM Accuracy: {svm_accuracy * 100:.2f}%')"
   ]
  },
  {
   "cell_type": "markdown",
   "id": "86d8b848",
   "metadata": {},
   "source": [
    "Among the models evaluated, Random Forest and SVM demonstrates the best overall performance. It achieved the highest accuracy on the test set with 81.56%, and also both obtained the highest cross-validation score of 83%, indicating strong generalization capabilities and robustness across different subsets of data.\n",
    "\n",
    "While Logistic Regression and Decision Tree models also showed competitive results, with similar accuracy levels and cross-validation scores, Random Forest and SVM stands out by a small but meaningful margin in both metrics. "
   ]
  },
  {
   "cell_type": "markdown",
   "id": "eaed9d99",
   "metadata": {},
   "source": [
    "## Final Evaluation"
   ]
  },
  {
   "cell_type": "code",
   "execution_count": 49,
   "id": "34da1599",
   "metadata": {},
   "outputs": [
    {
     "data": {
      "image/png": "[encoded data removed]",
      "text/plain": [
       "<Figure size 576x432 with 2 Axes>"
      ]
     },
     "metadata": {
      "needs_background": "light"
     },
     "output_type": "display_data"
    }
   ],
   "source": [
    "from sklearn.metrics import confusion_matrix\n",
    "import seaborn as sns\n",
    "import matplotlib.pyplot as plt\n",
    "\n",
    "# Predict with the Random Forest model\n",
    "y_pred = rf_model.predict(X_test_scaled)\n",
    "\n",
    "# Generate the confusion matrix\n",
    "cm = confusion_matrix(y_test, y_pred)\n",
    "\n",
    "# Plot the confusion matrix using a heatmap\n",
    "plt.figure(figsize=(8, 6))\n",
    "sns.heatmap(cm, annot=True, fmt='d', cmap='Blues', xticklabels=['Not Survived', 'Survived'], yticklabels=['Not Survived', 'Survived'])\n",
    "plt.xlabel('Predicted')\n",
    "plt.ylabel('True')\n",
    "plt.title('Confusion Matrix')\n",
    "plt.show()\n"
   ]
  },
  {
   "cell_type": "code",
   "execution_count": 50,
   "id": "7c3bc6a2",
   "metadata": {},
   "outputs": [
    {
     "name": "stdout",
     "output_type": "stream",
     "text": [
      "Precision: 0.79\n",
      "Recall: 0.76\n",
      "F1 Score: 0.77\n"
     ]
    }
   ],
   "source": [
    "from sklearn.metrics import precision_score, recall_score, f1_score\n",
    "\n",
    "# Calculate precision, recall, and F1-score\n",
    "precision = precision_score(y_test, y_pred)\n",
    "recall = recall_score(y_test, y_pred)\n",
    "f1 = f1_score(y_test, y_pred)\n",
    "\n",
    "# Print the results\n",
    "print(f'Precision: {precision:.2f}')\n",
    "print(f'Recall: {recall:.2f}')\n",
    "print(f'F1 Score: {f1:.2f}')\n"
   ]
  },
  {
   "cell_type": "markdown",
   "id": "89ee35dc",
   "metadata": {},
   "source": [
    "The model's precision of 79% indicates that 79% of the passengers predicted as non-survivors were correctly classified. This reflects the model's ability to minimize false positives in predicting non-survival.\n",
    "\n",
    "The recall of 76% reveals that the model successfully identified 76% of the actual survivors, highlighting its effectiveness in capturing true positive cases.\n",
    "\n",
    "The F1-score of 0.77 represents a balanced trade-off between precision and recall. This value suggests that the model maintains a solid equilibrium between correctly identifying survivors and minimizing incorrect classifications, making it a reliable tool for binary classification in this context."
   ]
  },
  {
   "cell_type": "code",
   "execution_count": 51,
   "id": "69dac520",
   "metadata": {},
   "outputs": [
    {
     "data": {
      "image/png": "[encoded data removed]",
      "text/plain": [
       "<Figure size 576x432 with 1 Axes>"
      ]
     },
     "metadata": {
      "needs_background": "light"
     },
     "output_type": "display_data"
    }
   ],
   "source": [
    "from sklearn.metrics import roc_curve, auc\n",
    "\n",
    "# Get predicted probabilities for the positive class\n",
    "y_prob = rf_model.predict_proba(X_test_scaled)[:, 1]\n",
    "\n",
    "# Calculate the ROC curve\n",
    "fpr, tpr, thresholds = roc_curve(y_test, y_prob)\n",
    "\n",
    "# Calculate the AUC\n",
    "roc_auc = auc(fpr, tpr)\n",
    "\n",
    "# Plot the ROC curve\n",
    "plt.figure(figsize=(8, 6))\n",
    "plt.plot(fpr, tpr, color='blue', label=f'ROC curve (AUC = {roc_auc:.2f})')\n",
    "plt.plot([0, 1], [0, 1], color='gray', linestyle='--')\n",
    "plt.xlabel('False Positive Rate')\n",
    "plt.ylabel('True Positive Rate')\n",
    "plt.title('ROC Curve')\n",
    "plt.legend(loc='lower right')\n",
    "plt.show()\n"
   ]
  },
  {
   "cell_type": "code",
   "execution_count": 52,
   "id": "753b6dd5",
   "metadata": {},
   "outputs": [
    {
     "name": "stdout",
     "output_type": "stream",
     "text": [
      "AUC: 0.89\n"
     ]
    }
   ],
   "source": [
    "print(f'AUC: {roc_auc:.2f}')\n"
   ]
  },
  {
   "cell_type": "markdown",
   "id": "af9c7d73",
   "metadata": {},
   "source": [
    "The Area Under the ROC Curve (AUC) is a metric that evaluates the model's ability to distinguish between the two classes—in this case, “Survived” and “Did not survive.” An AUC value of 0.89 indicates that the model has an 89% probability of correctly distinguishing between a randomly chosen survivor and a non-survivor.\n",
    "\n",
    "This score demonstrates excellent classification capability. In general, an AUC above 0.80 is considered strong, as it reflects a high degree of separability between the classes. Therefore, an AUC of 0.89 confirms that the model performs very well in differentiating the survival status of passengers."
   ]
  },
  {
   "cell_type": "markdown",
   "id": "b5f63b96",
   "metadata": {},
   "source": [
    "# Conclusions"
   ]
  },
  {
   "cell_type": "markdown",
   "id": "931af08c",
   "metadata": {},
   "source": [
    "**1.** Random Forest has proven to be an excellent model for this binary classification problem (survived/non-survived) using the Titanic dataset. The model’s performance has been very solid, particularly its ability to distinguish between classes, with an AUC of 0.89. This AUC value indicates that the model has a high capability to correctly classify passengers as survivors or non-survivors, which is crucial for this problem.\n",
    "\n",
    "The performance metrics are also favorable. The accuracy of 79%, recall of 76%, and F1-score of 77% show that the model maintains a good balance between making correct predictions and correctly identifying survivors.\n",
    "\n",
    "**2.** An AUC close to 1 is a strong indicator that the model has a great ability to distinguish between the two classes, in this case, survivors and non-survivors. The 0.89 value confirms that the model performs exceptionally well and has high classification capability.\n",
    "\n",
    "**3.** The model's precision of 79% means that it correctly predicted 79% of the passengers who did not survive. While the performance is good, there is slight room for improvement in terms of correctly predicting non-survivors.\n",
    "\n",
    "**4.** The recall of 76% indicates that the model successfully identified 76% of the actual survivors. This is a solid result, but there is still room for improvement in reducing false negatives (i.e., survivors who were incorrectly classified as non-survivors).\n",
    "\n",
    "**5.** The F1-score of 77% is quite solid and indicates a good balance between precision and recall. This value is important in scenarios where both precision and recall are critical, such as predicting survivors, where both false positives and false negatives should be minimized.\n",
    "\n",
    "**6.** During the analysis, missing values were effectively handled. The 'Age' and 'Embarked' columns were imputed appropriately: 'Age' was filled with the median, and 'Embarked' was filled with the mode. This handling of missing data allowed the model to function properly without issues related to incomplete data.\n",
    "\n",
    "The transformation of categorical variables into numerical variables, such as converting 'Sex' to binary values (0/1), and the normalization of features, were key preprocessing steps that helped improve the model's effectiveness.\n",
    "\n",
    "**7.** Although the model demonstrates strong performance, there are potential areas for enhancement:\n",
    "Adjusting the classification threshold to improve recall, prioritizing the identification of survivors at the cost of a lower precision.\n",
    "Using class balancing techniques if the dataset becomes highly imbalanced in future applications (though this was not necessary in the current case).\n",
    "Evaluating other models such as XGBoost or LightGBM, which could also yield strong results for binary classification tasks. \n",
    "\n",
    "**8.** The Random Forest model, after preprocessing adjustments and hyperparameter optimization, demonstrates solid performance in predicting the survival of Titanic passengers. The model achieves a good balance between accuracy and recall, with a strong ability to distinguish between the classes, as indicated by the AUC of 0.89."
   ]
  },
  {
   "cell_type": "code",
   "execution_count": null,
   "id": "9d8f4cfd",
   "metadata": {},
   "outputs": [],
   "source": []
  }
 ],
 "metadata": {
  "kernelspec": {
   "display_name": "Python 3 (ipykernel)",
   "language": "python",
   "name": "python3"
  },
  "language_info": {
   "codemirror_mode": {
    "name": "ipython",
    "version": 3
   },
   "file_extension": ".py",
   "mimetype": "text/x-python",
   "name": "python",
   "nbconvert_exporter": "python",
   "pygments_lexer": "ipython3",
   "version": "3.9.12"
  }
 },
 "nbformat": 4,
 "nbformat_minor": 5
}
